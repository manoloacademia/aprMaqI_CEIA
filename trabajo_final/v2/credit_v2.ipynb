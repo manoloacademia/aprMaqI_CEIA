{
 "cells": [
  {
   "cell_type": "code",
   "execution_count": 1,
   "id": "c0232868-6a24-4c5f-b2e8-4f8076326d04",
   "metadata": {},
   "outputs": [],
   "source": [
    "import numpy as np\n",
    "import matplotlib.pyplot as plt\n",
    "import pandas as pd\n",
    "import seaborn as sns"
   ]
  },
  {
   "cell_type": "code",
   "execution_count": 104,
   "id": "c887ae57-148f-4425-8c11-f64743d837b7",
   "metadata": {},
   "outputs": [],
   "source": [
    "from sklearn.preprocessing import StandardScaler\n",
    "from sklearn.preprocessing import OneHotEncoder\n",
    "from sklearn.linear_model import LogisticRegression, LinearRegression\n",
    "from sklearn.model_selection import train_test_split\n",
    "from sklearn.metrics import classification_report, confusion_matrix, auc, roc_curve, ConfusionMatrixDisplay\n",
    "from sklearn.metrics import r2_score, mean_absolute_error, mean_squared_error, mean_absolute_percentage_error"
   ]
  },
  {
   "cell_type": "code",
   "execution_count": 3,
   "id": "fafcf01a-ee97-4a2e-adc6-e49d18ebbc79",
   "metadata": {},
   "outputs": [],
   "source": [
    "#Sklean no tiene el error porcentual medio (MPE) lo vamos a crear nosotros\n",
    "def mean_porcentual_error(yreal, ypred):\n",
    "    return np.mean((yreal-ypred)/yreal)"
   ]
  },
  {
   "cell_type": "code",
   "execution_count": 4,
   "id": "b8b98f65-a28b-4e23-8091-5d1b3cd42a5c",
   "metadata": {},
   "outputs": [],
   "source": [
    "import statsmodels.api as sm"
   ]
  },
  {
   "cell_type": "markdown",
   "id": "df0d9850-4780-44d1-af2a-ed1c1a01d051",
   "metadata": {},
   "source": [
    "Acceso al [Kaggle](https://www.kaggle.com/datasets/yashkmd/credit-profile-two-wheeler-loan-dataset)\n",
    "- Se puede plantear un problema de regresión con el score.\n",
    "- Se puede plantear un problema de clasificación con un umbral (o varios) para ver si pasa o no."
   ]
  },
  {
   "cell_type": "code",
   "execution_count": 5,
   "id": "153d6f18-89ef-4c9e-99fa-fa103912d55e",
   "metadata": {},
   "outputs": [
    {
     "data": {
      "text/html": [
       "<div>\n",
       "<style scoped>\n",
       "    .dataframe tbody tr th:only-of-type {\n",
       "        vertical-align: middle;\n",
       "    }\n",
       "\n",
       "    .dataframe tbody tr th {\n",
       "        vertical-align: top;\n",
       "    }\n",
       "\n",
       "    .dataframe thead th {\n",
       "        text-align: right;\n",
       "    }\n",
       "</style>\n",
       "<table border=\"1\" class=\"dataframe\">\n",
       "  <thead>\n",
       "    <tr style=\"text-align: right;\">\n",
       "      <th></th>\n",
       "      <th>Age</th>\n",
       "      <th>Gender</th>\n",
       "      <th>Income</th>\n",
       "      <th>Credit Score</th>\n",
       "      <th>Credit History Length</th>\n",
       "      <th>Number of Existing Loans</th>\n",
       "      <th>Loan Amount</th>\n",
       "      <th>Loan Tenure</th>\n",
       "      <th>Existing Customer</th>\n",
       "      <th>State</th>\n",
       "      <th>City</th>\n",
       "      <th>LTV Ratio</th>\n",
       "      <th>Employment Profile</th>\n",
       "      <th>Profile Score</th>\n",
       "      <th>Occupation</th>\n",
       "    </tr>\n",
       "  </thead>\n",
       "  <tbody>\n",
       "    <tr>\n",
       "      <th>0</th>\n",
       "      <td>31</td>\n",
       "      <td>Male</td>\n",
       "      <td>36000</td>\n",
       "      <td>604</td>\n",
       "      <td>487</td>\n",
       "      <td>5</td>\n",
       "      <td>109373</td>\n",
       "      <td>221</td>\n",
       "      <td>No</td>\n",
       "      <td>Karnataka</td>\n",
       "      <td>Mysuru</td>\n",
       "      <td>90.943430</td>\n",
       "      <td>Salaried</td>\n",
       "      <td>77</td>\n",
       "      <td>Doctor</td>\n",
       "    </tr>\n",
       "    <tr>\n",
       "      <th>1</th>\n",
       "      <td>25</td>\n",
       "      <td>Male</td>\n",
       "      <td>50000</td>\n",
       "      <td>447</td>\n",
       "      <td>386</td>\n",
       "      <td>2</td>\n",
       "      <td>150000</td>\n",
       "      <td>89</td>\n",
       "      <td>No</td>\n",
       "      <td>Karnataka</td>\n",
       "      <td>Bengaluru</td>\n",
       "      <td>91.135253</td>\n",
       "      <td>Salaried</td>\n",
       "      <td>43</td>\n",
       "      <td>Software Engineer</td>\n",
       "    </tr>\n",
       "    <tr>\n",
       "      <th>2</th>\n",
       "      <td>62</td>\n",
       "      <td>Other</td>\n",
       "      <td>178000</td>\n",
       "      <td>850</td>\n",
       "      <td>503</td>\n",
       "      <td>10</td>\n",
       "      <td>69099</td>\n",
       "      <td>110</td>\n",
       "      <td>Yes</td>\n",
       "      <td>Uttar Pradesh</td>\n",
       "      <td>Kanpur</td>\n",
       "      <td>40.000000</td>\n",
       "      <td>Salaried</td>\n",
       "      <td>90</td>\n",
       "      <td>Banker</td>\n",
       "    </tr>\n",
       "    <tr>\n",
       "      <th>3</th>\n",
       "      <td>69</td>\n",
       "      <td>Female</td>\n",
       "      <td>46000</td>\n",
       "      <td>668</td>\n",
       "      <td>349</td>\n",
       "      <td>6</td>\n",
       "      <td>150000</td>\n",
       "      <td>148</td>\n",
       "      <td>Yes</td>\n",
       "      <td>Karnataka</td>\n",
       "      <td>Bengaluru</td>\n",
       "      <td>87.393365</td>\n",
       "      <td>Self-Employed</td>\n",
       "      <td>86</td>\n",
       "      <td>Contractor</td>\n",
       "    </tr>\n",
       "    <tr>\n",
       "      <th>4</th>\n",
       "      <td>52</td>\n",
       "      <td>Male</td>\n",
       "      <td>132000</td>\n",
       "      <td>601</td>\n",
       "      <td>553</td>\n",
       "      <td>5</td>\n",
       "      <td>150000</td>\n",
       "      <td>157</td>\n",
       "      <td>No</td>\n",
       "      <td>Karnataka</td>\n",
       "      <td>Mysuru</td>\n",
       "      <td>66.158757</td>\n",
       "      <td>Salaried</td>\n",
       "      <td>90</td>\n",
       "      <td>Teacher</td>\n",
       "    </tr>\n",
       "  </tbody>\n",
       "</table>\n",
       "</div>"
      ],
      "text/plain": [
       "   Age  Gender  Income  Credit Score  Credit History Length  \\\n",
       "0   31    Male   36000           604                    487   \n",
       "1   25    Male   50000           447                    386   \n",
       "2   62   Other  178000           850                    503   \n",
       "3   69  Female   46000           668                    349   \n",
       "4   52    Male  132000           601                    553   \n",
       "\n",
       "   Number of Existing Loans  Loan Amount  Loan Tenure Existing Customer  \\\n",
       "0                         5       109373          221                No   \n",
       "1                         2       150000           89                No   \n",
       "2                        10        69099          110               Yes   \n",
       "3                         6       150000          148               Yes   \n",
       "4                         5       150000          157                No   \n",
       "\n",
       "           State       City  LTV Ratio Employment Profile  Profile Score  \\\n",
       "0      Karnataka     Mysuru  90.943430           Salaried             77   \n",
       "1      Karnataka  Bengaluru  91.135253           Salaried             43   \n",
       "2  Uttar Pradesh     Kanpur  40.000000           Salaried             90   \n",
       "3      Karnataka  Bengaluru  87.393365      Self-Employed             86   \n",
       "4      Karnataka     Mysuru  66.158757           Salaried             90   \n",
       "\n",
       "          Occupation  \n",
       "0             Doctor  \n",
       "1  Software Engineer  \n",
       "2             Banker  \n",
       "3         Contractor  \n",
       "4            Teacher  "
      ]
     },
     "execution_count": 5,
     "metadata": {},
     "output_type": "execute_result"
    }
   ],
   "source": [
    "# Generamos el dataset\n",
    "credit = pd.read_csv('credit_data.csv')\n",
    "credit.head()"
   ]
  },
  {
   "cell_type": "code",
   "execution_count": 6,
   "id": "cdd405ee-6064-4419-b8d7-3a4d42abd9f0",
   "metadata": {},
   "outputs": [
    {
     "name": "stdout",
     "output_type": "stream",
     "text": [
      "<class 'pandas.core.frame.DataFrame'>\n",
      "RangeIndex: 279856 entries, 0 to 279855\n",
      "Data columns (total 15 columns):\n",
      " #   Column                    Non-Null Count   Dtype  \n",
      "---  ------                    --------------   -----  \n",
      " 0   Age                       279856 non-null  int64  \n",
      " 1   Gender                    279856 non-null  object \n",
      " 2   Income                    279856 non-null  int64  \n",
      " 3   Credit Score              279856 non-null  int64  \n",
      " 4   Credit History Length     279856 non-null  int64  \n",
      " 5   Number of Existing Loans  279856 non-null  int64  \n",
      " 6   Loan Amount               279856 non-null  int64  \n",
      " 7   Loan Tenure               279856 non-null  int64  \n",
      " 8   Existing Customer         279856 non-null  object \n",
      " 9   State                     279856 non-null  object \n",
      " 10  City                      279856 non-null  object \n",
      " 11  LTV Ratio                 279856 non-null  float64\n",
      " 12  Employment Profile        279856 non-null  object \n",
      " 13  Profile Score             279856 non-null  int64  \n",
      " 14  Occupation                261584 non-null  object \n",
      "dtypes: float64(1), int64(8), object(6)\n",
      "memory usage: 32.0+ MB\n"
     ]
    }
   ],
   "source": [
    "# Revisamos la información de las columnas\n",
    "credit.info()"
   ]
  },
  {
   "cell_type": "code",
   "execution_count": 7,
   "id": "72c0c588-9461-4b86-9337-d300aef127b2",
   "metadata": {},
   "outputs": [
    {
     "data": {
      "text/plain": [
       "Age                             0\n",
       "Gender                          0\n",
       "Income                          0\n",
       "Credit Score                    0\n",
       "Credit History Length           0\n",
       "Number of Existing Loans        0\n",
       "Loan Amount                     0\n",
       "Loan Tenure                     0\n",
       "Existing Customer               0\n",
       "State                           0\n",
       "City                            0\n",
       "LTV Ratio                       0\n",
       "Employment Profile              0\n",
       "Profile Score                   0\n",
       "Occupation                  18272\n",
       "dtype: int64"
      ]
     },
     "execution_count": 7,
     "metadata": {},
     "output_type": "execute_result"
    }
   ],
   "source": [
    "# Solamente tenemos valores nulos en ocupación --> puede ser una oportunidad para ver qué hay demográficamente\n",
    "credit.isnull().sum()"
   ]
  },
  {
   "cell_type": "code",
   "execution_count": 8,
   "id": "e46e8a65-ef3f-4039-a30a-2f978498e751",
   "metadata": {},
   "outputs": [
    {
     "data": {
      "text/plain": [
       "Banker                    27760\n",
       "Teacher                   27356\n",
       "Civil Servant             27221\n",
       "Software Engineer         27146\n",
       "Doctor                    26582\n",
       "Shopkeeper                21405\n",
       "Contractor                21090\n",
       "Farmer                    20966\n",
       "Business Owner            20908\n",
       "Student                   18521\n",
       "NaN                       18272\n",
       "Graphic Designer           5723\n",
       "Photographer               5706\n",
       "Independent Consultant     5628\n",
       "Writer                     5572\n",
       "Name: Occupation, dtype: int64"
      ]
     },
     "execution_count": 8,
     "metadata": {},
     "output_type": "execute_result"
    }
   ],
   "source": [
    "# No es despreciable la cantidad de NaN --> quizas podemos dejarlos como \"otros\" (aunque no sé si es informativo)\n",
    "credit.Occupation.value_counts(dropna=False)"
   ]
  },
  {
   "cell_type": "code",
   "execution_count": 9,
   "id": "628017e8-9317-4431-80fd-c26aa177dc09",
   "metadata": {},
   "outputs": [],
   "source": [
    "# Se reemplazan los vacíos por Other\n",
    "credit.Occupation.fillna('Other',inplace=True)"
   ]
  },
  {
   "cell_type": "code",
   "execution_count": 10,
   "id": "f357decb-03aa-463d-bd34-4c7150067b2f",
   "metadata": {},
   "outputs": [
    {
     "data": {
      "text/plain": [
       "Banker                    27760\n",
       "Teacher                   27356\n",
       "Civil Servant             27221\n",
       "Software Engineer         27146\n",
       "Doctor                    26582\n",
       "Shopkeeper                21405\n",
       "Contractor                21090\n",
       "Farmer                    20966\n",
       "Business Owner            20908\n",
       "Student                   18521\n",
       "Other                     18272\n",
       "Graphic Designer           5723\n",
       "Photographer               5706\n",
       "Independent Consultant     5628\n",
       "Writer                     5572\n",
       "Name: Occupation, dtype: int64"
      ]
     },
     "execution_count": 10,
     "metadata": {},
     "output_type": "execute_result"
    }
   ],
   "source": [
    "credit.Occupation.value_counts(dropna=False)"
   ]
  },
  {
   "cell_type": "code",
   "execution_count": 11,
   "id": "1607261a-9c50-4b37-981a-84466df68698",
   "metadata": {},
   "outputs": [
    {
     "data": {
      "image/png": "[encoded data removed]",
      "text/plain": [
       "<Figure size 640x480 with 1 Axes>"
      ]
     },
     "metadata": {},
     "output_type": "display_data"
    }
   ],
   "source": [
    "# Podemos ver la distribución de los score\n",
    "credit['Credit Score'].hist();"
   ]
  },
  {
   "cell_type": "code",
   "execution_count": 12,
   "id": "23e7b10f-e642-495d-af35-c5cb7b28150b",
   "metadata": {},
   "outputs": [
    {
     "data": {
      "text/plain": [
       "1    140817\n",
       "0    139039\n",
       "Name: Credit Score, dtype: int64"
      ]
     },
     "execution_count": 12,
     "metadata": {},
     "output_type": "execute_result"
    }
   ],
   "source": [
    "# Definimos la variable score como la máscara ante el valor medio de score. De esta manera, exigimos a la clase target que esté balanceada\n",
    "score = credit['Credit Score'].copy()\n",
    "mean_score = score.mean()\n",
    "score = score.apply(lambda x: 1 if x>=mean_score else 0)\n",
    "score.value_counts()"
   ]
  },
  {
   "cell_type": "code",
   "execution_count": 13,
   "id": "7b064778-85b5-4930-9684-44599b7eaad3",
   "metadata": {},
   "outputs": [],
   "source": [
    "# Definimos quienes serán la X y la y\n",
    "X = credit.drop('Credit Score', axis=1)\n",
    "y = score"
   ]
  },
  {
   "cell_type": "code",
   "execution_count": 14,
   "id": "7a979ce7-d721-4451-9817-e6b1cf5d4842",
   "metadata": {},
   "outputs": [],
   "source": [
    "# Vemos cuales son las variables numericas y cuales las categóricas\n",
    "numericas = ['Age','Income','Credit History Length','Number of Existing Loans', 'Loan Amount', 'Loan Tenure','LTV Ratio','Profile Score']\n",
    "categoricas = ['Gender', 'Existing Customer', 'State', 'City', 'Employment Profile', 'Occupation']"
   ]
  },
  {
   "cell_type": "code",
   "execution_count": 15,
   "id": "86f8e15e-2160-4bb7-bab8-2e286516585f",
   "metadata": {},
   "outputs": [
    {
     "data": {
      "text/plain": [
       "True"
      ]
     },
     "execution_count": 15,
     "metadata": {},
     "output_type": "execute_result"
    }
   ],
   "source": [
    "# Corroboramos que estén todos los features\n",
    "len(numericas) + len(categoricas) == len(X.columns)"
   ]
  },
  {
   "cell_type": "code",
   "execution_count": 57,
   "id": "82b4b615-9de7-4249-bdbe-5a05fe7a2b6b",
   "metadata": {},
   "outputs": [],
   "source": [
    "# Realizamos el split de los datos para generar los modelos\n",
    "X_train, X_test, y_train, y_test = train_test_split(X, y, test_size=0.15, random_state=17)"
   ]
  },
  {
   "cell_type": "code",
   "execution_count": 65,
   "id": "8a4c7d9e-0730-4225-9557-d1478082e07d",
   "metadata": {},
   "outputs": [],
   "source": [
    "# Realizamos un escalado de las numericas\n",
    "scaler = StandardScaler()\n",
    "X_train_scaled = scaler.fit_transform(X_train[numericas])\n",
    "X_test_scaled = scaler.transform(X_test[numericas])\n",
    "\n",
    "X_train_scaled = pd.DataFrame(X_train_scaled, columns=X[numericas].columns)\n",
    "X_test_scaled = pd.DataFrame(X_test_scaled, columns=X[numericas].columns)"
   ]
  },
  {
   "cell_type": "code",
   "execution_count": 79,
   "id": "6924989f-28e9-45c6-b486-7783a806465d",
   "metadata": {},
   "outputs": [],
   "source": [
    "X_scaled = pd.concat([X_train_scaled, X_test_scaled], axis=0, ignore_index=True)"
   ]
  },
  {
   "cell_type": "code",
   "execution_count": 80,
   "id": "5b8453d7-3d1c-4289-a4d1-0da7067a8d84",
   "metadata": {},
   "outputs": [
    {
     "data": {
      "text/html": [
       "<div>\n",
       "<style scoped>\n",
       "    .dataframe tbody tr th:only-of-type {\n",
       "        vertical-align: middle;\n",
       "    }\n",
       "\n",
       "    .dataframe tbody tr th {\n",
       "        vertical-align: top;\n",
       "    }\n",
       "\n",
       "    .dataframe thead th {\n",
       "        text-align: right;\n",
       "    }\n",
       "</style>\n",
       "<table border=\"1\" class=\"dataframe\">\n",
       "  <thead>\n",
       "    <tr style=\"text-align: right;\">\n",
       "      <th></th>\n",
       "      <th>Age</th>\n",
       "      <th>Income</th>\n",
       "      <th>Credit History Length</th>\n",
       "      <th>Number of Existing Loans</th>\n",
       "      <th>Loan Amount</th>\n",
       "      <th>Loan Tenure</th>\n",
       "      <th>LTV Ratio</th>\n",
       "      <th>Profile Score</th>\n",
       "    </tr>\n",
       "  </thead>\n",
       "  <tbody>\n",
       "    <tr>\n",
       "      <th>0</th>\n",
       "      <td>0.652339</td>\n",
       "      <td>-0.034556</td>\n",
       "      <td>0.256151</td>\n",
       "      <td>-0.906120</td>\n",
       "      <td>-1.033595</td>\n",
       "      <td>-0.212108</td>\n",
       "      <td>-1.072947</td>\n",
       "      <td>-0.299643</td>\n",
       "    </tr>\n",
       "    <tr>\n",
       "      <th>1</th>\n",
       "      <td>1.370339</td>\n",
       "      <td>-0.967139</td>\n",
       "      <td>-1.720442</td>\n",
       "      <td>-0.906120</td>\n",
       "      <td>0.511627</td>\n",
       "      <td>-0.326621</td>\n",
       "      <td>-0.959378</td>\n",
       "      <td>-0.136489</td>\n",
       "    </tr>\n",
       "    <tr>\n",
       "      <th>2</th>\n",
       "      <td>0.456521</td>\n",
       "      <td>-0.314331</td>\n",
       "      <td>0.141897</td>\n",
       "      <td>1.777317</td>\n",
       "      <td>-1.132477</td>\n",
       "      <td>1.411889</td>\n",
       "      <td>-0.959875</td>\n",
       "      <td>0.556912</td>\n",
       "    </tr>\n",
       "    <tr>\n",
       "      <th>3</th>\n",
       "      <td>-1.436386</td>\n",
       "      <td>-1.176970</td>\n",
       "      <td>-1.114896</td>\n",
       "      <td>-0.570690</td>\n",
       "      <td>-2.065431</td>\n",
       "      <td>-1.138620</td>\n",
       "      <td>0.316529</td>\n",
       "      <td>-1.278562</td>\n",
       "    </tr>\n",
       "    <tr>\n",
       "      <th>4</th>\n",
       "      <td>1.566157</td>\n",
       "      <td>2.623306</td>\n",
       "      <td>-1.343404</td>\n",
       "      <td>1.106458</td>\n",
       "      <td>1.092317</td>\n",
       "      <td>-0.274570</td>\n",
       "      <td>-1.003050</td>\n",
       "      <td>0.638489</td>\n",
       "    </tr>\n",
       "  </tbody>\n",
       "</table>\n",
       "</div>"
      ],
      "text/plain": [
       "        Age    Income  Credit History Length  Number of Existing Loans  \\\n",
       "0  0.652339 -0.034556               0.256151                 -0.906120   \n",
       "1  1.370339 -0.967139              -1.720442                 -0.906120   \n",
       "2  0.456521 -0.314331               0.141897                  1.777317   \n",
       "3 -1.436386 -1.176970              -1.114896                 -0.570690   \n",
       "4  1.566157  2.623306              -1.343404                  1.106458   \n",
       "\n",
       "   Loan Amount  Loan Tenure  LTV Ratio  Profile Score  \n",
       "0    -1.033595    -0.212108  -1.072947      -0.299643  \n",
       "1     0.511627    -0.326621  -0.959378      -0.136489  \n",
       "2    -1.132477     1.411889  -0.959875       0.556912  \n",
       "3    -2.065431    -1.138620   0.316529      -1.278562  \n",
       "4     1.092317    -0.274570  -1.003050       0.638489  "
      ]
     },
     "execution_count": 80,
     "metadata": {},
     "output_type": "execute_result"
    }
   ],
   "source": [
    "X_scaled.head()"
   ]
  },
  {
   "cell_type": "code",
   "execution_count": 59,
   "id": "54dd489a-77e6-4621-ae16-287897170f31",
   "metadata": {},
   "outputs": [
    {
     "data": {
      "text/plain": [
       "Profile Score              -1.014806\n",
       "Loan Amount                -0.438925\n",
       "LTV Ratio                  -0.182339\n",
       "Age                        -0.002432\n",
       "Credit History Length       0.007891\n",
       "Number of Existing Loans    0.052265\n",
       "Income                      0.708245\n",
       "Loan Tenure                 0.842177\n",
       "dtype: float64"
      ]
     },
     "execution_count": 59,
     "metadata": {},
     "output_type": "execute_result"
    }
   ],
   "source": [
    "# Revisamos si los valores numericos tienen un skew\n",
    "X_train_scaled.skew().sort_values()"
   ]
  },
  {
   "cell_type": "code",
   "execution_count": 60,
   "id": "d54ef9b1-dd22-4138-beb2-98140f6cf25e",
   "metadata": {},
   "outputs": [
    {
     "data": {
      "text/html": [
       "<div>\n",
       "<style scoped>\n",
       "    .dataframe tbody tr th:only-of-type {\n",
       "        vertical-align: middle;\n",
       "    }\n",
       "\n",
       "    .dataframe tbody tr th {\n",
       "        vertical-align: top;\n",
       "    }\n",
       "\n",
       "    .dataframe thead th {\n",
       "        text-align: right;\n",
       "    }\n",
       "</style>\n",
       "<table border=\"1\" class=\"dataframe\">\n",
       "  <thead>\n",
       "    <tr style=\"text-align: right;\">\n",
       "      <th></th>\n",
       "      <th>Gender</th>\n",
       "      <th>Existing Customer</th>\n",
       "      <th>State</th>\n",
       "      <th>City</th>\n",
       "      <th>Employment Profile</th>\n",
       "      <th>Occupation</th>\n",
       "    </tr>\n",
       "  </thead>\n",
       "  <tbody>\n",
       "    <tr>\n",
       "      <th>0</th>\n",
       "      <td>Male</td>\n",
       "      <td>No</td>\n",
       "      <td>Karnataka</td>\n",
       "      <td>Mysuru</td>\n",
       "      <td>Salaried</td>\n",
       "      <td>Doctor</td>\n",
       "    </tr>\n",
       "    <tr>\n",
       "      <th>1</th>\n",
       "      <td>Male</td>\n",
       "      <td>No</td>\n",
       "      <td>Karnataka</td>\n",
       "      <td>Bengaluru</td>\n",
       "      <td>Salaried</td>\n",
       "      <td>Software Engineer</td>\n",
       "    </tr>\n",
       "    <tr>\n",
       "      <th>2</th>\n",
       "      <td>Other</td>\n",
       "      <td>Yes</td>\n",
       "      <td>Uttar Pradesh</td>\n",
       "      <td>Kanpur</td>\n",
       "      <td>Salaried</td>\n",
       "      <td>Banker</td>\n",
       "    </tr>\n",
       "    <tr>\n",
       "      <th>3</th>\n",
       "      <td>Female</td>\n",
       "      <td>Yes</td>\n",
       "      <td>Karnataka</td>\n",
       "      <td>Bengaluru</td>\n",
       "      <td>Self-Employed</td>\n",
       "      <td>Contractor</td>\n",
       "    </tr>\n",
       "    <tr>\n",
       "      <th>4</th>\n",
       "      <td>Male</td>\n",
       "      <td>No</td>\n",
       "      <td>Karnataka</td>\n",
       "      <td>Mysuru</td>\n",
       "      <td>Salaried</td>\n",
       "      <td>Teacher</td>\n",
       "    </tr>\n",
       "  </tbody>\n",
       "</table>\n",
       "</div>"
      ],
      "text/plain": [
       "   Gender Existing Customer          State       City Employment Profile  \\\n",
       "0    Male                No      Karnataka     Mysuru           Salaried   \n",
       "1    Male                No      Karnataka  Bengaluru           Salaried   \n",
       "2   Other               Yes  Uttar Pradesh     Kanpur           Salaried   \n",
       "3  Female               Yes      Karnataka  Bengaluru      Self-Employed   \n",
       "4    Male                No      Karnataka     Mysuru           Salaried   \n",
       "\n",
       "          Occupation  \n",
       "0             Doctor  \n",
       "1  Software Engineer  \n",
       "2             Banker  \n",
       "3         Contractor  \n",
       "4            Teacher  "
      ]
     },
     "execution_count": 60,
     "metadata": {},
     "output_type": "execute_result"
    }
   ],
   "source": [
    "# Vemos las variables categóricas\n",
    "X[categoricas].head()"
   ]
  },
  {
   "cell_type": "code",
   "execution_count": 61,
   "id": "d6cf5536-d87f-4a0d-a8ed-3deef3d92281",
   "metadata": {},
   "outputs": [
    {
     "data": {
      "text/html": [
       "<div>\n",
       "<style scoped>\n",
       "    .dataframe tbody tr th:only-of-type {\n",
       "        vertical-align: middle;\n",
       "    }\n",
       "\n",
       "    .dataframe tbody tr th {\n",
       "        vertical-align: top;\n",
       "    }\n",
       "\n",
       "    .dataframe thead th {\n",
       "        text-align: right;\n",
       "    }\n",
       "</style>\n",
       "<table border=\"1\" class=\"dataframe\">\n",
       "  <thead>\n",
       "    <tr style=\"text-align: right;\">\n",
       "      <th></th>\n",
       "      <th>Gender_Female</th>\n",
       "      <th>Gender_Male</th>\n",
       "      <th>Gender_Other</th>\n",
       "      <th>Existing Customer_No</th>\n",
       "      <th>Existing Customer_Yes</th>\n",
       "      <th>State_Delhi</th>\n",
       "      <th>State_Gujarat</th>\n",
       "      <th>State_Karnataka</th>\n",
       "      <th>State_Kerala</th>\n",
       "      <th>State_Maharashtra</th>\n",
       "      <th>...</th>\n",
       "      <th>Occupation_Farmer</th>\n",
       "      <th>Occupation_Graphic Designer</th>\n",
       "      <th>Occupation_Independent Consultant</th>\n",
       "      <th>Occupation_Other</th>\n",
       "      <th>Occupation_Photographer</th>\n",
       "      <th>Occupation_Shopkeeper</th>\n",
       "      <th>Occupation_Software Engineer</th>\n",
       "      <th>Occupation_Student</th>\n",
       "      <th>Occupation_Teacher</th>\n",
       "      <th>Occupation_Writer</th>\n",
       "    </tr>\n",
       "  </thead>\n",
       "  <tbody>\n",
       "    <tr>\n",
       "      <th>0</th>\n",
       "      <td>0</td>\n",
       "      <td>1</td>\n",
       "      <td>0</td>\n",
       "      <td>1</td>\n",
       "      <td>0</td>\n",
       "      <td>0</td>\n",
       "      <td>0</td>\n",
       "      <td>1</td>\n",
       "      <td>0</td>\n",
       "      <td>0</td>\n",
       "      <td>...</td>\n",
       "      <td>0</td>\n",
       "      <td>0</td>\n",
       "      <td>0</td>\n",
       "      <td>0</td>\n",
       "      <td>0</td>\n",
       "      <td>0</td>\n",
       "      <td>0</td>\n",
       "      <td>0</td>\n",
       "      <td>0</td>\n",
       "      <td>0</td>\n",
       "    </tr>\n",
       "    <tr>\n",
       "      <th>1</th>\n",
       "      <td>0</td>\n",
       "      <td>1</td>\n",
       "      <td>0</td>\n",
       "      <td>1</td>\n",
       "      <td>0</td>\n",
       "      <td>0</td>\n",
       "      <td>0</td>\n",
       "      <td>1</td>\n",
       "      <td>0</td>\n",
       "      <td>0</td>\n",
       "      <td>...</td>\n",
       "      <td>0</td>\n",
       "      <td>0</td>\n",
       "      <td>0</td>\n",
       "      <td>0</td>\n",
       "      <td>0</td>\n",
       "      <td>0</td>\n",
       "      <td>1</td>\n",
       "      <td>0</td>\n",
       "      <td>0</td>\n",
       "      <td>0</td>\n",
       "    </tr>\n",
       "    <tr>\n",
       "      <th>2</th>\n",
       "      <td>0</td>\n",
       "      <td>0</td>\n",
       "      <td>1</td>\n",
       "      <td>0</td>\n",
       "      <td>1</td>\n",
       "      <td>0</td>\n",
       "      <td>0</td>\n",
       "      <td>0</td>\n",
       "      <td>0</td>\n",
       "      <td>0</td>\n",
       "      <td>...</td>\n",
       "      <td>0</td>\n",
       "      <td>0</td>\n",
       "      <td>0</td>\n",
       "      <td>0</td>\n",
       "      <td>0</td>\n",
       "      <td>0</td>\n",
       "      <td>0</td>\n",
       "      <td>0</td>\n",
       "      <td>0</td>\n",
       "      <td>0</td>\n",
       "    </tr>\n",
       "    <tr>\n",
       "      <th>3</th>\n",
       "      <td>1</td>\n",
       "      <td>0</td>\n",
       "      <td>0</td>\n",
       "      <td>0</td>\n",
       "      <td>1</td>\n",
       "      <td>0</td>\n",
       "      <td>0</td>\n",
       "      <td>1</td>\n",
       "      <td>0</td>\n",
       "      <td>0</td>\n",
       "      <td>...</td>\n",
       "      <td>0</td>\n",
       "      <td>0</td>\n",
       "      <td>0</td>\n",
       "      <td>0</td>\n",
       "      <td>0</td>\n",
       "      <td>0</td>\n",
       "      <td>0</td>\n",
       "      <td>0</td>\n",
       "      <td>0</td>\n",
       "      <td>0</td>\n",
       "    </tr>\n",
       "    <tr>\n",
       "      <th>4</th>\n",
       "      <td>0</td>\n",
       "      <td>1</td>\n",
       "      <td>0</td>\n",
       "      <td>1</td>\n",
       "      <td>0</td>\n",
       "      <td>0</td>\n",
       "      <td>0</td>\n",
       "      <td>1</td>\n",
       "      <td>0</td>\n",
       "      <td>0</td>\n",
       "      <td>...</td>\n",
       "      <td>0</td>\n",
       "      <td>0</td>\n",
       "      <td>0</td>\n",
       "      <td>0</td>\n",
       "      <td>0</td>\n",
       "      <td>0</td>\n",
       "      <td>0</td>\n",
       "      <td>0</td>\n",
       "      <td>1</td>\n",
       "      <td>0</td>\n",
       "    </tr>\n",
       "  </tbody>\n",
       "</table>\n",
       "<p>5 rows × 58 columns</p>\n",
       "</div>"
      ],
      "text/plain": [
       "   Gender_Female  Gender_Male  Gender_Other  Existing Customer_No  \\\n",
       "0              0            1             0                     1   \n",
       "1              0            1             0                     1   \n",
       "2              0            0             1                     0   \n",
       "3              1            0             0                     0   \n",
       "4              0            1             0                     1   \n",
       "\n",
       "   Existing Customer_Yes  State_Delhi  State_Gujarat  State_Karnataka  \\\n",
       "0                      0            0              0                1   \n",
       "1                      0            0              0                1   \n",
       "2                      1            0              0                0   \n",
       "3                      1            0              0                1   \n",
       "4                      0            0              0                1   \n",
       "\n",
       "   State_Kerala  State_Maharashtra  ...  Occupation_Farmer  \\\n",
       "0             0                  0  ...                  0   \n",
       "1             0                  0  ...                  0   \n",
       "2             0                  0  ...                  0   \n",
       "3             0                  0  ...                  0   \n",
       "4             0                  0  ...                  0   \n",
       "\n",
       "   Occupation_Graphic Designer  Occupation_Independent Consultant  \\\n",
       "0                            0                                  0   \n",
       "1                            0                                  0   \n",
       "2                            0                                  0   \n",
       "3                            0                                  0   \n",
       "4                            0                                  0   \n",
       "\n",
       "   Occupation_Other  Occupation_Photographer  Occupation_Shopkeeper  \\\n",
       "0                 0                        0                      0   \n",
       "1                 0                        0                      0   \n",
       "2                 0                        0                      0   \n",
       "3                 0                        0                      0   \n",
       "4                 0                        0                      0   \n",
       "\n",
       "   Occupation_Software Engineer  Occupation_Student  Occupation_Teacher  \\\n",
       "0                             0                   0                   0   \n",
       "1                             1                   0                   0   \n",
       "2                             0                   0                   0   \n",
       "3                             0                   0                   0   \n",
       "4                             0                   0                   1   \n",
       "\n",
       "   Occupation_Writer  \n",
       "0                  0  \n",
       "1                  0  \n",
       "2                  0  \n",
       "3                  0  \n",
       "4                  0  \n",
       "\n",
       "[5 rows x 58 columns]"
      ]
     },
     "execution_count": 61,
     "metadata": {},
     "output_type": "execute_result"
    }
   ],
   "source": [
    "# Aplicamos un encoding para que tengan valores numericos\n",
    "dummies = pd.get_dummies(X[categoricas])\n",
    "dummies.head()"
   ]
  },
  {
   "cell_type": "code",
   "execution_count": 62,
   "id": "52e946b1-e1c2-4e10-be32-64e1778ffa7a",
   "metadata": {},
   "outputs": [
    {
     "data": {
      "text/plain": [
       "Index(['Gender_Female', 'Gender_Male', 'Gender_Other', 'Existing Customer_No',\n",
       "       'Existing Customer_Yes', 'State_Delhi', 'State_Gujarat',\n",
       "       'State_Karnataka', 'State_Kerala', 'State_Maharashtra',\n",
       "       'State_Rajasthan', 'State_Tamil Nadu', 'State_Telangana',\n",
       "       'State_Uttar Pradesh', 'State_West Bengal', 'City_Ahmedabad',\n",
       "       'City_Bengaluru', 'City_Bishanpura', 'City_Channarayapatna',\n",
       "       'City_Chennai', 'City_Coimbatore', 'City_Dhulagori', 'City_Hyderabad',\n",
       "       'City_Jaipur', 'City_Kanpur', 'City_Kochi', 'City_Kolkata',\n",
       "       'City_Lucknow', 'City_Manjari', 'City_Mumbai', 'City_Mysuru',\n",
       "       'City_Nagpur', 'City_Nellikuppam', 'City_New Delhi', 'City_Pune',\n",
       "       'City_Surat', 'City_Thiruvananthapuram', 'City_Udaipur',\n",
       "       'Employment Profile_Freelancer', 'Employment Profile_Salaried',\n",
       "       'Employment Profile_Self-Employed', 'Employment Profile_Student',\n",
       "       'Employment Profile_Unemployed', 'Occupation_Banker',\n",
       "       'Occupation_Business Owner', 'Occupation_Civil Servant',\n",
       "       'Occupation_Contractor', 'Occupation_Doctor', 'Occupation_Farmer',\n",
       "       'Occupation_Graphic Designer', 'Occupation_Independent Consultant',\n",
       "       'Occupation_Other', 'Occupation_Photographer', 'Occupation_Shopkeeper',\n",
       "       'Occupation_Software Engineer', 'Occupation_Student',\n",
       "       'Occupation_Teacher', 'Occupation_Writer'],\n",
       "      dtype='object')"
      ]
     },
     "execution_count": 62,
     "metadata": {},
     "output_type": "execute_result"
    }
   ],
   "source": [
    "# Chequeamos todas las columnas para ver cuál quitar\n",
    "dummies.columns"
   ]
  },
  {
   "cell_type": "code",
   "execution_count": 63,
   "id": "85c33628-f3f5-4715-ad9a-5aadde40af40",
   "metadata": {},
   "outputs": [],
   "source": [
    "# Eliminamos una columna de cada clase para que sean mutuamente excluyentes\n",
    "X_cat = dummies.drop([\n",
    "    'Gender_Other',\n",
    "    'Existing Customer_No',\n",
    "    'State_West Bengal',\n",
    "    'City_Udaipur',\n",
    "    'Employment Profile_Unemployed',\n",
    "    'Occupation_Other'\n",
    "], axis=1)"
   ]
  },
  {
   "cell_type": "code",
   "execution_count": 73,
   "id": "d85fc639-fd3d-405d-85c6-e682074fab4f",
   "metadata": {},
   "outputs": [
    {
     "data": {
      "text/plain": [
       "(279856, 8)"
      ]
     },
     "execution_count": 73,
     "metadata": {},
     "output_type": "execute_result"
    }
   ],
   "source": [
    "X_scaled.shape"
   ]
  },
  {
   "cell_type": "code",
   "execution_count": 74,
   "id": "fcffb09e-392e-4103-b9a2-fb9e543b050c",
   "metadata": {},
   "outputs": [
    {
     "data": {
      "text/plain": [
       "(279856, 52)"
      ]
     },
     "execution_count": 74,
     "metadata": {},
     "output_type": "execute_result"
    }
   ],
   "source": [
    "X_cat.shape"
   ]
  },
  {
   "cell_type": "code",
   "execution_count": 81,
   "id": "d81c10d4-644c-4da6-8c16-359740a92701",
   "metadata": {},
   "outputs": [
    {
     "data": {
      "text/plain": [
       "RangeIndex(start=0, stop=279856, step=1)"
      ]
     },
     "execution_count": 81,
     "metadata": {},
     "output_type": "execute_result"
    }
   ],
   "source": [
    "X_scaled.index"
   ]
  },
  {
   "cell_type": "code",
   "execution_count": 82,
   "id": "e0021670-a25b-4184-8f2c-eacb2d7c9b24",
   "metadata": {},
   "outputs": [],
   "source": [
    "# Generamos el nuevo dataframe X con el scaled y el cat\n",
    "X_new = pd.concat([X_scaled, X_cat], axis=1)"
   ]
  },
  {
   "cell_type": "code",
   "execution_count": 83,
   "id": "be6e0615-57ef-4bf1-9b44-4ca173040afb",
   "metadata": {},
   "outputs": [
    {
     "data": {
      "text/plain": [
       "Index(['Age', 'Income', 'Credit History Length', 'Number of Existing Loans',\n",
       "       'Loan Amount', 'Loan Tenure', 'LTV Ratio', 'Profile Score',\n",
       "       'Gender_Female', 'Gender_Male', 'Existing Customer_Yes', 'State_Delhi',\n",
       "       'State_Gujarat', 'State_Karnataka', 'State_Kerala', 'State_Maharashtra',\n",
       "       'State_Rajasthan', 'State_Tamil Nadu', 'State_Telangana',\n",
       "       'State_Uttar Pradesh', 'City_Ahmedabad', 'City_Bengaluru',\n",
       "       'City_Bishanpura', 'City_Channarayapatna', 'City_Chennai',\n",
       "       'City_Coimbatore', 'City_Dhulagori', 'City_Hyderabad', 'City_Jaipur',\n",
       "       'City_Kanpur', 'City_Kochi', 'City_Kolkata', 'City_Lucknow',\n",
       "       'City_Manjari', 'City_Mumbai', 'City_Mysuru', 'City_Nagpur',\n",
       "       'City_Nellikuppam', 'City_New Delhi', 'City_Pune', 'City_Surat',\n",
       "       'City_Thiruvananthapuram', 'Employment Profile_Freelancer',\n",
       "       'Employment Profile_Salaried', 'Employment Profile_Self-Employed',\n",
       "       'Employment Profile_Student', 'Occupation_Banker',\n",
       "       'Occupation_Business Owner', 'Occupation_Civil Servant',\n",
       "       'Occupation_Contractor', 'Occupation_Doctor', 'Occupation_Farmer',\n",
       "       'Occupation_Graphic Designer', 'Occupation_Independent Consultant',\n",
       "       'Occupation_Photographer', 'Occupation_Shopkeeper',\n",
       "       'Occupation_Software Engineer', 'Occupation_Student',\n",
       "       'Occupation_Teacher', 'Occupation_Writer'],\n",
       "      dtype='object')"
      ]
     },
     "execution_count": 83,
     "metadata": {},
     "output_type": "execute_result"
    }
   ],
   "source": [
    "# Revisamos si las columnas son las correspondientes\n",
    "X_new.columns"
   ]
  },
  {
   "cell_type": "markdown",
   "id": "8daf5353-4b80-4ece-bec8-2545b946b48f",
   "metadata": {},
   "source": [
    "## Modelos de Clasificación\n",
    "### Regresión Logística"
   ]
  },
  {
   "cell_type": "code",
   "execution_count": 84,
   "id": "3f6ef304-feb8-43ea-b02b-eba21d50890a",
   "metadata": {},
   "outputs": [],
   "source": [
    "# Realizamos el split de los datos para generar los modelos\n",
    "X_train, X_test, y_train, y_test = train_test_split(X_new, y, test_size=0.15, random_state=17)"
   ]
  },
  {
   "cell_type": "code",
   "execution_count": 85,
   "id": "3b560f40-63c2-48a1-9e4d-fce0a46806c0",
   "metadata": {},
   "outputs": [
    {
     "name": "stdout",
     "output_type": "stream",
     "text": [
      "X_train shape:  (237877, 60)\n",
      "X_test shape:  (41979, 60)\n",
      "y_train shape:  (237877,)\n",
      "y_test shape:  (41979,)\n"
     ]
    }
   ],
   "source": [
    "# Revisamos el shape de cada uno\n",
    "print(\"X_train shape: \", X_train.shape)\n",
    "print(\"X_test shape: \", X_test.shape)\n",
    "print(\"y_train shape: \", y_train.shape)\n",
    "print(\"y_test shape: \", y_test.shape)"
   ]
  },
  {
   "cell_type": "code",
   "execution_count": 86,
   "id": "927bfda7-1af5-4cf7-bea0-84d03d8aa172",
   "metadata": {},
   "outputs": [
    {
     "name": "stdout",
     "output_type": "stream",
     "text": [
      "y_train balance:\n",
      " 1    119753\n",
      "0    118124\n",
      "Name: Credit Score, dtype: int64\n",
      "y_test balance:\n",
      " 1    21064\n",
      "0    20915\n",
      "Name: Credit Score, dtype: int64\n"
     ]
    }
   ],
   "source": [
    "# Revisamos si el target está balanceado, sino cambiamos el random_state\n",
    "print(\"y_train balance:\\n\", y_train.value_counts())\n",
    "print(\"y_test balance:\\n\", y_test.value_counts())"
   ]
  },
  {
   "cell_type": "code",
   "execution_count": 94,
   "id": "02bbbd00-6838-44cc-9814-09806ef3d203",
   "metadata": {},
   "outputs": [],
   "source": [
    "# Implementamos el modelo de LogisticRegression\n",
    "log_reg = LogisticRegression(solver='newton-cholesky') # Se modifica el solver por no converger \"lbfgs\""
   ]
  },
  {
   "cell_type": "code",
   "execution_count": 95,
   "id": "81031f41-973b-4198-8aa5-b44cf5e1dcb4",
   "metadata": {},
   "outputs": [
    {
     "data": {
      "text/html": [
       "<style>#sk-container-id-5 {color: black;background-color: white;}#sk-container-id-5 pre{padding: 0;}#sk-container-id-5 div.sk-toggleable {background-color: white;}#sk-container-id-5 label.sk-toggleable__label {cursor: pointer;display: block;width: 100%;margin-bottom: 0;padding: 0.3em;box-sizing: border-box;text-align: center;}#sk-container-id-5 label.sk-toggleable__label-arrow:before {content: \"▸\";float: left;margin-right: 0.25em;color: #696969;}#sk-container-id-5 label.sk-toggleable__label-arrow:hover:before {color: black;}#sk-container-id-5 div.sk-estimator:hover label.sk-toggleable__label-arrow:before {color: black;}#sk-container-id-5 div.sk-toggleable__content {max-height: 0;max-width: 0;overflow: hidden;text-align: left;background-color: #f0f8ff;}#sk-container-id-5 div.sk-toggleable__content pre {margin: 0.2em;color: black;border-radius: 0.25em;background-color: #f0f8ff;}#sk-container-id-5 input.sk-toggleable__control:checked~div.sk-toggleable__content {max-height: 200px;max-width: 100%;overflow: auto;}#sk-container-id-5 input.sk-toggleable__control:checked~label.sk-toggleable__label-arrow:before {content: \"▾\";}#sk-container-id-5 div.sk-estimator input.sk-toggleable__control:checked~label.sk-toggleable__label {background-color: #d4ebff;}#sk-container-id-5 div.sk-label input.sk-toggleable__control:checked~label.sk-toggleable__label {background-color: #d4ebff;}#sk-container-id-5 input.sk-hidden--visually {border: 0;clip: rect(1px 1px 1px 1px);clip: rect(1px, 1px, 1px, 1px);height: 1px;margin: -1px;overflow: hidden;padding: 0;position: absolute;width: 1px;}#sk-container-id-5 div.sk-estimator {font-family: monospace;background-color: #f0f8ff;border: 1px dotted black;border-radius: 0.25em;box-sizing: border-box;margin-bottom: 0.5em;}#sk-container-id-5 div.sk-estimator:hover {background-color: #d4ebff;}#sk-container-id-5 div.sk-parallel-item::after {content: \"\";width: 100%;border-bottom: 1px solid gray;flex-grow: 1;}#sk-container-id-5 div.sk-label:hover label.sk-toggleable__label {background-color: #d4ebff;}#sk-container-id-5 div.sk-serial::before {content: \"\";position: absolute;border-left: 1px solid gray;box-sizing: border-box;top: 0;bottom: 0;left: 50%;z-index: 0;}#sk-container-id-5 div.sk-serial {display: flex;flex-direction: column;align-items: center;background-color: white;padding-right: 0.2em;padding-left: 0.2em;position: relative;}#sk-container-id-5 div.sk-item {position: relative;z-index: 1;}#sk-container-id-5 div.sk-parallel {display: flex;align-items: stretch;justify-content: center;background-color: white;position: relative;}#sk-container-id-5 div.sk-item::before, #sk-container-id-5 div.sk-parallel-item::before {content: \"\";position: absolute;border-left: 1px solid gray;box-sizing: border-box;top: 0;bottom: 0;left: 50%;z-index: -1;}#sk-container-id-5 div.sk-parallel-item {display: flex;flex-direction: column;z-index: 1;position: relative;background-color: white;}#sk-container-id-5 div.sk-parallel-item:first-child::after {align-self: flex-end;width: 50%;}#sk-container-id-5 div.sk-parallel-item:last-child::after {align-self: flex-start;width: 50%;}#sk-container-id-5 div.sk-parallel-item:only-child::after {width: 0;}#sk-container-id-5 div.sk-dashed-wrapped {border: 1px dashed gray;margin: 0 0.4em 0.5em 0.4em;box-sizing: border-box;padding-bottom: 0.4em;background-color: white;}#sk-container-id-5 div.sk-label label {font-family: monospace;font-weight: bold;display: inline-block;line-height: 1.2em;}#sk-container-id-5 div.sk-label-container {text-align: center;}#sk-container-id-5 div.sk-container {/* jupyter's `normalize.less` sets `[hidden] { display: none; }` but bootstrap.min.css set `[hidden] { display: none !important; }` so we also need the `!important` here to be able to override the default hidden behavior on the sphinx rendered scikit-learn.org. See: https://github.com/scikit-learn/scikit-learn/issues/21755 */display: inline-block !important;position: relative;}#sk-container-id-5 div.sk-text-repr-fallback {display: none;}</style><div id=\"sk-container-id-5\" class=\"sk-top-container\"><div class=\"sk-text-repr-fallback\"><pre>LogisticRegression(solver=&#x27;newton-cholesky&#x27;)</pre><b>In a Jupyter environment, please rerun this cell to show the HTML representation or trust the notebook. <br />On GitHub, the HTML representation is unable to render, please try loading this page with nbviewer.org.</b></div><div class=\"sk-container\" hidden><div class=\"sk-item\"><div class=\"sk-estimator sk-toggleable\"><input class=\"sk-toggleable__control sk-hidden--visually\" id=\"sk-estimator-id-5\" type=\"checkbox\" checked><label for=\"sk-estimator-id-5\" class=\"sk-toggleable__label sk-toggleable__label-arrow\">LogisticRegression</label><div class=\"sk-toggleable__content\"><pre>LogisticRegression(solver=&#x27;newton-cholesky&#x27;)</pre></div></div></div></div></div>"
      ],
      "text/plain": [
       "LogisticRegression(solver='newton-cholesky')"
      ]
     },
     "execution_count": 95,
     "metadata": {},
     "output_type": "execute_result"
    }
   ],
   "source": [
    "log_reg.fit(X_train, y_train)"
   ]
  },
  {
   "cell_type": "code",
   "execution_count": 96,
   "id": "ec2d70ff-7177-4c8f-b491-e923f9d1cc4a",
   "metadata": {},
   "outputs": [
    {
     "data": {
      "text/plain": [
       "(41979,)"
      ]
     },
     "execution_count": 96,
     "metadata": {},
     "output_type": "execute_result"
    }
   ],
   "source": [
    "# Predecimos los resultados a traves del test\n",
    "y_pred = log_reg.predict(X_test)\n",
    "y_pred.shape"
   ]
  },
  {
   "cell_type": "code",
   "execution_count": 116,
   "id": "16ec1ca3-13bf-416b-abb4-449c9799c5fd",
   "metadata": {},
   "outputs": [
    {
     "data": {
      "image/png": "[encoded data removed]",
      "text/plain": [
       "<Figure size 640x480 with 2 Axes>"
      ]
     },
     "metadata": {},
     "output_type": "display_data"
    }
   ],
   "source": [
    "# Conocemos los scores del modelo frente al test\n",
    "cm = confusion_matrix(y_test, y_pred, labels=log_reg.classes_)\n",
    "disp = ConfusionMatrixDisplay(confusion_matrix=cm, display_labels=log_reg.classes_)\n",
    "disp.plot()\n",
    "plt.show()"
   ]
  },
  {
   "cell_type": "code",
   "execution_count": 109,
   "id": "05a055d3-5923-49a9-834b-833cf237a6d9",
   "metadata": {},
   "outputs": [],
   "source": [
    "TP = cm[1,1]\n",
    "TN = cm[0,0]\n",
    "P = np.sum(cm[1, :]) # Todos los positivos\n",
    "N = np.sum(cm[0, :]) # Todos los negativos"
   ]
  },
  {
   "cell_type": "code",
   "execution_count": 113,
   "id": "63a65496-5e3b-4755-ad2a-05c82b552568",
   "metadata": {},
   "outputs": [
    {
     "data": {
      "text/plain": [
       "0.7553646031143183"
      ]
     },
     "execution_count": 113,
     "metadata": {},
     "output_type": "execute_result"
    }
   ],
   "source": [
    "# Recall\n",
    "recall = TP/P\n",
    "recall"
   ]
  },
  {
   "cell_type": "code",
   "execution_count": 114,
   "id": "4c97fd92-c6f1-4ed5-ba25-7e3775664c04",
   "metadata": {},
   "outputs": [
    {
     "ename": "SyntaxError",
     "evalue": "invalid syntax (317997093.py, line 2)",
     "output_type": "error",
     "traceback": [
      "\u001b[1;36m  Cell \u001b[1;32mIn[114], line 2\u001b[1;36m\u001b[0m\n\u001b[1;33m    recall =\u001b[0m\n\u001b[1;37m             ^\u001b[0m\n\u001b[1;31mSyntaxError\u001b[0m\u001b[1;31m:\u001b[0m invalid syntax\n"
     ]
    }
   ],
   "source": [
    "# Precisión\n",
    "precision = "
   ]
  },
  {
   "cell_type": "code",
   "execution_count": 98,
   "id": "d8631be9-dcf3-41c3-b76f-fbaa46eaf163",
   "metadata": {},
   "outputs": [
    {
     "name": "stdout",
     "output_type": "stream",
     "text": [
      "              precision    recall  f1-score   support\n",
      "\n",
      "           0      0.802     1.000     0.890     20915\n",
      "           1      1.000     0.755     0.861     21064\n",
      "\n",
      "    accuracy                          0.877     41979\n",
      "   macro avg      0.901     0.878     0.875     41979\n",
      "weighted avg      0.902     0.877     0.875     41979\n",
      "\n"
     ]
    }
   ],
   "source": [
    "print(classification_report(y_test, y_pred, digits=3))"
   ]
  },
  {
   "cell_type": "markdown",
   "id": "1a204625-fa7c-4a04-aaf2-c0207a48a494",
   "metadata": {},
   "source": [
    "### Curva ROC"
   ]
  },
  {
   "cell_type": "code",
   "execution_count": 99,
   "id": "d12abc09-6272-49f3-a602-ca10ee792ca1",
   "metadata": {},
   "outputs": [],
   "source": [
    "probab = log_reg.predict_proba(X_test)[:, -1]"
   ]
  },
  {
   "cell_type": "code",
   "execution_count": 100,
   "id": "ae901495-de2d-4fb7-99cc-0215ca518d44",
   "metadata": {},
   "outputs": [],
   "source": [
    "fpr, tpr, thresholds = roc_curve(y_test, probab)"
   ]
  },
  {
   "cell_type": "code",
   "execution_count": 102,
   "id": "a9434b82-ffa8-4a1d-8d29-bf99c37eeeab",
   "metadata": {},
   "outputs": [
    {
     "data": {
      "image/png": "[encoded data removed]",
      "text/plain": [
       "<Figure size 640x480 with 1 Axes>"
      ]
     },
     "metadata": {},
     "output_type": "display_data"
    }
   ],
   "source": [
    "# Podemos ver que el modelo elegido con regresión logística es un buen predictor\n",
    "plt.plot(fpr, tpr, label=\"Modelo Logistic Regression\")\n",
    "plt.xlim([-0.01, 1.01])\n",
    "plt.ylim([-0.01, 1.01])\n",
    "plt.xlabel(\"Tasa de falsos positivos\")\n",
    "plt.ylabel(\"Tasa de verdaderos positivos\")\n",
    "plt.legend()\n",
    "plt.tight_layout();"
   ]
  },
  {
   "cell_type": "code",
   "execution_count": 103,
   "id": "b05b97ed-cdee-4c8f-a4e3-d20b743b26ba",
   "metadata": {},
   "outputs": [
    {
     "name": "stdout",
     "output_type": "stream",
     "text": [
      "El área de la curva ROC es:  0.8806648946384634\n"
     ]
    }
   ],
   "source": [
    "# Calculamos ahora el AUC\n",
    "print(\"El área de la curva ROC es: \", auc(fpr,tpr)) "
   ]
  },
  {
   "cell_type": "markdown",
   "id": "c8f42da9-2c9a-4181-b594-e886892da9b6",
   "metadata": {},
   "source": [
    "### KNN"
   ]
  },
  {
   "cell_type": "code",
   "execution_count": null,
   "id": "6c384efc-64da-49f7-b636-f3126b071bd6",
   "metadata": {},
   "outputs": [],
   "source": []
  },
  {
   "cell_type": "code",
   "execution_count": null,
   "id": "abf02602-a115-4583-af50-f8e149bf0c36",
   "metadata": {},
   "outputs": [],
   "source": []
  },
  {
   "cell_type": "code",
   "execution_count": null,
   "id": "4c65eb1c-6532-4e87-807b-8cfd357e8024",
   "metadata": {},
   "outputs": [],
   "source": []
  },
  {
   "cell_type": "code",
   "execution_count": null,
   "id": "d007e0c7-f299-4029-9813-958af32fee0b",
   "metadata": {},
   "outputs": [],
   "source": []
  },
  {
   "cell_type": "code",
   "execution_count": null,
   "id": "f431cedc-d0a8-4c9d-abf6-da69d61db85e",
   "metadata": {},
   "outputs": [],
   "source": []
  },
  {
   "cell_type": "code",
   "execution_count": null,
   "id": "bec5fa07-ae1f-4fbe-af28-8e3eeebbfba7",
   "metadata": {},
   "outputs": [],
   "source": []
  },
  {
   "cell_type": "code",
   "execution_count": null,
   "id": "e60dd360-e9b5-4551-831b-d3363a76e0f8",
   "metadata": {},
   "outputs": [],
   "source": []
  },
  {
   "cell_type": "code",
   "execution_count": null,
   "id": "f789cdd0-4ee9-4cd3-8b6d-653450ca5497",
   "metadata": {},
   "outputs": [],
   "source": []
  },
  {
   "cell_type": "markdown",
   "id": "125ce829-1a19-439a-aa97-aef403a36d68",
   "metadata": {},
   "source": [
    "### Modelos de Regresión"
   ]
  },
  {
   "cell_type": "code",
   "execution_count": 36,
   "id": "5041542a-57b6-4581-ba4c-43d51e4fb465",
   "metadata": {},
   "outputs": [
    {
     "data": {
      "text/html": [
       "<div>\n",
       "<style scoped>\n",
       "    .dataframe tbody tr th:only-of-type {\n",
       "        vertical-align: middle;\n",
       "    }\n",
       "\n",
       "    .dataframe tbody tr th {\n",
       "        vertical-align: top;\n",
       "    }\n",
       "\n",
       "    .dataframe thead th {\n",
       "        text-align: right;\n",
       "    }\n",
       "</style>\n",
       "<table border=\"1\" class=\"dataframe\">\n",
       "  <thead>\n",
       "    <tr style=\"text-align: right;\">\n",
       "      <th></th>\n",
       "      <th>Age</th>\n",
       "      <th>Income</th>\n",
       "      <th>Credit History Length</th>\n",
       "      <th>Number of Existing Loans</th>\n",
       "      <th>Loan Amount</th>\n",
       "      <th>Loan Tenure</th>\n",
       "      <th>LTV Ratio</th>\n",
       "      <th>Profile Score</th>\n",
       "      <th>Gender_Female</th>\n",
       "      <th>Gender_Male</th>\n",
       "      <th>...</th>\n",
       "      <th>Occupation_Doctor</th>\n",
       "      <th>Occupation_Farmer</th>\n",
       "      <th>Occupation_Graphic Designer</th>\n",
       "      <th>Occupation_Independent Consultant</th>\n",
       "      <th>Occupation_Photographer</th>\n",
       "      <th>Occupation_Shopkeeper</th>\n",
       "      <th>Occupation_Software Engineer</th>\n",
       "      <th>Occupation_Student</th>\n",
       "      <th>Occupation_Teacher</th>\n",
       "      <th>Occupation_Writer</th>\n",
       "    </tr>\n",
       "  </thead>\n",
       "  <tbody>\n",
       "    <tr>\n",
       "      <th>0</th>\n",
       "      <td>-0.849402</td>\n",
       "      <td>-0.944576</td>\n",
       "      <td>1.022572</td>\n",
       "      <td>0.100091</td>\n",
       "      <td>0.088428</td>\n",
       "      <td>0.912510</td>\n",
       "      <td>1.144350</td>\n",
       "      <td>-0.014287</td>\n",
       "      <td>0</td>\n",
       "      <td>1</td>\n",
       "      <td>...</td>\n",
       "      <td>1</td>\n",
       "      <td>0</td>\n",
       "      <td>0</td>\n",
       "      <td>0</td>\n",
       "      <td>0</td>\n",
       "      <td>0</td>\n",
       "      <td>0</td>\n",
       "      <td>0</td>\n",
       "      <td>0</td>\n",
       "      <td>0</td>\n",
       "    </tr>\n",
       "    <tr>\n",
       "      <th>1</th>\n",
       "      <td>-1.241277</td>\n",
       "      <td>-0.618049</td>\n",
       "      <td>0.445702</td>\n",
       "      <td>-0.906503</td>\n",
       "      <td>1.092598</td>\n",
       "      <td>-0.461574</td>\n",
       "      <td>1.155724</td>\n",
       "      <td>-1.401524</td>\n",
       "      <td>0</td>\n",
       "      <td>1</td>\n",
       "      <td>...</td>\n",
       "      <td>0</td>\n",
       "      <td>0</td>\n",
       "      <td>0</td>\n",
       "      <td>0</td>\n",
       "      <td>0</td>\n",
       "      <td>0</td>\n",
       "      <td>1</td>\n",
       "      <td>0</td>\n",
       "      <td>0</td>\n",
       "      <td>0</td>\n",
       "    </tr>\n",
       "    <tr>\n",
       "      <th>2</th>\n",
       "      <td>1.175283</td>\n",
       "      <td>2.367339</td>\n",
       "      <td>1.113957</td>\n",
       "      <td>1.777749</td>\n",
       "      <td>-0.907016</td>\n",
       "      <td>-0.242970</td>\n",
       "      <td>-1.876175</td>\n",
       "      <td>0.516127</td>\n",
       "      <td>0</td>\n",
       "      <td>0</td>\n",
       "      <td>...</td>\n",
       "      <td>0</td>\n",
       "      <td>0</td>\n",
       "      <td>0</td>\n",
       "      <td>0</td>\n",
       "      <td>0</td>\n",
       "      <td>0</td>\n",
       "      <td>0</td>\n",
       "      <td>0</td>\n",
       "      <td>0</td>\n",
       "      <td>0</td>\n",
       "    </tr>\n",
       "    <tr>\n",
       "      <th>3</th>\n",
       "      <td>1.632470</td>\n",
       "      <td>-0.711342</td>\n",
       "      <td>0.234374</td>\n",
       "      <td>0.435623</td>\n",
       "      <td>1.092598</td>\n",
       "      <td>0.152600</td>\n",
       "      <td>0.933861</td>\n",
       "      <td>0.352923</td>\n",
       "      <td>1</td>\n",
       "      <td>0</td>\n",
       "      <td>...</td>\n",
       "      <td>0</td>\n",
       "      <td>0</td>\n",
       "      <td>0</td>\n",
       "      <td>0</td>\n",
       "      <td>0</td>\n",
       "      <td>0</td>\n",
       "      <td>0</td>\n",
       "      <td>0</td>\n",
       "      <td>0</td>\n",
       "      <td>0</td>\n",
       "    </tr>\n",
       "    <tr>\n",
       "      <th>4</th>\n",
       "      <td>0.522159</td>\n",
       "      <td>1.294465</td>\n",
       "      <td>1.399536</td>\n",
       "      <td>0.100091</td>\n",
       "      <td>1.092598</td>\n",
       "      <td>0.246287</td>\n",
       "      <td>-0.325176</td>\n",
       "      <td>0.516127</td>\n",
       "      <td>0</td>\n",
       "      <td>1</td>\n",
       "      <td>...</td>\n",
       "      <td>0</td>\n",
       "      <td>0</td>\n",
       "      <td>0</td>\n",
       "      <td>0</td>\n",
       "      <td>0</td>\n",
       "      <td>0</td>\n",
       "      <td>0</td>\n",
       "      <td>0</td>\n",
       "      <td>1</td>\n",
       "      <td>0</td>\n",
       "    </tr>\n",
       "  </tbody>\n",
       "</table>\n",
       "<p>5 rows × 60 columns</p>\n",
       "</div>"
      ],
      "text/plain": [
       "        Age    Income  Credit History Length  Number of Existing Loans  \\\n",
       "0 -0.849402 -0.944576               1.022572                  0.100091   \n",
       "1 -1.241277 -0.618049               0.445702                 -0.906503   \n",
       "2  1.175283  2.367339               1.113957                  1.777749   \n",
       "3  1.632470 -0.711342               0.234374                  0.435623   \n",
       "4  0.522159  1.294465               1.399536                  0.100091   \n",
       "\n",
       "   Loan Amount  Loan Tenure  LTV Ratio  Profile Score  Gender_Female  \\\n",
       "0     0.088428     0.912510   1.144350      -0.014287              0   \n",
       "1     1.092598    -0.461574   1.155724      -1.401524              0   \n",
       "2    -0.907016    -0.242970  -1.876175       0.516127              0   \n",
       "3     1.092598     0.152600   0.933861       0.352923              1   \n",
       "4     1.092598     0.246287  -0.325176       0.516127              0   \n",
       "\n",
       "   Gender_Male  ...  Occupation_Doctor  Occupation_Farmer  \\\n",
       "0            1  ...                  1                  0   \n",
       "1            1  ...                  0                  0   \n",
       "2            0  ...                  0                  0   \n",
       "3            0  ...                  0                  0   \n",
       "4            1  ...                  0                  0   \n",
       "\n",
       "   Occupation_Graphic Designer  Occupation_Independent Consultant  \\\n",
       "0                            0                                  0   \n",
       "1                            0                                  0   \n",
       "2                            0                                  0   \n",
       "3                            0                                  0   \n",
       "4                            0                                  0   \n",
       "\n",
       "   Occupation_Photographer  Occupation_Shopkeeper  \\\n",
       "0                        0                      0   \n",
       "1                        0                      0   \n",
       "2                        0                      0   \n",
       "3                        0                      0   \n",
       "4                        0                      0   \n",
       "\n",
       "   Occupation_Software Engineer  Occupation_Student  Occupation_Teacher  \\\n",
       "0                             0                   0                   0   \n",
       "1                             1                   0                   0   \n",
       "2                             0                   0                   0   \n",
       "3                             0                   0                   0   \n",
       "4                             0                   0                   1   \n",
       "\n",
       "   Occupation_Writer  \n",
       "0                  0  \n",
       "1                  0  \n",
       "2                  0  \n",
       "3                  0  \n",
       "4                  0  \n",
       "\n",
       "[5 rows x 60 columns]"
      ]
     },
     "execution_count": 36,
     "metadata": {},
     "output_type": "execute_result"
    }
   ],
   "source": [
    "# Usamos el X_new como features de entrada del modelo\n",
    "X_new.head()"
   ]
  },
  {
   "cell_type": "code",
   "execution_count": 37,
   "id": "ccfa5fc6-903e-4c34-94a0-1877ad3a4d40",
   "metadata": {},
   "outputs": [
    {
     "data": {
      "text/plain": [
       "0    604\n",
       "1    447\n",
       "2    850\n",
       "3    668\n",
       "4    601\n",
       "Name: Credit Score, dtype: int64"
      ]
     },
     "execution_count": 37,
     "metadata": {},
     "output_type": "execute_result"
    }
   ],
   "source": [
    "# Como variable target vamos a usar el score como tal, pero lo vamos a escalar\n",
    "y_target = credit['Credit Score']\n",
    "y_target[:5]"
   ]
  },
  {
   "cell_type": "code",
   "execution_count": 38,
   "id": "fdd6a249-1091-4c6e-91a6-950e7bc3b650",
   "metadata": {},
   "outputs": [],
   "source": [
    "# Hacemos el split con el mismo porcentaje de testing\n",
    "X_train, X_test, y_train, y_test = train_test_split(X_new, y_target, test_size=0.15, random_state=17)"
   ]
  },
  {
   "cell_type": "code",
   "execution_count": 39,
   "id": "20223211-2a7f-4fa2-a3fd-1174a958b316",
   "metadata": {},
   "outputs": [],
   "source": [
    "# Realizamos una regresión lineal\n",
    "lin_reg = LinearRegression()"
   ]
  },
  {
   "cell_type": "code",
   "execution_count": 40,
   "id": "be3154f7-f725-4d98-a2a7-6bf705c5c91c",
   "metadata": {},
   "outputs": [
    {
     "data": {
      "text/html": [
       "<style>#sk-container-id-2 {color: black;background-color: white;}#sk-container-id-2 pre{padding: 0;}#sk-container-id-2 div.sk-toggleable {background-color: white;}#sk-container-id-2 label.sk-toggleable__label {cursor: pointer;display: block;width: 100%;margin-bottom: 0;padding: 0.3em;box-sizing: border-box;text-align: center;}#sk-container-id-2 label.sk-toggleable__label-arrow:before {content: \"▸\";float: left;margin-right: 0.25em;color: #696969;}#sk-container-id-2 label.sk-toggleable__label-arrow:hover:before {color: black;}#sk-container-id-2 div.sk-estimator:hover label.sk-toggleable__label-arrow:before {color: black;}#sk-container-id-2 div.sk-toggleable__content {max-height: 0;max-width: 0;overflow: hidden;text-align: left;background-color: #f0f8ff;}#sk-container-id-2 div.sk-toggleable__content pre {margin: 0.2em;color: black;border-radius: 0.25em;background-color: #f0f8ff;}#sk-container-id-2 input.sk-toggleable__control:checked~div.sk-toggleable__content {max-height: 200px;max-width: 100%;overflow: auto;}#sk-container-id-2 input.sk-toggleable__control:checked~label.sk-toggleable__label-arrow:before {content: \"▾\";}#sk-container-id-2 div.sk-estimator input.sk-toggleable__control:checked~label.sk-toggleable__label {background-color: #d4ebff;}#sk-container-id-2 div.sk-label input.sk-toggleable__control:checked~label.sk-toggleable__label {background-color: #d4ebff;}#sk-container-id-2 input.sk-hidden--visually {border: 0;clip: rect(1px 1px 1px 1px);clip: rect(1px, 1px, 1px, 1px);height: 1px;margin: -1px;overflow: hidden;padding: 0;position: absolute;width: 1px;}#sk-container-id-2 div.sk-estimator {font-family: monospace;background-color: #f0f8ff;border: 1px dotted black;border-radius: 0.25em;box-sizing: border-box;margin-bottom: 0.5em;}#sk-container-id-2 div.sk-estimator:hover {background-color: #d4ebff;}#sk-container-id-2 div.sk-parallel-item::after {content: \"\";width: 100%;border-bottom: 1px solid gray;flex-grow: 1;}#sk-container-id-2 div.sk-label:hover label.sk-toggleable__label {background-color: #d4ebff;}#sk-container-id-2 div.sk-serial::before {content: \"\";position: absolute;border-left: 1px solid gray;box-sizing: border-box;top: 0;bottom: 0;left: 50%;z-index: 0;}#sk-container-id-2 div.sk-serial {display: flex;flex-direction: column;align-items: center;background-color: white;padding-right: 0.2em;padding-left: 0.2em;position: relative;}#sk-container-id-2 div.sk-item {position: relative;z-index: 1;}#sk-container-id-2 div.sk-parallel {display: flex;align-items: stretch;justify-content: center;background-color: white;position: relative;}#sk-container-id-2 div.sk-item::before, #sk-container-id-2 div.sk-parallel-item::before {content: \"\";position: absolute;border-left: 1px solid gray;box-sizing: border-box;top: 0;bottom: 0;left: 50%;z-index: -1;}#sk-container-id-2 div.sk-parallel-item {display: flex;flex-direction: column;z-index: 1;position: relative;background-color: white;}#sk-container-id-2 div.sk-parallel-item:first-child::after {align-self: flex-end;width: 50%;}#sk-container-id-2 div.sk-parallel-item:last-child::after {align-self: flex-start;width: 50%;}#sk-container-id-2 div.sk-parallel-item:only-child::after {width: 0;}#sk-container-id-2 div.sk-dashed-wrapped {border: 1px dashed gray;margin: 0 0.4em 0.5em 0.4em;box-sizing: border-box;padding-bottom: 0.4em;background-color: white;}#sk-container-id-2 div.sk-label label {font-family: monospace;font-weight: bold;display: inline-block;line-height: 1.2em;}#sk-container-id-2 div.sk-label-container {text-align: center;}#sk-container-id-2 div.sk-container {/* jupyter's `normalize.less` sets `[hidden] { display: none; }` but bootstrap.min.css set `[hidden] { display: none !important; }` so we also need the `!important` here to be able to override the default hidden behavior on the sphinx rendered scikit-learn.org. See: https://github.com/scikit-learn/scikit-learn/issues/21755 */display: inline-block !important;position: relative;}#sk-container-id-2 div.sk-text-repr-fallback {display: none;}</style><div id=\"sk-container-id-2\" class=\"sk-top-container\"><div class=\"sk-text-repr-fallback\"><pre>LinearRegression()</pre><b>In a Jupyter environment, please rerun this cell to show the HTML representation or trust the notebook. <br />On GitHub, the HTML representation is unable to render, please try loading this page with nbviewer.org.</b></div><div class=\"sk-container\" hidden><div class=\"sk-item\"><div class=\"sk-estimator sk-toggleable\"><input class=\"sk-toggleable__control sk-hidden--visually\" id=\"sk-estimator-id-2\" type=\"checkbox\" checked><label for=\"sk-estimator-id-2\" class=\"sk-toggleable__label sk-toggleable__label-arrow\">LinearRegression</label><div class=\"sk-toggleable__content\"><pre>LinearRegression()</pre></div></div></div></div></div>"
      ],
      "text/plain": [
       "LinearRegression()"
      ]
     },
     "execution_count": 40,
     "metadata": {},
     "output_type": "execute_result"
    }
   ],
   "source": [
    "# Fiteamos a los datos de entrenamiento\n",
    "lin_reg.fit(X_train, y_train)"
   ]
  },
  {
   "cell_type": "code",
   "execution_count": 41,
   "id": "bda3a8f2-08a2-4596-ba44-940a5e26b832",
   "metadata": {},
   "outputs": [
    {
     "name": "stdout",
     "output_type": "stream",
     "text": [
      "El valor de la interseccion de la recta sera 583.8009316546593\n",
      "Los valores de los coeficientes de la recta sera [-1.10954682e-03  5.74667581e-01 -1.65816237e-03  1.51291922e+02\n",
      "  6.44403423e-03  1.30717270e+00  2.88670564e+00  8.96314958e+00\n",
      " -6.92139223e-02 -4.79477007e-02  1.06784259e+01 -5.69692673e-01\n",
      "  1.04132203e+00 -8.16635537e-01 -7.37005365e-01  1.45367014e-01\n",
      " -1.55002229e+00 -3.85496684e-01  1.72498066e-01 -1.52320675e+00\n",
      " -3.01381875e+00 -1.19384594e+00 -5.65297738e-01 -3.58211814e-01\n",
      " -1.17831897e+00 -1.47670386e+00 -7.68970524e-01 -1.76360049e+00\n",
      "  2.63680061e-02 -2.49420758e-01 -8.62148752e-01 -1.54407359e+00\n",
      "  3.65694393e-02 -1.42097048e+00 -1.64191375e+00 -1.17083056e+00\n",
      " -1.80724751e+00 -1.03976772e+00 -9.54889216e-01 -1.83395528e+00\n",
      " -3.16415484e+00 -7.87603393e-01 -2.25409721e+11 -2.05495548e+12\n",
      "  2.53719309e+13 -6.22261623e+11  2.05495548e+12 -2.53719309e+13\n",
      "  2.05495548e+12 -2.53719309e+13  2.05495548e+12 -2.53719309e+13\n",
      "  2.25409721e+11  2.25409721e+11  2.25409721e+11 -2.53719309e+13\n",
      "  2.05495548e+12  6.22261623e+11  2.05495548e+12  2.25409721e+11]\n"
     ]
    }
   ],
   "source": [
    "print(f\"El valor de la interseccion de la recta sera {lin_reg.intercept_ }\")\n",
    "print(f\"Los valores de los coeficientes de la recta sera {lin_reg.coef_ }\")"
   ]
  },
  {
   "cell_type": "code",
   "execution_count": 42,
   "id": "49718ee4-cacc-4381-b6e7-e0e5b6ed4043",
   "metadata": {},
   "outputs": [
    {
     "name": "stdout",
     "output_type": "stream",
     "text": [
      "El coeficiente de Pearson es 0.9902740028627143\n"
     ]
    }
   ],
   "source": [
    "print(f\"El coeficiente de Pearson es {lin_reg.score(X_train, y_train)}\")"
   ]
  },
  {
   "cell_type": "code",
   "execution_count": 43,
   "id": "216446b3-27f7-46af-b8c8-36a4530dfec4",
   "metadata": {},
   "outputs": [
    {
     "name": "stdout",
     "output_type": "stream",
     "text": [
      "Desvío estándar del modelo 16.090843467637306\n"
     ]
    }
   ],
   "source": [
    "# Calculamos el desvío estándar del modelo\n",
    "std_dev_model = np.sqrt((np.sum((y_train - lin_reg.predict(X_train))**2))/(y_train.size-60)) # 60 son los features?\n",
    "print(f\"Desvío estándar del modelo {std_dev_model}\")"
   ]
  },
  {
   "cell_type": "code",
   "execution_count": 44,
   "id": "ac9a8530-c16a-4608-b0c4-e432d3650e20",
   "metadata": {},
   "outputs": [],
   "source": [
    "# Calculamos el target predicho\n",
    "y_pred = lin_reg.predict(X_test)"
   ]
  },
  {
   "cell_type": "code",
   "execution_count": 45,
   "id": "c18e07a5-30f6-443f-a2e5-babced37dfe2",
   "metadata": {},
   "outputs": [
    {
     "name": "stdout",
     "output_type": "stream",
     "text": [
      "R-cuadrado en test: 0.9901525168477157\n",
      "Error absoluto medio: 13.794787439491401\n",
      "Error cuadratico medio: 260.7504696891346\n",
      "Raiz de error cuadratico medio: 16.147769805429313\n",
      "Error absoluto porcentual medio: 2.63%\n",
      "Error porcentual medio: -0.16%\n"
     ]
    }
   ],
   "source": [
    "# Analizamos los scores\n",
    "r2 = r2_score(y_test, y_pred)\n",
    "mae = mean_absolute_error(y_test, y_pred)\n",
    "mse = mean_squared_error(y_test, y_pred)\n",
    "rmse = np.sqrt(mse)\n",
    "mape = mean_absolute_percentage_error(y_test, y_pred)\n",
    "mpe = mean_porcentual_error(y_test, y_pred)\n",
    "print(\"R-cuadrado en test:\", r2)\n",
    "print(\"Error absoluto medio:\", mae)\n",
    "print(\"Error cuadratico medio:\", mse)\n",
    "print(\"Raiz de error cuadratico medio:\", rmse)\n",
    "print(f\"Error absoluto porcentual medio: {mape*100:.2f}%\")\n",
    "print(f\"Error porcentual medio: {mpe*100:.2f}%\")"
   ]
  },
  {
   "cell_type": "code",
   "execution_count": 46,
   "id": "9539c9e9-84ff-4755-9f58-e80051ab535c",
   "metadata": {},
   "outputs": [],
   "source": [
    "# El modelo de statsmodel necesita una entrada para el termino independiente.\n",
    "# Para ello vamos a agregar una columna de 1 en la primera columna\n",
    "X_statsmodels = np.append(arr = np.ones((X_new.shape[0],1)).astype(int), values = X_new, axis = 1)\n",
    "\n",
    "# Nivel de significancia que vamos a usar\n",
    "SL = 0.05"
   ]
  },
  {
   "cell_type": "code",
   "execution_count": 47,
   "id": "04bcf9d9-cbc2-4ea5-9990-146d3eca910f",
   "metadata": {},
   "outputs": [
    {
     "data": {
      "text/plain": [
       "(279856, 61)"
      ]
     },
     "execution_count": 47,
     "metadata": {},
     "output_type": "execute_result"
    }
   ],
   "source": [
    "X_statsmodels.shape"
   ]
  },
  {
   "cell_type": "code",
   "execution_count": 48,
   "id": "5c859b1b-3d87-4c15-9173-300c5cdb3267",
   "metadata": {},
   "outputs": [
    {
     "data": {
      "text/html": [
       "<table class=\"simpletable\">\n",
       "<caption>OLS Regression Results</caption>\n",
       "<tr>\n",
       "  <th>Dep. Variable:</th>      <td>Credit Score</td>   <th>  R-squared:         </th>  <td>   0.786</td> \n",
       "</tr>\n",
       "<tr>\n",
       "  <th>Model:</th>                   <td>OLS</td>       <th>  Adj. R-squared:    </th>  <td>   0.786</td> \n",
       "</tr>\n",
       "<tr>\n",
       "  <th>Method:</th>             <td>Least Squares</td>  <th>  F-statistic:       </th>  <td>1.838e+04</td>\n",
       "</tr>\n",
       "<tr>\n",
       "  <th>Date:</th>             <td>Mon, 11 Sep 2023</td> <th>  Prob (F-statistic):</th>   <td>  0.00</td>  \n",
       "</tr>\n",
       "<tr>\n",
       "  <th>Time:</th>                 <td>13:44:56</td>     <th>  Log-Likelihood:    </th>  <td>  12791.</td> \n",
       "</tr>\n",
       "<tr>\n",
       "  <th>No. Observations:</th>      <td>279856</td>      <th>  AIC:               </th> <td>-2.547e+04</td>\n",
       "</tr>\n",
       "<tr>\n",
       "  <th>Df Residuals:</th>          <td>279799</td>      <th>  BIC:               </th> <td>-2.487e+04</td>\n",
       "</tr>\n",
       "<tr>\n",
       "  <th>Df Model:</th>              <td>    56</td>      <th>                     </th>      <td> </td>    \n",
       "</tr>\n",
       "<tr>\n",
       "  <th>Covariance Type:</th>      <td>nonrobust</td>    <th>                     </th>      <td> </td>    \n",
       "</tr>\n",
       "</table>\n",
       "<table class=\"simpletable\">\n",
       "<tr>\n",
       "    <td></td>       <th>coef</th>     <th>std err</th>      <th>t</th>      <th>P>|t|</th>  <th>[0.025</th>    <th>0.975]</th>  \n",
       "</tr>\n",
       "<tr>\n",
       "  <th>const</th> <td>    0.4698</td> <td>    0.006</td> <td>   76.037</td> <td> 0.000</td> <td>    0.458</td> <td>    0.482</td>\n",
       "</tr>\n",
       "<tr>\n",
       "  <th>x1</th>    <td>   -0.0009</td> <td>    0.001</td> <td>   -1.666</td> <td> 0.096</td> <td>   -0.002</td> <td>    0.000</td>\n",
       "</tr>\n",
       "<tr>\n",
       "  <th>x2</th>    <td>   -0.0159</td> <td>    0.001</td> <td>  -26.460</td> <td> 0.000</td> <td>   -0.017</td> <td>   -0.015</td>\n",
       "</tr>\n",
       "<tr>\n",
       "  <th>x3</th>    <td>    0.0006</td> <td>    0.000</td> <td>    1.476</td> <td> 0.140</td> <td>   -0.000</td> <td>    0.002</td>\n",
       "</tr>\n",
       "<tr>\n",
       "  <th>x4</th>    <td>    0.2603</td> <td>    0.001</td> <td>  246.467</td> <td> 0.000</td> <td>    0.258</td> <td>    0.262</td>\n",
       "</tr>\n",
       "<tr>\n",
       "  <th>x5</th>    <td>    0.0005</td> <td>    0.000</td> <td>    1.102</td> <td> 0.271</td> <td>   -0.000</td> <td>    0.001</td>\n",
       "</tr>\n",
       "<tr>\n",
       "  <th>x6</th>    <td>    0.1160</td> <td>    0.001</td> <td>  198.468</td> <td> 0.000</td> <td>    0.115</td> <td>    0.117</td>\n",
       "</tr>\n",
       "<tr>\n",
       "  <th>x7</th>    <td>    0.0351</td> <td>    0.001</td> <td>   64.684</td> <td> 0.000</td> <td>    0.034</td> <td>    0.036</td>\n",
       "</tr>\n",
       "<tr>\n",
       "  <th>x8</th>    <td>    0.0570</td> <td>    0.001</td> <td>   70.711</td> <td> 0.000</td> <td>    0.055</td> <td>    0.059</td>\n",
       "</tr>\n",
       "<tr>\n",
       "  <th>x9</th>    <td>   -0.0031</td> <td>    0.002</td> <td>   -1.520</td> <td> 0.128</td> <td>   -0.007</td> <td>    0.001</td>\n",
       "</tr>\n",
       "<tr>\n",
       "  <th>x10</th>   <td>   -0.0011</td> <td>    0.002</td> <td>   -0.525</td> <td> 0.599</td> <td>   -0.005</td> <td>    0.003</td>\n",
       "</tr>\n",
       "<tr>\n",
       "  <th>x11</th>   <td>    0.1699</td> <td>    0.002</td> <td>   98.536</td> <td> 0.000</td> <td>    0.167</td> <td>    0.173</td>\n",
       "</tr>\n",
       "<tr>\n",
       "  <th>x12</th>   <td>   -0.0104</td> <td>    0.005</td> <td>   -2.050</td> <td> 0.040</td> <td>   -0.020</td> <td>   -0.000</td>\n",
       "</tr>\n",
       "<tr>\n",
       "  <th>x13</th>   <td>   -0.0040</td> <td>    0.005</td> <td>   -0.790</td> <td> 0.429</td> <td>   -0.014</td> <td>    0.006</td>\n",
       "</tr>\n",
       "<tr>\n",
       "  <th>x14</th>   <td>   -0.0054</td> <td>    0.005</td> <td>   -1.071</td> <td> 0.284</td> <td>   -0.015</td> <td>    0.004</td>\n",
       "</tr>\n",
       "<tr>\n",
       "  <th>x15</th>   <td>   -0.0117</td> <td>    0.005</td> <td>   -2.331</td> <td> 0.020</td> <td>   -0.022</td> <td>   -0.002</td>\n",
       "</tr>\n",
       "<tr>\n",
       "  <th>x16</th>   <td>   -0.0056</td> <td>    0.005</td> <td>   -1.113</td> <td> 0.266</td> <td>   -0.016</td> <td>    0.004</td>\n",
       "</tr>\n",
       "<tr>\n",
       "  <th>x17</th>   <td>   -0.0033</td> <td>    0.005</td> <td>   -0.642</td> <td> 0.521</td> <td>   -0.013</td> <td>    0.007</td>\n",
       "</tr>\n",
       "<tr>\n",
       "  <th>x18</th>   <td>    0.0070</td> <td>    0.005</td> <td>    1.386</td> <td> 0.166</td> <td>   -0.003</td> <td>    0.017</td>\n",
       "</tr>\n",
       "<tr>\n",
       "  <th>x19</th>   <td>    0.0006</td> <td>    0.005</td> <td>    0.125</td> <td> 0.901</td> <td>   -0.009</td> <td>    0.010</td>\n",
       "</tr>\n",
       "<tr>\n",
       "  <th>x20</th>   <td>   -0.0184</td> <td>    0.005</td> <td>   -3.593</td> <td> 0.000</td> <td>   -0.028</td> <td>   -0.008</td>\n",
       "</tr>\n",
       "<tr>\n",
       "  <th>x21</th>   <td>    0.0060</td> <td>    0.006</td> <td>    1.020</td> <td> 0.308</td> <td>   -0.006</td> <td>    0.018</td>\n",
       "</tr>\n",
       "<tr>\n",
       "  <th>x22</th>   <td>    0.0078</td> <td>    0.006</td> <td>    1.332</td> <td> 0.183</td> <td>   -0.004</td> <td>    0.019</td>\n",
       "</tr>\n",
       "<tr>\n",
       "  <th>x23</th>   <td>    0.0061</td> <td>    0.005</td> <td>    1.287</td> <td> 0.198</td> <td>   -0.003</td> <td>    0.015</td>\n",
       "</tr>\n",
       "<tr>\n",
       "  <th>x24</th>   <td>    0.0044</td> <td>    0.005</td> <td>    0.919</td> <td> 0.358</td> <td>   -0.005</td> <td>    0.014</td>\n",
       "</tr>\n",
       "<tr>\n",
       "  <th>x25</th>   <td>   -0.0109</td> <td>    0.006</td> <td>   -1.864</td> <td> 0.062</td> <td>   -0.022</td> <td>    0.001</td>\n",
       "</tr>\n",
       "<tr>\n",
       "  <th>x26</th>   <td>   -0.0088</td> <td>    0.006</td> <td>   -1.507</td> <td> 0.132</td> <td>   -0.020</td> <td>    0.003</td>\n",
       "</tr>\n",
       "<tr>\n",
       "  <th>x27</th>   <td>   -0.0013</td> <td>    0.005</td> <td>   -0.271</td> <td> 0.787</td> <td>   -0.011</td> <td>    0.008</td>\n",
       "</tr>\n",
       "<tr>\n",
       "  <th>x28</th>   <td>   -0.0040</td> <td>    0.006</td> <td>   -0.710</td> <td> 0.478</td> <td>   -0.015</td> <td>    0.007</td>\n",
       "</tr>\n",
       "<tr>\n",
       "  <th>x29</th>   <td>   -0.0007</td> <td>    0.003</td> <td>   -0.225</td> <td> 0.822</td> <td>   -0.007</td> <td>    0.005</td>\n",
       "</tr>\n",
       "<tr>\n",
       "  <th>x30</th>   <td>    0.0064</td> <td>    0.006</td> <td>    1.079</td> <td> 0.281</td> <td>   -0.005</td> <td>    0.018</td>\n",
       "</tr>\n",
       "<tr>\n",
       "  <th>x31</th>   <td>    0.0128</td> <td>    0.006</td> <td>    2.185</td> <td> 0.029</td> <td>    0.001</td> <td>    0.024</td>\n",
       "</tr>\n",
       "<tr>\n",
       "  <th>x32</th>   <td>   -0.0024</td> <td>    0.006</td> <td>   -0.417</td> <td> 0.677</td> <td>   -0.014</td> <td>    0.009</td>\n",
       "</tr>\n",
       "<tr>\n",
       "  <th>x33</th>   <td>    0.0091</td> <td>    0.006</td> <td>    1.523</td> <td> 0.128</td> <td>   -0.003</td> <td>    0.021</td>\n",
       "</tr>\n",
       "<tr>\n",
       "  <th>x34</th>   <td>    0.0064</td> <td>    0.005</td> <td>    1.351</td> <td> 0.177</td> <td>   -0.003</td> <td>    0.016</td>\n",
       "</tr>\n",
       "<tr>\n",
       "  <th>x35</th>   <td>    0.0071</td> <td>    0.006</td> <td>    1.175</td> <td> 0.240</td> <td>   -0.005</td> <td>    0.019</td>\n",
       "</tr>\n",
       "<tr>\n",
       "  <th>x36</th>   <td>   -0.0049</td> <td>    0.006</td> <td>   -0.841</td> <td> 0.400</td> <td>   -0.016</td> <td>    0.007</td>\n",
       "</tr>\n",
       "<tr>\n",
       "  <th>x37</th>   <td>    0.0082</td> <td>    0.006</td> <td>    1.345</td> <td> 0.179</td> <td>   -0.004</td> <td>    0.020</td>\n",
       "</tr>\n",
       "<tr>\n",
       "  <th>x38</th>   <td>    0.0080</td> <td>    0.005</td> <td>    1.687</td> <td> 0.092</td> <td>   -0.001</td> <td>    0.017</td>\n",
       "</tr>\n",
       "<tr>\n",
       "  <th>x39</th>   <td>    0.0051</td> <td>    0.006</td> <td>    0.894</td> <td> 0.371</td> <td>   -0.006</td> <td>    0.016</td>\n",
       "</tr>\n",
       "<tr>\n",
       "  <th>x40</th>   <td>   -0.0021</td> <td>    0.006</td> <td>   -0.353</td> <td> 0.724</td> <td>   -0.014</td> <td>    0.010</td>\n",
       "</tr>\n",
       "<tr>\n",
       "  <th>x41</th>   <td>   -0.0001</td> <td>    0.006</td> <td>   -0.024</td> <td> 0.981</td> <td>   -0.012</td> <td>    0.011</td>\n",
       "</tr>\n",
       "<tr>\n",
       "  <th>x42</th>   <td>    0.0094</td> <td>    0.006</td> <td>    1.598</td> <td> 0.110</td> <td>   -0.002</td> <td>    0.021</td>\n",
       "</tr>\n",
       "<tr>\n",
       "  <th>x43</th>   <td>-4.203e+09</td> <td> 1.85e+10</td> <td>   -0.227</td> <td> 0.820</td> <td>-4.04e+10</td> <td>  3.2e+10</td>\n",
       "</tr>\n",
       "<tr>\n",
       "  <th>x44</th>   <td> 1.354e+10</td> <td> 5.95e+10</td> <td>    0.227</td> <td> 0.820</td> <td>-1.03e+11</td> <td>  1.3e+11</td>\n",
       "</tr>\n",
       "<tr>\n",
       "  <th>x45</th>   <td> 1.506e+10</td> <td> 6.62e+10</td> <td>    0.227</td> <td> 0.820</td> <td>-1.15e+11</td> <td> 1.45e+11</td>\n",
       "</tr>\n",
       "<tr>\n",
       "  <th>x46</th>   <td> 1.562e+10</td> <td> 6.87e+10</td> <td>    0.227</td> <td> 0.820</td> <td>-1.19e+11</td> <td>  1.5e+11</td>\n",
       "</tr>\n",
       "<tr>\n",
       "  <th>x47</th>   <td>-1.354e+10</td> <td> 5.95e+10</td> <td>   -0.227</td> <td> 0.820</td> <td> -1.3e+11</td> <td> 1.03e+11</td>\n",
       "</tr>\n",
       "<tr>\n",
       "  <th>x48</th>   <td>-1.506e+10</td> <td> 6.62e+10</td> <td>   -0.227</td> <td> 0.820</td> <td>-1.45e+11</td> <td> 1.15e+11</td>\n",
       "</tr>\n",
       "<tr>\n",
       "  <th>x49</th>   <td>-1.354e+10</td> <td> 5.95e+10</td> <td>   -0.227</td> <td> 0.820</td> <td> -1.3e+11</td> <td> 1.03e+11</td>\n",
       "</tr>\n",
       "<tr>\n",
       "  <th>x50</th>   <td>-1.506e+10</td> <td> 6.62e+10</td> <td>   -0.227</td> <td> 0.820</td> <td>-1.45e+11</td> <td> 1.15e+11</td>\n",
       "</tr>\n",
       "<tr>\n",
       "  <th>x51</th>   <td>-1.354e+10</td> <td> 5.95e+10</td> <td>   -0.227</td> <td> 0.820</td> <td> -1.3e+11</td> <td> 1.03e+11</td>\n",
       "</tr>\n",
       "<tr>\n",
       "  <th>x52</th>   <td>-1.506e+10</td> <td> 6.62e+10</td> <td>   -0.227</td> <td> 0.820</td> <td>-1.45e+11</td> <td> 1.15e+11</td>\n",
       "</tr>\n",
       "<tr>\n",
       "  <th>x53</th>   <td> 4.203e+09</td> <td> 1.85e+10</td> <td>    0.227</td> <td> 0.820</td> <td> -3.2e+10</td> <td> 4.04e+10</td>\n",
       "</tr>\n",
       "<tr>\n",
       "  <th>x54</th>   <td> 4.203e+09</td> <td> 1.85e+10</td> <td>    0.227</td> <td> 0.820</td> <td> -3.2e+10</td> <td> 4.04e+10</td>\n",
       "</tr>\n",
       "<tr>\n",
       "  <th>x55</th>   <td> 4.203e+09</td> <td> 1.85e+10</td> <td>    0.227</td> <td> 0.820</td> <td> -3.2e+10</td> <td> 4.04e+10</td>\n",
       "</tr>\n",
       "<tr>\n",
       "  <th>x56</th>   <td>-1.506e+10</td> <td> 6.62e+10</td> <td>   -0.227</td> <td> 0.820</td> <td>-1.45e+11</td> <td> 1.15e+11</td>\n",
       "</tr>\n",
       "<tr>\n",
       "  <th>x57</th>   <td>-1.354e+10</td> <td> 5.95e+10</td> <td>   -0.227</td> <td> 0.820</td> <td> -1.3e+11</td> <td> 1.03e+11</td>\n",
       "</tr>\n",
       "<tr>\n",
       "  <th>x58</th>   <td>-1.562e+10</td> <td> 6.87e+10</td> <td>   -0.227</td> <td> 0.820</td> <td> -1.5e+11</td> <td> 1.19e+11</td>\n",
       "</tr>\n",
       "<tr>\n",
       "  <th>x59</th>   <td>-1.354e+10</td> <td> 5.95e+10</td> <td>   -0.227</td> <td> 0.820</td> <td> -1.3e+11</td> <td> 1.03e+11</td>\n",
       "</tr>\n",
       "<tr>\n",
       "  <th>x60</th>   <td> 4.203e+09</td> <td> 1.85e+10</td> <td>    0.227</td> <td> 0.820</td> <td> -3.2e+10</td> <td> 4.04e+10</td>\n",
       "</tr>\n",
       "</table>\n",
       "<table class=\"simpletable\">\n",
       "<tr>\n",
       "  <th>Omnibus:</th>       <td>16077.480</td> <th>  Durbin-Watson:     </th> <td>   2.001</td> \n",
       "</tr>\n",
       "<tr>\n",
       "  <th>Prob(Omnibus):</th>  <td> 0.000</td>   <th>  Jarque-Bera (JB):  </th> <td>18977.008</td>\n",
       "</tr>\n",
       "<tr>\n",
       "  <th>Skew:</th>           <td> 0.629</td>   <th>  Prob(JB):          </th> <td>    0.00</td> \n",
       "</tr>\n",
       "<tr>\n",
       "  <th>Kurtosis:</th>       <td> 3.215</td>   <th>  Cond. No.          </th> <td>4.16e+15</td> \n",
       "</tr>\n",
       "</table><br/><br/>Notes:<br/>[1] Standard Errors assume that the covariance matrix of the errors is correctly specified.<br/>[2] The smallest eigenvalue is 4.69e-26. This might indicate that there are<br/>strong multicollinearity problems or that the design matrix is singular."
      ],
      "text/latex": [
       "\\begin{center}\n",
       "\\begin{tabular}{lclc}\n",
       "\\toprule\n",
       "\\textbf{Dep. Variable:}    &   Credit Score   & \\textbf{  R-squared:         } &     0.786   \\\\\n",
       "\\textbf{Model:}            &       OLS        & \\textbf{  Adj. R-squared:    } &     0.786   \\\\\n",
       "\\textbf{Method:}           &  Least Squares   & \\textbf{  F-statistic:       } & 1.838e+04   \\\\\n",
       "\\textbf{Date:}             & Mon, 11 Sep 2023 & \\textbf{  Prob (F-statistic):} &     0.00    \\\\\n",
       "\\textbf{Time:}             &     13:44:56     & \\textbf{  Log-Likelihood:    } &    12791.   \\\\\n",
       "\\textbf{No. Observations:} &      279856      & \\textbf{  AIC:               } & -2.547e+04  \\\\\n",
       "\\textbf{Df Residuals:}     &      279799      & \\textbf{  BIC:               } & -2.487e+04  \\\\\n",
       "\\textbf{Df Model:}         &          56      & \\textbf{                     } &             \\\\\n",
       "\\textbf{Covariance Type:}  &    nonrobust     & \\textbf{                     } &             \\\\\n",
       "\\bottomrule\n",
       "\\end{tabular}\n",
       "\\begin{tabular}{lcccccc}\n",
       "               & \\textbf{coef} & \\textbf{std err} & \\textbf{t} & \\textbf{P$> |$t$|$} & \\textbf{[0.025} & \\textbf{0.975]}  \\\\\n",
       "\\midrule\n",
       "\\textbf{const} &       0.4698  &        0.006     &    76.037  &         0.000        &        0.458    &        0.482     \\\\\n",
       "\\textbf{x1}    &      -0.0009  &        0.001     &    -1.666  &         0.096        &       -0.002    &        0.000     \\\\\n",
       "\\textbf{x2}    &      -0.0159  &        0.001     &   -26.460  &         0.000        &       -0.017    &       -0.015     \\\\\n",
       "\\textbf{x3}    &       0.0006  &        0.000     &     1.476  &         0.140        &       -0.000    &        0.002     \\\\\n",
       "\\textbf{x4}    &       0.2603  &        0.001     &   246.467  &         0.000        &        0.258    &        0.262     \\\\\n",
       "\\textbf{x5}    &       0.0005  &        0.000     &     1.102  &         0.271        &       -0.000    &        0.001     \\\\\n",
       "\\textbf{x6}    &       0.1160  &        0.001     &   198.468  &         0.000        &        0.115    &        0.117     \\\\\n",
       "\\textbf{x7}    &       0.0351  &        0.001     &    64.684  &         0.000        &        0.034    &        0.036     \\\\\n",
       "\\textbf{x8}    &       0.0570  &        0.001     &    70.711  &         0.000        &        0.055    &        0.059     \\\\\n",
       "\\textbf{x9}    &      -0.0031  &        0.002     &    -1.520  &         0.128        &       -0.007    &        0.001     \\\\\n",
       "\\textbf{x10}   &      -0.0011  &        0.002     &    -0.525  &         0.599        &       -0.005    &        0.003     \\\\\n",
       "\\textbf{x11}   &       0.1699  &        0.002     &    98.536  &         0.000        &        0.167    &        0.173     \\\\\n",
       "\\textbf{x12}   &      -0.0104  &        0.005     &    -2.050  &         0.040        &       -0.020    &       -0.000     \\\\\n",
       "\\textbf{x13}   &      -0.0040  &        0.005     &    -0.790  &         0.429        &       -0.014    &        0.006     \\\\\n",
       "\\textbf{x14}   &      -0.0054  &        0.005     &    -1.071  &         0.284        &       -0.015    &        0.004     \\\\\n",
       "\\textbf{x15}   &      -0.0117  &        0.005     &    -2.331  &         0.020        &       -0.022    &       -0.002     \\\\\n",
       "\\textbf{x16}   &      -0.0056  &        0.005     &    -1.113  &         0.266        &       -0.016    &        0.004     \\\\\n",
       "\\textbf{x17}   &      -0.0033  &        0.005     &    -0.642  &         0.521        &       -0.013    &        0.007     \\\\\n",
       "\\textbf{x18}   &       0.0070  &        0.005     &     1.386  &         0.166        &       -0.003    &        0.017     \\\\\n",
       "\\textbf{x19}   &       0.0006  &        0.005     &     0.125  &         0.901        &       -0.009    &        0.010     \\\\\n",
       "\\textbf{x20}   &      -0.0184  &        0.005     &    -3.593  &         0.000        &       -0.028    &       -0.008     \\\\\n",
       "\\textbf{x21}   &       0.0060  &        0.006     &     1.020  &         0.308        &       -0.006    &        0.018     \\\\\n",
       "\\textbf{x22}   &       0.0078  &        0.006     &     1.332  &         0.183        &       -0.004    &        0.019     \\\\\n",
       "\\textbf{x23}   &       0.0061  &        0.005     &     1.287  &         0.198        &       -0.003    &        0.015     \\\\\n",
       "\\textbf{x24}   &       0.0044  &        0.005     &     0.919  &         0.358        &       -0.005    &        0.014     \\\\\n",
       "\\textbf{x25}   &      -0.0109  &        0.006     &    -1.864  &         0.062        &       -0.022    &        0.001     \\\\\n",
       "\\textbf{x26}   &      -0.0088  &        0.006     &    -1.507  &         0.132        &       -0.020    &        0.003     \\\\\n",
       "\\textbf{x27}   &      -0.0013  &        0.005     &    -0.271  &         0.787        &       -0.011    &        0.008     \\\\\n",
       "\\textbf{x28}   &      -0.0040  &        0.006     &    -0.710  &         0.478        &       -0.015    &        0.007     \\\\\n",
       "\\textbf{x29}   &      -0.0007  &        0.003     &    -0.225  &         0.822        &       -0.007    &        0.005     \\\\\n",
       "\\textbf{x30}   &       0.0064  &        0.006     &     1.079  &         0.281        &       -0.005    &        0.018     \\\\\n",
       "\\textbf{x31}   &       0.0128  &        0.006     &     2.185  &         0.029        &        0.001    &        0.024     \\\\\n",
       "\\textbf{x32}   &      -0.0024  &        0.006     &    -0.417  &         0.677        &       -0.014    &        0.009     \\\\\n",
       "\\textbf{x33}   &       0.0091  &        0.006     &     1.523  &         0.128        &       -0.003    &        0.021     \\\\\n",
       "\\textbf{x34}   &       0.0064  &        0.005     &     1.351  &         0.177        &       -0.003    &        0.016     \\\\\n",
       "\\textbf{x35}   &       0.0071  &        0.006     &     1.175  &         0.240        &       -0.005    &        0.019     \\\\\n",
       "\\textbf{x36}   &      -0.0049  &        0.006     &    -0.841  &         0.400        &       -0.016    &        0.007     \\\\\n",
       "\\textbf{x37}   &       0.0082  &        0.006     &     1.345  &         0.179        &       -0.004    &        0.020     \\\\\n",
       "\\textbf{x38}   &       0.0080  &        0.005     &     1.687  &         0.092        &       -0.001    &        0.017     \\\\\n",
       "\\textbf{x39}   &       0.0051  &        0.006     &     0.894  &         0.371        &       -0.006    &        0.016     \\\\\n",
       "\\textbf{x40}   &      -0.0021  &        0.006     &    -0.353  &         0.724        &       -0.014    &        0.010     \\\\\n",
       "\\textbf{x41}   &      -0.0001  &        0.006     &    -0.024  &         0.981        &       -0.012    &        0.011     \\\\\n",
       "\\textbf{x42}   &       0.0094  &        0.006     &     1.598  &         0.110        &       -0.002    &        0.021     \\\\\n",
       "\\textbf{x43}   &   -4.203e+09  &     1.85e+10     &    -0.227  &         0.820        &    -4.04e+10    &      3.2e+10     \\\\\n",
       "\\textbf{x44}   &    1.354e+10  &     5.95e+10     &     0.227  &         0.820        &    -1.03e+11    &      1.3e+11     \\\\\n",
       "\\textbf{x45}   &    1.506e+10  &     6.62e+10     &     0.227  &         0.820        &    -1.15e+11    &     1.45e+11     \\\\\n",
       "\\textbf{x46}   &    1.562e+10  &     6.87e+10     &     0.227  &         0.820        &    -1.19e+11    &      1.5e+11     \\\\\n",
       "\\textbf{x47}   &   -1.354e+10  &     5.95e+10     &    -0.227  &         0.820        &     -1.3e+11    &     1.03e+11     \\\\\n",
       "\\textbf{x48}   &   -1.506e+10  &     6.62e+10     &    -0.227  &         0.820        &    -1.45e+11    &     1.15e+11     \\\\\n",
       "\\textbf{x49}   &   -1.354e+10  &     5.95e+10     &    -0.227  &         0.820        &     -1.3e+11    &     1.03e+11     \\\\\n",
       "\\textbf{x50}   &   -1.506e+10  &     6.62e+10     &    -0.227  &         0.820        &    -1.45e+11    &     1.15e+11     \\\\\n",
       "\\textbf{x51}   &   -1.354e+10  &     5.95e+10     &    -0.227  &         0.820        &     -1.3e+11    &     1.03e+11     \\\\\n",
       "\\textbf{x52}   &   -1.506e+10  &     6.62e+10     &    -0.227  &         0.820        &    -1.45e+11    &     1.15e+11     \\\\\n",
       "\\textbf{x53}   &    4.203e+09  &     1.85e+10     &     0.227  &         0.820        &     -3.2e+10    &     4.04e+10     \\\\\n",
       "\\textbf{x54}   &    4.203e+09  &     1.85e+10     &     0.227  &         0.820        &     -3.2e+10    &     4.04e+10     \\\\\n",
       "\\textbf{x55}   &    4.203e+09  &     1.85e+10     &     0.227  &         0.820        &     -3.2e+10    &     4.04e+10     \\\\\n",
       "\\textbf{x56}   &   -1.506e+10  &     6.62e+10     &    -0.227  &         0.820        &    -1.45e+11    &     1.15e+11     \\\\\n",
       "\\textbf{x57}   &   -1.354e+10  &     5.95e+10     &    -0.227  &         0.820        &     -1.3e+11    &     1.03e+11     \\\\\n",
       "\\textbf{x58}   &   -1.562e+10  &     6.87e+10     &    -0.227  &         0.820        &     -1.5e+11    &     1.19e+11     \\\\\n",
       "\\textbf{x59}   &   -1.354e+10  &     5.95e+10     &    -0.227  &         0.820        &     -1.3e+11    &     1.03e+11     \\\\\n",
       "\\textbf{x60}   &    4.203e+09  &     1.85e+10     &     0.227  &         0.820        &     -3.2e+10    &     4.04e+10     \\\\\n",
       "\\bottomrule\n",
       "\\end{tabular}\n",
       "\\begin{tabular}{lclc}\n",
       "\\textbf{Omnibus:}       & 16077.480 & \\textbf{  Durbin-Watson:     } &     2.001  \\\\\n",
       "\\textbf{Prob(Omnibus):} &    0.000  & \\textbf{  Jarque-Bera (JB):  } & 18977.008  \\\\\n",
       "\\textbf{Skew:}          &    0.629  & \\textbf{  Prob(JB):          } &      0.00  \\\\\n",
       "\\textbf{Kurtosis:}      &    3.215  & \\textbf{  Cond. No.          } &  4.16e+15  \\\\\n",
       "\\bottomrule\n",
       "\\end{tabular}\n",
       "%\\caption{OLS Regression Results}\n",
       "\\end{center}\n",
       "\n",
       "Notes: \\newline\n",
       " [1] Standard Errors assume that the covariance matrix of the errors is correctly specified. \\newline\n",
       " [2] The smallest eigenvalue is 4.69e-26. This might indicate that there are \\newline\n",
       " strong multicollinearity problems or that the design matrix is singular."
      ],
      "text/plain": [
       "<class 'statsmodels.iolib.summary.Summary'>\n",
       "\"\"\"\n",
       "                            OLS Regression Results                            \n",
       "==============================================================================\n",
       "Dep. Variable:           Credit Score   R-squared:                       0.786\n",
       "Model:                            OLS   Adj. R-squared:                  0.786\n",
       "Method:                 Least Squares   F-statistic:                 1.838e+04\n",
       "Date:                Mon, 11 Sep 2023   Prob (F-statistic):               0.00\n",
       "Time:                        13:44:56   Log-Likelihood:                 12791.\n",
       "No. Observations:              279856   AIC:                        -2.547e+04\n",
       "Df Residuals:                  279799   BIC:                        -2.487e+04\n",
       "Df Model:                          56                                         \n",
       "Covariance Type:            nonrobust                                         \n",
       "==============================================================================\n",
       "                 coef    std err          t      P>|t|      [0.025      0.975]\n",
       "------------------------------------------------------------------------------\n",
       "const          0.4698      0.006     76.037      0.000       0.458       0.482\n",
       "x1            -0.0009      0.001     -1.666      0.096      -0.002       0.000\n",
       "x2            -0.0159      0.001    -26.460      0.000      -0.017      -0.015\n",
       "x3             0.0006      0.000      1.476      0.140      -0.000       0.002\n",
       "x4             0.2603      0.001    246.467      0.000       0.258       0.262\n",
       "x5             0.0005      0.000      1.102      0.271      -0.000       0.001\n",
       "x6             0.1160      0.001    198.468      0.000       0.115       0.117\n",
       "x7             0.0351      0.001     64.684      0.000       0.034       0.036\n",
       "x8             0.0570      0.001     70.711      0.000       0.055       0.059\n",
       "x9            -0.0031      0.002     -1.520      0.128      -0.007       0.001\n",
       "x10           -0.0011      0.002     -0.525      0.599      -0.005       0.003\n",
       "x11            0.1699      0.002     98.536      0.000       0.167       0.173\n",
       "x12           -0.0104      0.005     -2.050      0.040      -0.020      -0.000\n",
       "x13           -0.0040      0.005     -0.790      0.429      -0.014       0.006\n",
       "x14           -0.0054      0.005     -1.071      0.284      -0.015       0.004\n",
       "x15           -0.0117      0.005     -2.331      0.020      -0.022      -0.002\n",
       "x16           -0.0056      0.005     -1.113      0.266      -0.016       0.004\n",
       "x17           -0.0033      0.005     -0.642      0.521      -0.013       0.007\n",
       "x18            0.0070      0.005      1.386      0.166      -0.003       0.017\n",
       "x19            0.0006      0.005      0.125      0.901      -0.009       0.010\n",
       "x20           -0.0184      0.005     -3.593      0.000      -0.028      -0.008\n",
       "x21            0.0060      0.006      1.020      0.308      -0.006       0.018\n",
       "x22            0.0078      0.006      1.332      0.183      -0.004       0.019\n",
       "x23            0.0061      0.005      1.287      0.198      -0.003       0.015\n",
       "x24            0.0044      0.005      0.919      0.358      -0.005       0.014\n",
       "x25           -0.0109      0.006     -1.864      0.062      -0.022       0.001\n",
       "x26           -0.0088      0.006     -1.507      0.132      -0.020       0.003\n",
       "x27           -0.0013      0.005     -0.271      0.787      -0.011       0.008\n",
       "x28           -0.0040      0.006     -0.710      0.478      -0.015       0.007\n",
       "x29           -0.0007      0.003     -0.225      0.822      -0.007       0.005\n",
       "x30            0.0064      0.006      1.079      0.281      -0.005       0.018\n",
       "x31            0.0128      0.006      2.185      0.029       0.001       0.024\n",
       "x32           -0.0024      0.006     -0.417      0.677      -0.014       0.009\n",
       "x33            0.0091      0.006      1.523      0.128      -0.003       0.021\n",
       "x34            0.0064      0.005      1.351      0.177      -0.003       0.016\n",
       "x35            0.0071      0.006      1.175      0.240      -0.005       0.019\n",
       "x36           -0.0049      0.006     -0.841      0.400      -0.016       0.007\n",
       "x37            0.0082      0.006      1.345      0.179      -0.004       0.020\n",
       "x38            0.0080      0.005      1.687      0.092      -0.001       0.017\n",
       "x39            0.0051      0.006      0.894      0.371      -0.006       0.016\n",
       "x40           -0.0021      0.006     -0.353      0.724      -0.014       0.010\n",
       "x41           -0.0001      0.006     -0.024      0.981      -0.012       0.011\n",
       "x42            0.0094      0.006      1.598      0.110      -0.002       0.021\n",
       "x43        -4.203e+09   1.85e+10     -0.227      0.820   -4.04e+10     3.2e+10\n",
       "x44         1.354e+10   5.95e+10      0.227      0.820   -1.03e+11     1.3e+11\n",
       "x45         1.506e+10   6.62e+10      0.227      0.820   -1.15e+11    1.45e+11\n",
       "x46         1.562e+10   6.87e+10      0.227      0.820   -1.19e+11     1.5e+11\n",
       "x47        -1.354e+10   5.95e+10     -0.227      0.820    -1.3e+11    1.03e+11\n",
       "x48        -1.506e+10   6.62e+10     -0.227      0.820   -1.45e+11    1.15e+11\n",
       "x49        -1.354e+10   5.95e+10     -0.227      0.820    -1.3e+11    1.03e+11\n",
       "x50        -1.506e+10   6.62e+10     -0.227      0.820   -1.45e+11    1.15e+11\n",
       "x51        -1.354e+10   5.95e+10     -0.227      0.820    -1.3e+11    1.03e+11\n",
       "x52        -1.506e+10   6.62e+10     -0.227      0.820   -1.45e+11    1.15e+11\n",
       "x53         4.203e+09   1.85e+10      0.227      0.820    -3.2e+10    4.04e+10\n",
       "x54         4.203e+09   1.85e+10      0.227      0.820    -3.2e+10    4.04e+10\n",
       "x55         4.203e+09   1.85e+10      0.227      0.820    -3.2e+10    4.04e+10\n",
       "x56        -1.506e+10   6.62e+10     -0.227      0.820   -1.45e+11    1.15e+11\n",
       "x57        -1.354e+10   5.95e+10     -0.227      0.820    -1.3e+11    1.03e+11\n",
       "x58        -1.562e+10   6.87e+10     -0.227      0.820    -1.5e+11    1.19e+11\n",
       "x59        -1.354e+10   5.95e+10     -0.227      0.820    -1.3e+11    1.03e+11\n",
       "x60         4.203e+09   1.85e+10      0.227      0.820    -3.2e+10    4.04e+10\n",
       "==============================================================================\n",
       "Omnibus:                    16077.480   Durbin-Watson:                   2.001\n",
       "Prob(Omnibus):                  0.000   Jarque-Bera (JB):            18977.008\n",
       "Skew:                           0.629   Prob(JB):                         0.00\n",
       "Kurtosis:                       3.215   Cond. No.                     4.16e+15\n",
       "==============================================================================\n",
       "\n",
       "Notes:\n",
       "[1] Standard Errors assume that the covariance matrix of the errors is correctly specified.\n",
       "[2] The smallest eigenvalue is 4.69e-26. This might indicate that there are\n",
       "strong multicollinearity problems or that the design matrix is singular.\n",
       "\"\"\""
      ]
     },
     "execution_count": 48,
     "metadata": {},
     "output_type": "execute_result"
    }
   ],
   "source": [
    "# Aplicamos summary con todos los features\n",
    "X_opt = X_statsmodels[:, :]\n",
    "regression_OLS = sm.OLS(endog = y, exog = X_opt.tolist()).fit()\n",
    "regression_OLS.summary()"
   ]
  },
  {
   "cell_type": "code",
   "execution_count": 49,
   "id": "a8c89422-3f44-44f9-803e-99a2696639de",
   "metadata": {},
   "outputs": [
    {
     "data": {
      "text/html": [
       "<table class=\"simpletable\">\n",
       "<caption>OLS Regression Results</caption>\n",
       "<tr>\n",
       "  <th>Dep. Variable:</th>      <td>Credit Score</td>   <th>  R-squared:         </th>  <td>   0.785</td> \n",
       "</tr>\n",
       "<tr>\n",
       "  <th>Model:</th>                   <td>OLS</td>       <th>  Adj. R-squared:    </th>  <td>   0.785</td> \n",
       "</tr>\n",
       "<tr>\n",
       "  <th>Method:</th>             <td>Least Squares</td>  <th>  F-statistic:       </th>  <td>2.440e+04</td>\n",
       "</tr>\n",
       "<tr>\n",
       "  <th>Date:</th>             <td>Mon, 11 Sep 2023</td> <th>  Prob (F-statistic):</th>   <td>  0.00</td>  \n",
       "</tr>\n",
       "<tr>\n",
       "  <th>Time:</th>                 <td>13:45:00</td>     <th>  Log-Likelihood:    </th>  <td>  12299.</td> \n",
       "</tr>\n",
       "<tr>\n",
       "  <th>No. Observations:</th>      <td>279856</td>      <th>  AIC:               </th> <td>-2.451e+04</td>\n",
       "</tr>\n",
       "<tr>\n",
       "  <th>Df Residuals:</th>          <td>279813</td>      <th>  BIC:               </th> <td>-2.406e+04</td>\n",
       "</tr>\n",
       "<tr>\n",
       "  <th>Df Model:</th>              <td>    42</td>      <th>                     </th>      <td> </td>    \n",
       "</tr>\n",
       "<tr>\n",
       "  <th>Covariance Type:</th>      <td>nonrobust</td>    <th>                     </th>      <td> </td>    \n",
       "</tr>\n",
       "</table>\n",
       "<table class=\"simpletable\">\n",
       "<tr>\n",
       "    <td></td>       <th>coef</th>     <th>std err</th>      <th>t</th>      <th>P>|t|</th>  <th>[0.025</th>    <th>0.975]</th>  \n",
       "</tr>\n",
       "<tr>\n",
       "  <th>const</th> <td>    0.4440</td> <td>    0.006</td> <td>   75.482</td> <td> 0.000</td> <td>    0.432</td> <td>    0.455</td>\n",
       "</tr>\n",
       "<tr>\n",
       "  <th>x1</th>    <td>   -0.0009</td> <td>    0.001</td> <td>   -1.520</td> <td> 0.129</td> <td>   -0.002</td> <td>    0.000</td>\n",
       "</tr>\n",
       "<tr>\n",
       "  <th>x2</th>    <td>   -0.0180</td> <td>    0.001</td> <td>  -30.168</td> <td> 0.000</td> <td>   -0.019</td> <td>   -0.017</td>\n",
       "</tr>\n",
       "<tr>\n",
       "  <th>x3</th>    <td>    0.0006</td> <td>    0.000</td> <td>    1.288</td> <td> 0.198</td> <td>   -0.000</td> <td>    0.001</td>\n",
       "</tr>\n",
       "<tr>\n",
       "  <th>x4</th>    <td>    0.2650</td> <td>    0.001</td> <td>  253.516</td> <td> 0.000</td> <td>    0.263</td> <td>    0.267</td>\n",
       "</tr>\n",
       "<tr>\n",
       "  <th>x5</th>    <td>    0.0006</td> <td>    0.000</td> <td>    1.327</td> <td> 0.184</td> <td>   -0.000</td> <td>    0.002</td>\n",
       "</tr>\n",
       "<tr>\n",
       "  <th>x6</th>    <td>    0.1164</td> <td>    0.001</td> <td>  198.828</td> <td> 0.000</td> <td>    0.115</td> <td>    0.118</td>\n",
       "</tr>\n",
       "<tr>\n",
       "  <th>x7</th>    <td>    0.0328</td> <td>    0.001</td> <td>   60.963</td> <td> 0.000</td> <td>    0.032</td> <td>    0.034</td>\n",
       "</tr>\n",
       "<tr>\n",
       "  <th>x8</th>    <td>    0.0497</td> <td>    0.001</td> <td>   64.720</td> <td> 0.000</td> <td>    0.048</td> <td>    0.051</td>\n",
       "</tr>\n",
       "<tr>\n",
       "  <th>x9</th>    <td>   -0.0030</td> <td>    0.002</td> <td>   -1.475</td> <td> 0.140</td> <td>   -0.007</td> <td>    0.001</td>\n",
       "</tr>\n",
       "<tr>\n",
       "  <th>x10</th>   <td>   -0.0011</td> <td>    0.002</td> <td>   -0.511</td> <td> 0.609</td> <td>   -0.005</td> <td>    0.003</td>\n",
       "</tr>\n",
       "<tr>\n",
       "  <th>x11</th>   <td>    0.1672</td> <td>    0.002</td> <td>   96.931</td> <td> 0.000</td> <td>    0.164</td> <td>    0.171</td>\n",
       "</tr>\n",
       "<tr>\n",
       "  <th>x12</th>   <td>   -0.0096</td> <td>    0.005</td> <td>   -1.874</td> <td> 0.061</td> <td>   -0.020</td> <td>    0.000</td>\n",
       "</tr>\n",
       "<tr>\n",
       "  <th>x13</th>   <td>   -0.0036</td> <td>    0.005</td> <td>   -0.707</td> <td> 0.480</td> <td>   -0.014</td> <td>    0.006</td>\n",
       "</tr>\n",
       "<tr>\n",
       "  <th>x14</th>   <td>   -0.0047</td> <td>    0.005</td> <td>   -0.932</td> <td> 0.352</td> <td>   -0.015</td> <td>    0.005</td>\n",
       "</tr>\n",
       "<tr>\n",
       "  <th>x15</th>   <td>   -0.0101</td> <td>    0.005</td> <td>   -1.995</td> <td> 0.046</td> <td>   -0.020</td> <td>   -0.000</td>\n",
       "</tr>\n",
       "<tr>\n",
       "  <th>x16</th>   <td>   -0.0041</td> <td>    0.005</td> <td>   -0.817</td> <td> 0.414</td> <td>   -0.014</td> <td>    0.006</td>\n",
       "</tr>\n",
       "<tr>\n",
       "  <th>x17</th>   <td>   -0.0023</td> <td>    0.005</td> <td>   -0.446</td> <td> 0.656</td> <td>   -0.012</td> <td>    0.008</td>\n",
       "</tr>\n",
       "<tr>\n",
       "  <th>x18</th>   <td>    0.0077</td> <td>    0.005</td> <td>    1.533</td> <td> 0.125</td> <td>   -0.002</td> <td>    0.018</td>\n",
       "</tr>\n",
       "<tr>\n",
       "  <th>x19</th>   <td>    0.0009</td> <td>    0.005</td> <td>    0.181</td> <td> 0.856</td> <td>   -0.009</td> <td>    0.011</td>\n",
       "</tr>\n",
       "<tr>\n",
       "  <th>x20</th>   <td>   -0.0177</td> <td>    0.005</td> <td>   -3.459</td> <td> 0.001</td> <td>   -0.028</td> <td>   -0.008</td>\n",
       "</tr>\n",
       "<tr>\n",
       "  <th>x21</th>   <td>    0.0065</td> <td>    0.006</td> <td>    1.105</td> <td> 0.269</td> <td>   -0.005</td> <td>    0.018</td>\n",
       "</tr>\n",
       "<tr>\n",
       "  <th>x22</th>   <td>    0.0081</td> <td>    0.006</td> <td>    1.369</td> <td> 0.171</td> <td>   -0.003</td> <td>    0.020</td>\n",
       "</tr>\n",
       "<tr>\n",
       "  <th>x23</th>   <td>    0.0062</td> <td>    0.005</td> <td>    1.295</td> <td> 0.195</td> <td>   -0.003</td> <td>    0.016</td>\n",
       "</tr>\n",
       "<tr>\n",
       "  <th>x24</th>   <td>    0.0047</td> <td>    0.005</td> <td>    0.989</td> <td> 0.323</td> <td>   -0.005</td> <td>    0.014</td>\n",
       "</tr>\n",
       "<tr>\n",
       "  <th>x25</th>   <td>   -0.0108</td> <td>    0.006</td> <td>   -1.835</td> <td> 0.067</td> <td>   -0.022</td> <td>    0.001</td>\n",
       "</tr>\n",
       "<tr>\n",
       "  <th>x26</th>   <td>   -0.0087</td> <td>    0.006</td> <td>   -1.478</td> <td> 0.139</td> <td>   -0.020</td> <td>    0.003</td>\n",
       "</tr>\n",
       "<tr>\n",
       "  <th>x27</th>   <td>   -0.0013</td> <td>    0.005</td> <td>   -0.263</td> <td> 0.793</td> <td>   -0.011</td> <td>    0.008</td>\n",
       "</tr>\n",
       "<tr>\n",
       "  <th>x28</th>   <td>   -0.0034</td> <td>    0.006</td> <td>   -0.608</td> <td> 0.543</td> <td>   -0.015</td> <td>    0.008</td>\n",
       "</tr>\n",
       "<tr>\n",
       "  <th>x29</th>   <td>   -0.0009</td> <td>    0.003</td> <td>   -0.289</td> <td> 0.773</td> <td>   -0.007</td> <td>    0.005</td>\n",
       "</tr>\n",
       "<tr>\n",
       "  <th>x30</th>   <td>    0.0065</td> <td>    0.006</td> <td>    1.100</td> <td> 0.272</td> <td>   -0.005</td> <td>    0.018</td>\n",
       "</tr>\n",
       "<tr>\n",
       "  <th>x31</th>   <td>    0.0123</td> <td>    0.006</td> <td>    2.085</td> <td> 0.037</td> <td>    0.001</td> <td>    0.024</td>\n",
       "</tr>\n",
       "<tr>\n",
       "  <th>x32</th>   <td>   -0.0015</td> <td>    0.006</td> <td>   -0.260</td> <td> 0.795</td> <td>   -0.013</td> <td>    0.010</td>\n",
       "</tr>\n",
       "<tr>\n",
       "  <th>x33</th>   <td>    0.0092</td> <td>    0.006</td> <td>    1.547</td> <td> 0.122</td> <td>   -0.002</td> <td>    0.021</td>\n",
       "</tr>\n",
       "<tr>\n",
       "  <th>x34</th>   <td>    0.0066</td> <td>    0.005</td> <td>    1.386</td> <td> 0.166</td> <td>   -0.003</td> <td>    0.016</td>\n",
       "</tr>\n",
       "<tr>\n",
       "  <th>x35</th>   <td>    0.0065</td> <td>    0.006</td> <td>    1.067</td> <td> 0.286</td> <td>   -0.005</td> <td>    0.018</td>\n",
       "</tr>\n",
       "<tr>\n",
       "  <th>x36</th>   <td>   -0.0046</td> <td>    0.006</td> <td>   -0.779</td> <td> 0.436</td> <td>   -0.016</td> <td>    0.007</td>\n",
       "</tr>\n",
       "<tr>\n",
       "  <th>x37</th>   <td>    0.0077</td> <td>    0.006</td> <td>    1.267</td> <td> 0.205</td> <td>   -0.004</td> <td>    0.020</td>\n",
       "</tr>\n",
       "<tr>\n",
       "  <th>x38</th>   <td>    0.0084</td> <td>    0.005</td> <td>    1.754</td> <td> 0.079</td> <td>   -0.001</td> <td>    0.018</td>\n",
       "</tr>\n",
       "<tr>\n",
       "  <th>x39</th>   <td>    0.0052</td> <td>    0.006</td> <td>    0.903</td> <td> 0.366</td> <td>   -0.006</td> <td>    0.016</td>\n",
       "</tr>\n",
       "<tr>\n",
       "  <th>x40</th>   <td>   -0.0024</td> <td>    0.006</td> <td>   -0.386</td> <td> 0.700</td> <td>   -0.014</td> <td>    0.010</td>\n",
       "</tr>\n",
       "<tr>\n",
       "  <th>x41</th>   <td>    0.0002</td> <td>    0.006</td> <td>    0.031</td> <td> 0.975</td> <td>   -0.011</td> <td>    0.012</td>\n",
       "</tr>\n",
       "<tr>\n",
       "  <th>x42</th>   <td>    0.0084</td> <td>    0.006</td> <td>    1.434</td> <td> 0.152</td> <td>   -0.003</td> <td>    0.020</td>\n",
       "</tr>\n",
       "</table>\n",
       "<table class=\"simpletable\">\n",
       "<tr>\n",
       "  <th>Omnibus:</th>       <td>16487.017</td> <th>  Durbin-Watson:     </th> <td>   2.001</td> \n",
       "</tr>\n",
       "<tr>\n",
       "  <th>Prob(Omnibus):</th>  <td> 0.000</td>   <th>  Jarque-Bera (JB):  </th> <td>19540.034</td>\n",
       "</tr>\n",
       "<tr>\n",
       "  <th>Skew:</th>           <td> 0.638</td>   <th>  Prob(JB):          </th> <td>    0.00</td> \n",
       "</tr>\n",
       "<tr>\n",
       "  <th>Kurtosis:</th>       <td> 3.219</td>   <th>  Cond. No.          </th> <td>    79.8</td> \n",
       "</tr>\n",
       "</table><br/><br/>Notes:<br/>[1] Standard Errors assume that the covariance matrix of the errors is correctly specified."
      ],
      "text/latex": [
       "\\begin{center}\n",
       "\\begin{tabular}{lclc}\n",
       "\\toprule\n",
       "\\textbf{Dep. Variable:}    &   Credit Score   & \\textbf{  R-squared:         } &     0.785   \\\\\n",
       "\\textbf{Model:}            &       OLS        & \\textbf{  Adj. R-squared:    } &     0.785   \\\\\n",
       "\\textbf{Method:}           &  Least Squares   & \\textbf{  F-statistic:       } & 2.440e+04   \\\\\n",
       "\\textbf{Date:}             & Mon, 11 Sep 2023 & \\textbf{  Prob (F-statistic):} &     0.00    \\\\\n",
       "\\textbf{Time:}             &     13:45:00     & \\textbf{  Log-Likelihood:    } &    12299.   \\\\\n",
       "\\textbf{No. Observations:} &      279856      & \\textbf{  AIC:               } & -2.451e+04  \\\\\n",
       "\\textbf{Df Residuals:}     &      279813      & \\textbf{  BIC:               } & -2.406e+04  \\\\\n",
       "\\textbf{Df Model:}         &          42      & \\textbf{                     } &             \\\\\n",
       "\\textbf{Covariance Type:}  &    nonrobust     & \\textbf{                     } &             \\\\\n",
       "\\bottomrule\n",
       "\\end{tabular}\n",
       "\\begin{tabular}{lcccccc}\n",
       "               & \\textbf{coef} & \\textbf{std err} & \\textbf{t} & \\textbf{P$> |$t$|$} & \\textbf{[0.025} & \\textbf{0.975]}  \\\\\n",
       "\\midrule\n",
       "\\textbf{const} &       0.4440  &        0.006     &    75.482  &         0.000        &        0.432    &        0.455     \\\\\n",
       "\\textbf{x1}    &      -0.0009  &        0.001     &    -1.520  &         0.129        &       -0.002    &        0.000     \\\\\n",
       "\\textbf{x2}    &      -0.0180  &        0.001     &   -30.168  &         0.000        &       -0.019    &       -0.017     \\\\\n",
       "\\textbf{x3}    &       0.0006  &        0.000     &     1.288  &         0.198        &       -0.000    &        0.001     \\\\\n",
       "\\textbf{x4}    &       0.2650  &        0.001     &   253.516  &         0.000        &        0.263    &        0.267     \\\\\n",
       "\\textbf{x5}    &       0.0006  &        0.000     &     1.327  &         0.184        &       -0.000    &        0.002     \\\\\n",
       "\\textbf{x6}    &       0.1164  &        0.001     &   198.828  &         0.000        &        0.115    &        0.118     \\\\\n",
       "\\textbf{x7}    &       0.0328  &        0.001     &    60.963  &         0.000        &        0.032    &        0.034     \\\\\n",
       "\\textbf{x8}    &       0.0497  &        0.001     &    64.720  &         0.000        &        0.048    &        0.051     \\\\\n",
       "\\textbf{x9}    &      -0.0030  &        0.002     &    -1.475  &         0.140        &       -0.007    &        0.001     \\\\\n",
       "\\textbf{x10}   &      -0.0011  &        0.002     &    -0.511  &         0.609        &       -0.005    &        0.003     \\\\\n",
       "\\textbf{x11}   &       0.1672  &        0.002     &    96.931  &         0.000        &        0.164    &        0.171     \\\\\n",
       "\\textbf{x12}   &      -0.0096  &        0.005     &    -1.874  &         0.061        &       -0.020    &        0.000     \\\\\n",
       "\\textbf{x13}   &      -0.0036  &        0.005     &    -0.707  &         0.480        &       -0.014    &        0.006     \\\\\n",
       "\\textbf{x14}   &      -0.0047  &        0.005     &    -0.932  &         0.352        &       -0.015    &        0.005     \\\\\n",
       "\\textbf{x15}   &      -0.0101  &        0.005     &    -1.995  &         0.046        &       -0.020    &       -0.000     \\\\\n",
       "\\textbf{x16}   &      -0.0041  &        0.005     &    -0.817  &         0.414        &       -0.014    &        0.006     \\\\\n",
       "\\textbf{x17}   &      -0.0023  &        0.005     &    -0.446  &         0.656        &       -0.012    &        0.008     \\\\\n",
       "\\textbf{x18}   &       0.0077  &        0.005     &     1.533  &         0.125        &       -0.002    &        0.018     \\\\\n",
       "\\textbf{x19}   &       0.0009  &        0.005     &     0.181  &         0.856        &       -0.009    &        0.011     \\\\\n",
       "\\textbf{x20}   &      -0.0177  &        0.005     &    -3.459  &         0.001        &       -0.028    &       -0.008     \\\\\n",
       "\\textbf{x21}   &       0.0065  &        0.006     &     1.105  &         0.269        &       -0.005    &        0.018     \\\\\n",
       "\\textbf{x22}   &       0.0081  &        0.006     &     1.369  &         0.171        &       -0.003    &        0.020     \\\\\n",
       "\\textbf{x23}   &       0.0062  &        0.005     &     1.295  &         0.195        &       -0.003    &        0.016     \\\\\n",
       "\\textbf{x24}   &       0.0047  &        0.005     &     0.989  &         0.323        &       -0.005    &        0.014     \\\\\n",
       "\\textbf{x25}   &      -0.0108  &        0.006     &    -1.835  &         0.067        &       -0.022    &        0.001     \\\\\n",
       "\\textbf{x26}   &      -0.0087  &        0.006     &    -1.478  &         0.139        &       -0.020    &        0.003     \\\\\n",
       "\\textbf{x27}   &      -0.0013  &        0.005     &    -0.263  &         0.793        &       -0.011    &        0.008     \\\\\n",
       "\\textbf{x28}   &      -0.0034  &        0.006     &    -0.608  &         0.543        &       -0.015    &        0.008     \\\\\n",
       "\\textbf{x29}   &      -0.0009  &        0.003     &    -0.289  &         0.773        &       -0.007    &        0.005     \\\\\n",
       "\\textbf{x30}   &       0.0065  &        0.006     &     1.100  &         0.272        &       -0.005    &        0.018     \\\\\n",
       "\\textbf{x31}   &       0.0123  &        0.006     &     2.085  &         0.037        &        0.001    &        0.024     \\\\\n",
       "\\textbf{x32}   &      -0.0015  &        0.006     &    -0.260  &         0.795        &       -0.013    &        0.010     \\\\\n",
       "\\textbf{x33}   &       0.0092  &        0.006     &     1.547  &         0.122        &       -0.002    &        0.021     \\\\\n",
       "\\textbf{x34}   &       0.0066  &        0.005     &     1.386  &         0.166        &       -0.003    &        0.016     \\\\\n",
       "\\textbf{x35}   &       0.0065  &        0.006     &     1.067  &         0.286        &       -0.005    &        0.018     \\\\\n",
       "\\textbf{x36}   &      -0.0046  &        0.006     &    -0.779  &         0.436        &       -0.016    &        0.007     \\\\\n",
       "\\textbf{x37}   &       0.0077  &        0.006     &     1.267  &         0.205        &       -0.004    &        0.020     \\\\\n",
       "\\textbf{x38}   &       0.0084  &        0.005     &     1.754  &         0.079        &       -0.001    &        0.018     \\\\\n",
       "\\textbf{x39}   &       0.0052  &        0.006     &     0.903  &         0.366        &       -0.006    &        0.016     \\\\\n",
       "\\textbf{x40}   &      -0.0024  &        0.006     &    -0.386  &         0.700        &       -0.014    &        0.010     \\\\\n",
       "\\textbf{x41}   &       0.0002  &        0.006     &     0.031  &         0.975        &       -0.011    &        0.012     \\\\\n",
       "\\textbf{x42}   &       0.0084  &        0.006     &     1.434  &         0.152        &       -0.003    &        0.020     \\\\\n",
       "\\bottomrule\n",
       "\\end{tabular}\n",
       "\\begin{tabular}{lclc}\n",
       "\\textbf{Omnibus:}       & 16487.017 & \\textbf{  Durbin-Watson:     } &     2.001  \\\\\n",
       "\\textbf{Prob(Omnibus):} &    0.000  & \\textbf{  Jarque-Bera (JB):  } & 19540.034  \\\\\n",
       "\\textbf{Skew:}          &    0.638  & \\textbf{  Prob(JB):          } &      0.00  \\\\\n",
       "\\textbf{Kurtosis:}      &    3.219  & \\textbf{  Cond. No.          } &      79.8  \\\\\n",
       "\\bottomrule\n",
       "\\end{tabular}\n",
       "%\\caption{OLS Regression Results}\n",
       "\\end{center}\n",
       "\n",
       "Notes: \\newline\n",
       " [1] Standard Errors assume that the covariance matrix of the errors is correctly specified."
      ],
      "text/plain": [
       "<class 'statsmodels.iolib.summary.Summary'>\n",
       "\"\"\"\n",
       "                            OLS Regression Results                            \n",
       "==============================================================================\n",
       "Dep. Variable:           Credit Score   R-squared:                       0.785\n",
       "Model:                            OLS   Adj. R-squared:                  0.785\n",
       "Method:                 Least Squares   F-statistic:                 2.440e+04\n",
       "Date:                Mon, 11 Sep 2023   Prob (F-statistic):               0.00\n",
       "Time:                        13:45:00   Log-Likelihood:                 12299.\n",
       "No. Observations:              279856   AIC:                        -2.451e+04\n",
       "Df Residuals:                  279813   BIC:                        -2.406e+04\n",
       "Df Model:                          42                                         \n",
       "Covariance Type:            nonrobust                                         \n",
       "==============================================================================\n",
       "                 coef    std err          t      P>|t|      [0.025      0.975]\n",
       "------------------------------------------------------------------------------\n",
       "const          0.4440      0.006     75.482      0.000       0.432       0.455\n",
       "x1            -0.0009      0.001     -1.520      0.129      -0.002       0.000\n",
       "x2            -0.0180      0.001    -30.168      0.000      -0.019      -0.017\n",
       "x3             0.0006      0.000      1.288      0.198      -0.000       0.001\n",
       "x4             0.2650      0.001    253.516      0.000       0.263       0.267\n",
       "x5             0.0006      0.000      1.327      0.184      -0.000       0.002\n",
       "x6             0.1164      0.001    198.828      0.000       0.115       0.118\n",
       "x7             0.0328      0.001     60.963      0.000       0.032       0.034\n",
       "x8             0.0497      0.001     64.720      0.000       0.048       0.051\n",
       "x9            -0.0030      0.002     -1.475      0.140      -0.007       0.001\n",
       "x10           -0.0011      0.002     -0.511      0.609      -0.005       0.003\n",
       "x11            0.1672      0.002     96.931      0.000       0.164       0.171\n",
       "x12           -0.0096      0.005     -1.874      0.061      -0.020       0.000\n",
       "x13           -0.0036      0.005     -0.707      0.480      -0.014       0.006\n",
       "x14           -0.0047      0.005     -0.932      0.352      -0.015       0.005\n",
       "x15           -0.0101      0.005     -1.995      0.046      -0.020      -0.000\n",
       "x16           -0.0041      0.005     -0.817      0.414      -0.014       0.006\n",
       "x17           -0.0023      0.005     -0.446      0.656      -0.012       0.008\n",
       "x18            0.0077      0.005      1.533      0.125      -0.002       0.018\n",
       "x19            0.0009      0.005      0.181      0.856      -0.009       0.011\n",
       "x20           -0.0177      0.005     -3.459      0.001      -0.028      -0.008\n",
       "x21            0.0065      0.006      1.105      0.269      -0.005       0.018\n",
       "x22            0.0081      0.006      1.369      0.171      -0.003       0.020\n",
       "x23            0.0062      0.005      1.295      0.195      -0.003       0.016\n",
       "x24            0.0047      0.005      0.989      0.323      -0.005       0.014\n",
       "x25           -0.0108      0.006     -1.835      0.067      -0.022       0.001\n",
       "x26           -0.0087      0.006     -1.478      0.139      -0.020       0.003\n",
       "x27           -0.0013      0.005     -0.263      0.793      -0.011       0.008\n",
       "x28           -0.0034      0.006     -0.608      0.543      -0.015       0.008\n",
       "x29           -0.0009      0.003     -0.289      0.773      -0.007       0.005\n",
       "x30            0.0065      0.006      1.100      0.272      -0.005       0.018\n",
       "x31            0.0123      0.006      2.085      0.037       0.001       0.024\n",
       "x32           -0.0015      0.006     -0.260      0.795      -0.013       0.010\n",
       "x33            0.0092      0.006      1.547      0.122      -0.002       0.021\n",
       "x34            0.0066      0.005      1.386      0.166      -0.003       0.016\n",
       "x35            0.0065      0.006      1.067      0.286      -0.005       0.018\n",
       "x36           -0.0046      0.006     -0.779      0.436      -0.016       0.007\n",
       "x37            0.0077      0.006      1.267      0.205      -0.004       0.020\n",
       "x38            0.0084      0.005      1.754      0.079      -0.001       0.018\n",
       "x39            0.0052      0.006      0.903      0.366      -0.006       0.016\n",
       "x40           -0.0024      0.006     -0.386      0.700      -0.014       0.010\n",
       "x41            0.0002      0.006      0.031      0.975      -0.011       0.012\n",
       "x42            0.0084      0.006      1.434      0.152      -0.003       0.020\n",
       "==============================================================================\n",
       "Omnibus:                    16487.017   Durbin-Watson:                   2.001\n",
       "Prob(Omnibus):                  0.000   Jarque-Bera (JB):            19540.034\n",
       "Skew:                           0.638   Prob(JB):                         0.00\n",
       "Kurtosis:                       3.219   Cond. No.                         79.8\n",
       "==============================================================================\n",
       "\n",
       "Notes:\n",
       "[1] Standard Errors assume that the covariance matrix of the errors is correctly specified.\n",
       "\"\"\""
      ]
     },
     "execution_count": 49,
     "metadata": {},
     "output_type": "execute_result"
    }
   ],
   "source": [
    "# Quitamos los que tengan el p-value más alto\n",
    "X_opt = X_statsmodels[:, range(43)]\n",
    "regression_OLS = sm.OLS(endog = y, exog = X_opt.tolist()).fit()\n",
    "regression_OLS.summary()"
   ]
  },
  {
   "cell_type": "code",
   "execution_count": null,
   "id": "174f1d55-abb6-4129-bbd5-96861c60bbaf",
   "metadata": {},
   "outputs": [],
   "source": []
  }
 ],
 "metadata": {
  "kernelspec": {
   "display_name": "Python 3 (ipykernel)",
   "language": "python",
   "name": "python3"
  },
  "language_info": {
   "codemirror_mode": {
    "name": "ipython",
    "version": 3
   },
   "file_extension": ".py",
   "mimetype": "text/x-python",
   "name": "python",
   "nbconvert_exporter": "python",
   "pygments_lexer": "ipython3",
   "version": "3.11.1"
  }
 },
 "nbformat": 4,
 "nbformat_minor": 5
}
