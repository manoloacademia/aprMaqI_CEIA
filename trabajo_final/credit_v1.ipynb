{
 "cells": [
  {
   "cell_type": "code",
   "execution_count": 1,
   "id": "c0232868-6a24-4c5f-b2e8-4f8076326d04",
   "metadata": {},
   "outputs": [],
   "source": [
    "import numpy as np\n",
    "import matplotlib.pyplot as plt\n",
    "import pandas as pd\n",
    "import seaborn as sns"
   ]
  },
  {
   "cell_type": "code",
   "execution_count": 2,
   "id": "c887ae57-148f-4425-8c11-f64743d837b7",
   "metadata": {},
   "outputs": [],
   "source": [
    "from sklearn.preprocessing import StandardScaler\n",
    "from sklearn.preprocessing import OneHotEncoder"
   ]
  },
  {
   "cell_type": "markdown",
   "id": "df0d9850-4780-44d1-af2a-ed1c1a01d051",
   "metadata": {},
   "source": [
    "Acceso al [Kaggle](https://www.kaggle.com/datasets/yashkmd/credit-profile-two-wheeler-loan-dataset)\n",
    "- Se puede plantear un problema de regresión con el score.\n",
    "- Se puede plantear un problema de clasificación con un umbral (o varios) para ver si pasa o no."
   ]
  },
  {
   "cell_type": "code",
   "execution_count": 3,
   "id": "153d6f18-89ef-4c9e-99fa-fa103912d55e",
   "metadata": {},
   "outputs": [
    {
     "data": {
      "text/html": [
       "<div>\n",
       "<style scoped>\n",
       "    .dataframe tbody tr th:only-of-type {\n",
       "        vertical-align: middle;\n",
       "    }\n",
       "\n",
       "    .dataframe tbody tr th {\n",
       "        vertical-align: top;\n",
       "    }\n",
       "\n",
       "    .dataframe thead th {\n",
       "        text-align: right;\n",
       "    }\n",
       "</style>\n",
       "<table border=\"1\" class=\"dataframe\">\n",
       "  <thead>\n",
       "    <tr style=\"text-align: right;\">\n",
       "      <th></th>\n",
       "      <th>Age</th>\n",
       "      <th>Gender</th>\n",
       "      <th>Income</th>\n",
       "      <th>Credit Score</th>\n",
       "      <th>Credit History Length</th>\n",
       "      <th>Number of Existing Loans</th>\n",
       "      <th>Loan Amount</th>\n",
       "      <th>Loan Tenure</th>\n",
       "      <th>Existing Customer</th>\n",
       "      <th>State</th>\n",
       "      <th>City</th>\n",
       "      <th>LTV Ratio</th>\n",
       "      <th>Employment Profile</th>\n",
       "      <th>Profile Score</th>\n",
       "      <th>Occupation</th>\n",
       "    </tr>\n",
       "  </thead>\n",
       "  <tbody>\n",
       "    <tr>\n",
       "      <th>0</th>\n",
       "      <td>31</td>\n",
       "      <td>Male</td>\n",
       "      <td>36000</td>\n",
       "      <td>604</td>\n",
       "      <td>487</td>\n",
       "      <td>5</td>\n",
       "      <td>109373</td>\n",
       "      <td>221</td>\n",
       "      <td>No</td>\n",
       "      <td>Karnataka</td>\n",
       "      <td>Mysuru</td>\n",
       "      <td>90.943430</td>\n",
       "      <td>Salaried</td>\n",
       "      <td>77</td>\n",
       "      <td>Doctor</td>\n",
       "    </tr>\n",
       "    <tr>\n",
       "      <th>1</th>\n",
       "      <td>25</td>\n",
       "      <td>Male</td>\n",
       "      <td>50000</td>\n",
       "      <td>447</td>\n",
       "      <td>386</td>\n",
       "      <td>2</td>\n",
       "      <td>150000</td>\n",
       "      <td>89</td>\n",
       "      <td>No</td>\n",
       "      <td>Karnataka</td>\n",
       "      <td>Bengaluru</td>\n",
       "      <td>91.135253</td>\n",
       "      <td>Salaried</td>\n",
       "      <td>43</td>\n",
       "      <td>Software Engineer</td>\n",
       "    </tr>\n",
       "    <tr>\n",
       "      <th>2</th>\n",
       "      <td>62</td>\n",
       "      <td>Other</td>\n",
       "      <td>178000</td>\n",
       "      <td>850</td>\n",
       "      <td>503</td>\n",
       "      <td>10</td>\n",
       "      <td>69099</td>\n",
       "      <td>110</td>\n",
       "      <td>Yes</td>\n",
       "      <td>Uttar Pradesh</td>\n",
       "      <td>Kanpur</td>\n",
       "      <td>40.000000</td>\n",
       "      <td>Salaried</td>\n",
       "      <td>90</td>\n",
       "      <td>Banker</td>\n",
       "    </tr>\n",
       "    <tr>\n",
       "      <th>3</th>\n",
       "      <td>69</td>\n",
       "      <td>Female</td>\n",
       "      <td>46000</td>\n",
       "      <td>668</td>\n",
       "      <td>349</td>\n",
       "      <td>6</td>\n",
       "      <td>150000</td>\n",
       "      <td>148</td>\n",
       "      <td>Yes</td>\n",
       "      <td>Karnataka</td>\n",
       "      <td>Bengaluru</td>\n",
       "      <td>87.393365</td>\n",
       "      <td>Self-Employed</td>\n",
       "      <td>86</td>\n",
       "      <td>Contractor</td>\n",
       "    </tr>\n",
       "    <tr>\n",
       "      <th>4</th>\n",
       "      <td>52</td>\n",
       "      <td>Male</td>\n",
       "      <td>132000</td>\n",
       "      <td>601</td>\n",
       "      <td>553</td>\n",
       "      <td>5</td>\n",
       "      <td>150000</td>\n",
       "      <td>157</td>\n",
       "      <td>No</td>\n",
       "      <td>Karnataka</td>\n",
       "      <td>Mysuru</td>\n",
       "      <td>66.158757</td>\n",
       "      <td>Salaried</td>\n",
       "      <td>90</td>\n",
       "      <td>Teacher</td>\n",
       "    </tr>\n",
       "  </tbody>\n",
       "</table>\n",
       "</div>"
      ],
      "text/plain": [
       "   Age  Gender  Income  Credit Score  Credit History Length  \\\n",
       "0   31    Male   36000           604                    487   \n",
       "1   25    Male   50000           447                    386   \n",
       "2   62   Other  178000           850                    503   \n",
       "3   69  Female   46000           668                    349   \n",
       "4   52    Male  132000           601                    553   \n",
       "\n",
       "   Number of Existing Loans  Loan Amount  Loan Tenure Existing Customer  \\\n",
       "0                         5       109373          221                No   \n",
       "1                         2       150000           89                No   \n",
       "2                        10        69099          110               Yes   \n",
       "3                         6       150000          148               Yes   \n",
       "4                         5       150000          157                No   \n",
       "\n",
       "           State       City  LTV Ratio Employment Profile  Profile Score  \\\n",
       "0      Karnataka     Mysuru  90.943430           Salaried             77   \n",
       "1      Karnataka  Bengaluru  91.135253           Salaried             43   \n",
       "2  Uttar Pradesh     Kanpur  40.000000           Salaried             90   \n",
       "3      Karnataka  Bengaluru  87.393365      Self-Employed             86   \n",
       "4      Karnataka     Mysuru  66.158757           Salaried             90   \n",
       "\n",
       "          Occupation  \n",
       "0             Doctor  \n",
       "1  Software Engineer  \n",
       "2             Banker  \n",
       "3         Contractor  \n",
       "4            Teacher  "
      ]
     },
     "execution_count": 3,
     "metadata": {},
     "output_type": "execute_result"
    }
   ],
   "source": [
    "# Generamos el dataset\n",
    "credit = pd.read_csv('credit_data.csv')\n",
    "credit.head()"
   ]
  },
  {
   "cell_type": "code",
   "execution_count": 4,
   "id": "cdd405ee-6064-4419-b8d7-3a4d42abd9f0",
   "metadata": {},
   "outputs": [
    {
     "name": "stdout",
     "output_type": "stream",
     "text": [
      "<class 'pandas.core.frame.DataFrame'>\n",
      "RangeIndex: 279856 entries, 0 to 279855\n",
      "Data columns (total 15 columns):\n",
      " #   Column                    Non-Null Count   Dtype  \n",
      "---  ------                    --------------   -----  \n",
      " 0   Age                       279856 non-null  int64  \n",
      " 1   Gender                    279856 non-null  object \n",
      " 2   Income                    279856 non-null  int64  \n",
      " 3   Credit Score              279856 non-null  int64  \n",
      " 4   Credit History Length     279856 non-null  int64  \n",
      " 5   Number of Existing Loans  279856 non-null  int64  \n",
      " 6   Loan Amount               279856 non-null  int64  \n",
      " 7   Loan Tenure               279856 non-null  int64  \n",
      " 8   Existing Customer         279856 non-null  object \n",
      " 9   State                     279856 non-null  object \n",
      " 10  City                      279856 non-null  object \n",
      " 11  LTV Ratio                 279856 non-null  float64\n",
      " 12  Employment Profile        279856 non-null  object \n",
      " 13  Profile Score             279856 non-null  int64  \n",
      " 14  Occupation                261584 non-null  object \n",
      "dtypes: float64(1), int64(8), object(6)\n",
      "memory usage: 32.0+ MB\n"
     ]
    }
   ],
   "source": [
    "# Revisamos la información de las columnas\n",
    "credit.info()"
   ]
  },
  {
   "cell_type": "code",
   "execution_count": 5,
   "id": "72c0c588-9461-4b86-9337-d300aef127b2",
   "metadata": {},
   "outputs": [
    {
     "data": {
      "text/plain": [
       "Age                             0\n",
       "Gender                          0\n",
       "Income                          0\n",
       "Credit Score                    0\n",
       "Credit History Length           0\n",
       "Number of Existing Loans        0\n",
       "Loan Amount                     0\n",
       "Loan Tenure                     0\n",
       "Existing Customer               0\n",
       "State                           0\n",
       "City                            0\n",
       "LTV Ratio                       0\n",
       "Employment Profile              0\n",
       "Profile Score                   0\n",
       "Occupation                  18272\n",
       "dtype: int64"
      ]
     },
     "execution_count": 5,
     "metadata": {},
     "output_type": "execute_result"
    }
   ],
   "source": [
    "# Solamente tenemos valores nulos en ocupación --> puede ser una oportunidad para ver qué hay demográficamente\n",
    "credit.isnull().sum()"
   ]
  },
  {
   "cell_type": "code",
   "execution_count": 6,
   "id": "e46e8a65-ef3f-4039-a30a-2f978498e751",
   "metadata": {},
   "outputs": [
    {
     "data": {
      "text/plain": [
       "Banker                    27760\n",
       "Teacher                   27356\n",
       "Civil Servant             27221\n",
       "Software Engineer         27146\n",
       "Doctor                    26582\n",
       "Shopkeeper                21405\n",
       "Contractor                21090\n",
       "Farmer                    20966\n",
       "Business Owner            20908\n",
       "Student                   18521\n",
       "NaN                       18272\n",
       "Graphic Designer           5723\n",
       "Photographer               5706\n",
       "Independent Consultant     5628\n",
       "Writer                     5572\n",
       "Name: Occupation, dtype: int64"
      ]
     },
     "execution_count": 6,
     "metadata": {},
     "output_type": "execute_result"
    }
   ],
   "source": [
    "# No es despreciable la cantidad de NaN --> quizas podemos dejarlos como \"otros\" (aunque no sé si es informativo)\n",
    "credit.Occupation.value_counts(dropna=False)"
   ]
  },
  {
   "cell_type": "code",
   "execution_count": 7,
   "id": "628017e8-9317-4431-80fd-c26aa177dc09",
   "metadata": {},
   "outputs": [],
   "source": [
    "# Se reemplazan los vacíos por Other\n",
    "credit.Occupation.fillna('Other',inplace=True)"
   ]
  },
  {
   "cell_type": "code",
   "execution_count": 8,
   "id": "f357decb-03aa-463d-bd34-4c7150067b2f",
   "metadata": {},
   "outputs": [
    {
     "data": {
      "text/plain": [
       "Banker                    27760\n",
       "Teacher                   27356\n",
       "Civil Servant             27221\n",
       "Software Engineer         27146\n",
       "Doctor                    26582\n",
       "Shopkeeper                21405\n",
       "Contractor                21090\n",
       "Farmer                    20966\n",
       "Business Owner            20908\n",
       "Student                   18521\n",
       "Other                     18272\n",
       "Graphic Designer           5723\n",
       "Photographer               5706\n",
       "Independent Consultant     5628\n",
       "Writer                     5572\n",
       "Name: Occupation, dtype: int64"
      ]
     },
     "execution_count": 8,
     "metadata": {},
     "output_type": "execute_result"
    }
   ],
   "source": [
    "credit.Occupation.value_counts(dropna=False)"
   ]
  },
  {
   "cell_type": "code",
   "execution_count": 9,
   "id": "1607261a-9c50-4b37-981a-84466df68698",
   "metadata": {},
   "outputs": [
    {
     "data": {
      "image/png": "[encoded data removed]",
      "text/plain": [
       "<Figure size 640x480 with 1 Axes>"
      ]
     },
     "metadata": {},
     "output_type": "display_data"
    }
   ],
   "source": [
    "# Podemos ver la distribución de los score\n",
    "credit['Credit Score'].hist();"
   ]
  },
  {
   "cell_type": "code",
   "execution_count": 10,
   "id": "23e7b10f-e642-495d-af35-c5cb7b28150b",
   "metadata": {},
   "outputs": [
    {
     "data": {
      "text/plain": [
       "1    140817\n",
       "0    139039\n",
       "Name: Credit Score, dtype: int64"
      ]
     },
     "execution_count": 10,
     "metadata": {},
     "output_type": "execute_result"
    }
   ],
   "source": [
    "# Definimos la variable score como la máscara ante el valor medio de score. De esta manera, exigimos a la clase target que esté balanceada\n",
    "score = credit['Credit Score'].copy()\n",
    "mean_score = score.mean()\n",
    "score = score.apply(lambda x: 1 if x>=mean_score else 0)\n",
    "score.value_counts()"
   ]
  },
  {
   "cell_type": "code",
   "execution_count": 11,
   "id": "7b064778-85b5-4930-9684-44599b7eaad3",
   "metadata": {},
   "outputs": [],
   "source": [
    "# Definimos quienes serán la X y la y\n",
    "X = credit.drop('Credit Score', axis=1)\n",
    "y = score"
   ]
  },
  {
   "cell_type": "code",
   "execution_count": 12,
   "id": "7a979ce7-d721-4451-9817-e6b1cf5d4842",
   "metadata": {},
   "outputs": [],
   "source": [
    "# Vemos cuales son las variables numericas y cuales las categóricas\n",
    "numericas = ['Age','Income','Credit History Length','Number of Existing Loans', 'Loan Amount', 'Loan Tenure','LTV Ratio','Profile Score']\n",
    "categoricas = ['Gender', 'Existing Customer', 'State', 'City', 'Employment Profile', 'Occupation']"
   ]
  },
  {
   "cell_type": "code",
   "execution_count": 13,
   "id": "86f8e15e-2160-4bb7-bab8-2e286516585f",
   "metadata": {},
   "outputs": [
    {
     "data": {
      "text/plain": [
       "True"
      ]
     },
     "execution_count": 13,
     "metadata": {},
     "output_type": "execute_result"
    }
   ],
   "source": [
    "# Corroboramos que estén todos los features\n",
    "len(numericas) + len(categoricas) == len(X.columns)"
   ]
  },
  {
   "cell_type": "code",
   "execution_count": 14,
   "id": "8a4c7d9e-0730-4225-9557-d1478082e07d",
   "metadata": {},
   "outputs": [],
   "source": [
    "# Realizamos un escalado de las numericas\n",
    "scaler = StandardScaler()\n",
    "X_scaled = scaler.fit_transform(X[numericas])\n",
    "X_scaled = pd.DataFrame(X_scaled, columns=X[numericas].columns)"
   ]
  },
  {
   "cell_type": "code",
   "execution_count": 15,
   "id": "54dd489a-77e6-4621-ae16-287897170f31",
   "metadata": {},
   "outputs": [
    {
     "data": {
      "text/plain": [
       "Profile Score              -1.014552\n",
       "Loan Amount                -0.439019\n",
       "LTV Ratio                  -0.180826\n",
       "Age                        -0.002411\n",
       "Credit History Length       0.009495\n",
       "Number of Existing Loans    0.053826\n",
       "Income                      0.708779\n",
       "Loan Tenure                 0.842224\n",
       "dtype: float64"
      ]
     },
     "execution_count": 15,
     "metadata": {},
     "output_type": "execute_result"
    }
   ],
   "source": [
    "# Revisamos si los valores numericos tienen un skew\n",
    "X_scaled.skew().sort_values()"
   ]
  },
  {
   "cell_type": "code",
   "execution_count": 16,
   "id": "d54ef9b1-dd22-4138-beb2-98140f6cf25e",
   "metadata": {},
   "outputs": [
    {
     "data": {
      "text/html": [
       "<div>\n",
       "<style scoped>\n",
       "    .dataframe tbody tr th:only-of-type {\n",
       "        vertical-align: middle;\n",
       "    }\n",
       "\n",
       "    .dataframe tbody tr th {\n",
       "        vertical-align: top;\n",
       "    }\n",
       "\n",
       "    .dataframe thead th {\n",
       "        text-align: right;\n",
       "    }\n",
       "</style>\n",
       "<table border=\"1\" class=\"dataframe\">\n",
       "  <thead>\n",
       "    <tr style=\"text-align: right;\">\n",
       "      <th></th>\n",
       "      <th>Gender</th>\n",
       "      <th>Existing Customer</th>\n",
       "      <th>State</th>\n",
       "      <th>City</th>\n",
       "      <th>Employment Profile</th>\n",
       "      <th>Occupation</th>\n",
       "    </tr>\n",
       "  </thead>\n",
       "  <tbody>\n",
       "    <tr>\n",
       "      <th>0</th>\n",
       "      <td>Male</td>\n",
       "      <td>No</td>\n",
       "      <td>Karnataka</td>\n",
       "      <td>Mysuru</td>\n",
       "      <td>Salaried</td>\n",
       "      <td>Doctor</td>\n",
       "    </tr>\n",
       "    <tr>\n",
       "      <th>1</th>\n",
       "      <td>Male</td>\n",
       "      <td>No</td>\n",
       "      <td>Karnataka</td>\n",
       "      <td>Bengaluru</td>\n",
       "      <td>Salaried</td>\n",
       "      <td>Software Engineer</td>\n",
       "    </tr>\n",
       "    <tr>\n",
       "      <th>2</th>\n",
       "      <td>Other</td>\n",
       "      <td>Yes</td>\n",
       "      <td>Uttar Pradesh</td>\n",
       "      <td>Kanpur</td>\n",
       "      <td>Salaried</td>\n",
       "      <td>Banker</td>\n",
       "    </tr>\n",
       "    <tr>\n",
       "      <th>3</th>\n",
       "      <td>Female</td>\n",
       "      <td>Yes</td>\n",
       "      <td>Karnataka</td>\n",
       "      <td>Bengaluru</td>\n",
       "      <td>Self-Employed</td>\n",
       "      <td>Contractor</td>\n",
       "    </tr>\n",
       "    <tr>\n",
       "      <th>4</th>\n",
       "      <td>Male</td>\n",
       "      <td>No</td>\n",
       "      <td>Karnataka</td>\n",
       "      <td>Mysuru</td>\n",
       "      <td>Salaried</td>\n",
       "      <td>Teacher</td>\n",
       "    </tr>\n",
       "  </tbody>\n",
       "</table>\n",
       "</div>"
      ],
      "text/plain": [
       "   Gender Existing Customer          State       City Employment Profile  \\\n",
       "0    Male                No      Karnataka     Mysuru           Salaried   \n",
       "1    Male                No      Karnataka  Bengaluru           Salaried   \n",
       "2   Other               Yes  Uttar Pradesh     Kanpur           Salaried   \n",
       "3  Female               Yes      Karnataka  Bengaluru      Self-Employed   \n",
       "4    Male                No      Karnataka     Mysuru           Salaried   \n",
       "\n",
       "          Occupation  \n",
       "0             Doctor  \n",
       "1  Software Engineer  \n",
       "2             Banker  \n",
       "3         Contractor  \n",
       "4            Teacher  "
      ]
     },
     "execution_count": 16,
     "metadata": {},
     "output_type": "execute_result"
    }
   ],
   "source": [
    "# Vemos las variables categóricas\n",
    "X[categoricas].head()"
   ]
  },
  {
   "cell_type": "code",
   "execution_count": 17,
   "id": "d6cf5536-d87f-4a0d-a8ed-3deef3d92281",
   "metadata": {},
   "outputs": [
    {
     "data": {
      "text/html": [
       "<div>\n",
       "<style scoped>\n",
       "    .dataframe tbody tr th:only-of-type {\n",
       "        vertical-align: middle;\n",
       "    }\n",
       "\n",
       "    .dataframe tbody tr th {\n",
       "        vertical-align: top;\n",
       "    }\n",
       "\n",
       "    .dataframe thead th {\n",
       "        text-align: right;\n",
       "    }\n",
       "</style>\n",
       "<table border=\"1\" class=\"dataframe\">\n",
       "  <thead>\n",
       "    <tr style=\"text-align: right;\">\n",
       "      <th></th>\n",
       "      <th>Gender_Female</th>\n",
       "      <th>Gender_Male</th>\n",
       "      <th>Gender_Other</th>\n",
       "      <th>Existing Customer_No</th>\n",
       "      <th>Existing Customer_Yes</th>\n",
       "      <th>State_Delhi</th>\n",
       "      <th>State_Gujarat</th>\n",
       "      <th>State_Karnataka</th>\n",
       "      <th>State_Kerala</th>\n",
       "      <th>State_Maharashtra</th>\n",
       "      <th>...</th>\n",
       "      <th>Occupation_Farmer</th>\n",
       "      <th>Occupation_Graphic Designer</th>\n",
       "      <th>Occupation_Independent Consultant</th>\n",
       "      <th>Occupation_Other</th>\n",
       "      <th>Occupation_Photographer</th>\n",
       "      <th>Occupation_Shopkeeper</th>\n",
       "      <th>Occupation_Software Engineer</th>\n",
       "      <th>Occupation_Student</th>\n",
       "      <th>Occupation_Teacher</th>\n",
       "      <th>Occupation_Writer</th>\n",
       "    </tr>\n",
       "  </thead>\n",
       "  <tbody>\n",
       "    <tr>\n",
       "      <th>0</th>\n",
       "      <td>0</td>\n",
       "      <td>1</td>\n",
       "      <td>0</td>\n",
       "      <td>1</td>\n",
       "      <td>0</td>\n",
       "      <td>0</td>\n",
       "      <td>0</td>\n",
       "      <td>1</td>\n",
       "      <td>0</td>\n",
       "      <td>0</td>\n",
       "      <td>...</td>\n",
       "      <td>0</td>\n",
       "      <td>0</td>\n",
       "      <td>0</td>\n",
       "      <td>0</td>\n",
       "      <td>0</td>\n",
       "      <td>0</td>\n",
       "      <td>0</td>\n",
       "      <td>0</td>\n",
       "      <td>0</td>\n",
       "      <td>0</td>\n",
       "    </tr>\n",
       "    <tr>\n",
       "      <th>1</th>\n",
       "      <td>0</td>\n",
       "      <td>1</td>\n",
       "      <td>0</td>\n",
       "      <td>1</td>\n",
       "      <td>0</td>\n",
       "      <td>0</td>\n",
       "      <td>0</td>\n",
       "      <td>1</td>\n",
       "      <td>0</td>\n",
       "      <td>0</td>\n",
       "      <td>...</td>\n",
       "      <td>0</td>\n",
       "      <td>0</td>\n",
       "      <td>0</td>\n",
       "      <td>0</td>\n",
       "      <td>0</td>\n",
       "      <td>0</td>\n",
       "      <td>1</td>\n",
       "      <td>0</td>\n",
       "      <td>0</td>\n",
       "      <td>0</td>\n",
       "    </tr>\n",
       "    <tr>\n",
       "      <th>2</th>\n",
       "      <td>0</td>\n",
       "      <td>0</td>\n",
       "      <td>1</td>\n",
       "      <td>0</td>\n",
       "      <td>1</td>\n",
       "      <td>0</td>\n",
       "      <td>0</td>\n",
       "      <td>0</td>\n",
       "      <td>0</td>\n",
       "      <td>0</td>\n",
       "      <td>...</td>\n",
       "      <td>0</td>\n",
       "      <td>0</td>\n",
       "      <td>0</td>\n",
       "      <td>0</td>\n",
       "      <td>0</td>\n",
       "      <td>0</td>\n",
       "      <td>0</td>\n",
       "      <td>0</td>\n",
       "      <td>0</td>\n",
       "      <td>0</td>\n",
       "    </tr>\n",
       "    <tr>\n",
       "      <th>3</th>\n",
       "      <td>1</td>\n",
       "      <td>0</td>\n",
       "      <td>0</td>\n",
       "      <td>0</td>\n",
       "      <td>1</td>\n",
       "      <td>0</td>\n",
       "      <td>0</td>\n",
       "      <td>1</td>\n",
       "      <td>0</td>\n",
       "      <td>0</td>\n",
       "      <td>...</td>\n",
       "      <td>0</td>\n",
       "      <td>0</td>\n",
       "      <td>0</td>\n",
       "      <td>0</td>\n",
       "      <td>0</td>\n",
       "      <td>0</td>\n",
       "      <td>0</td>\n",
       "      <td>0</td>\n",
       "      <td>0</td>\n",
       "      <td>0</td>\n",
       "    </tr>\n",
       "    <tr>\n",
       "      <th>4</th>\n",
       "      <td>0</td>\n",
       "      <td>1</td>\n",
       "      <td>0</td>\n",
       "      <td>1</td>\n",
       "      <td>0</td>\n",
       "      <td>0</td>\n",
       "      <td>0</td>\n",
       "      <td>1</td>\n",
       "      <td>0</td>\n",
       "      <td>0</td>\n",
       "      <td>...</td>\n",
       "      <td>0</td>\n",
       "      <td>0</td>\n",
       "      <td>0</td>\n",
       "      <td>0</td>\n",
       "      <td>0</td>\n",
       "      <td>0</td>\n",
       "      <td>0</td>\n",
       "      <td>0</td>\n",
       "      <td>1</td>\n",
       "      <td>0</td>\n",
       "    </tr>\n",
       "  </tbody>\n",
       "</table>\n",
       "<p>5 rows × 58 columns</p>\n",
       "</div>"
      ],
      "text/plain": [
       "   Gender_Female  Gender_Male  Gender_Other  Existing Customer_No  \\\n",
       "0              0            1             0                     1   \n",
       "1              0            1             0                     1   \n",
       "2              0            0             1                     0   \n",
       "3              1            0             0                     0   \n",
       "4              0            1             0                     1   \n",
       "\n",
       "   Existing Customer_Yes  State_Delhi  State_Gujarat  State_Karnataka  \\\n",
       "0                      0            0              0                1   \n",
       "1                      0            0              0                1   \n",
       "2                      1            0              0                0   \n",
       "3                      1            0              0                1   \n",
       "4                      0            0              0                1   \n",
       "\n",
       "   State_Kerala  State_Maharashtra  ...  Occupation_Farmer  \\\n",
       "0             0                  0  ...                  0   \n",
       "1             0                  0  ...                  0   \n",
       "2             0                  0  ...                  0   \n",
       "3             0                  0  ...                  0   \n",
       "4             0                  0  ...                  0   \n",
       "\n",
       "   Occupation_Graphic Designer  Occupation_Independent Consultant  \\\n",
       "0                            0                                  0   \n",
       "1                            0                                  0   \n",
       "2                            0                                  0   \n",
       "3                            0                                  0   \n",
       "4                            0                                  0   \n",
       "\n",
       "   Occupation_Other  Occupation_Photographer  Occupation_Shopkeeper  \\\n",
       "0                 0                        0                      0   \n",
       "1                 0                        0                      0   \n",
       "2                 0                        0                      0   \n",
       "3                 0                        0                      0   \n",
       "4                 0                        0                      0   \n",
       "\n",
       "   Occupation_Software Engineer  Occupation_Student  Occupation_Teacher  \\\n",
       "0                             0                   0                   0   \n",
       "1                             1                   0                   0   \n",
       "2                             0                   0                   0   \n",
       "3                             0                   0                   0   \n",
       "4                             0                   0                   1   \n",
       "\n",
       "   Occupation_Writer  \n",
       "0                  0  \n",
       "1                  0  \n",
       "2                  0  \n",
       "3                  0  \n",
       "4                  0  \n",
       "\n",
       "[5 rows x 58 columns]"
      ]
     },
     "execution_count": 17,
     "metadata": {},
     "output_type": "execute_result"
    }
   ],
   "source": [
    "# Aplicamos un encoding para que tengan valores numericos\n",
    "dummies = pd.get_dummies(X[categoricas])\n",
    "dummies.head()"
   ]
  },
  {
   "cell_type": "code",
   "execution_count": 18,
   "id": "52e946b1-e1c2-4e10-be32-64e1778ffa7a",
   "metadata": {},
   "outputs": [
    {
     "data": {
      "text/plain": [
       "Index(['Gender_Female', 'Gender_Male', 'Gender_Other', 'Existing Customer_No',\n",
       "       'Existing Customer_Yes', 'State_Delhi', 'State_Gujarat',\n",
       "       'State_Karnataka', 'State_Kerala', 'State_Maharashtra',\n",
       "       'State_Rajasthan', 'State_Tamil Nadu', 'State_Telangana',\n",
       "       'State_Uttar Pradesh', 'State_West Bengal', 'City_Ahmedabad',\n",
       "       'City_Bengaluru', 'City_Bishanpura', 'City_Channarayapatna',\n",
       "       'City_Chennai', 'City_Coimbatore', 'City_Dhulagori', 'City_Hyderabad',\n",
       "       'City_Jaipur', 'City_Kanpur', 'City_Kochi', 'City_Kolkata',\n",
       "       'City_Lucknow', 'City_Manjari', 'City_Mumbai', 'City_Mysuru',\n",
       "       'City_Nagpur', 'City_Nellikuppam', 'City_New Delhi', 'City_Pune',\n",
       "       'City_Surat', 'City_Thiruvananthapuram', 'City_Udaipur',\n",
       "       'Employment Profile_Freelancer', 'Employment Profile_Salaried',\n",
       "       'Employment Profile_Self-Employed', 'Employment Profile_Student',\n",
       "       'Employment Profile_Unemployed', 'Occupation_Banker',\n",
       "       'Occupation_Business Owner', 'Occupation_Civil Servant',\n",
       "       'Occupation_Contractor', 'Occupation_Doctor', 'Occupation_Farmer',\n",
       "       'Occupation_Graphic Designer', 'Occupation_Independent Consultant',\n",
       "       'Occupation_Other', 'Occupation_Photographer', 'Occupation_Shopkeeper',\n",
       "       'Occupation_Software Engineer', 'Occupation_Student',\n",
       "       'Occupation_Teacher', 'Occupation_Writer'],\n",
       "      dtype='object')"
      ]
     },
     "execution_count": 18,
     "metadata": {},
     "output_type": "execute_result"
    }
   ],
   "source": [
    "# Chequeamos todas las columnas para ver cuál quitar\n",
    "dummies.columns"
   ]
  },
  {
   "cell_type": "code",
   "execution_count": 20,
   "id": "85c33628-f3f5-4715-ad9a-5aadde40af40",
   "metadata": {},
   "outputs": [],
   "source": [
    "# Eliminamos una columna de cada clase para que sean mutuamente excluyentes\n",
    "X_cat = dummies.drop([\n",
    "    'Gender_Other',\n",
    "    'Existing Customer_No',\n",
    "    'State_West Bengal',\n",
    "    'City_Udaipur',\n",
    "    'Employment Profile_Unemployed',\n",
    "    'Occupation_Other'\n",
    "], axis=1)"
   ]
  },
  {
   "cell_type": "code",
   "execution_count": 23,
   "id": "e0021670-a25b-4184-8f2c-eacb2d7c9b24",
   "metadata": {},
   "outputs": [],
   "source": [
    "# Generamos el nuevo dataframe X con el scaled y el cat\n",
    "X_new = pd.concat([X_scaled, X_cat], axis=1)"
   ]
  },
  {
   "cell_type": "code",
   "execution_count": 24,
   "id": "be6e0615-57ef-4bf1-9b44-4ca173040afb",
   "metadata": {},
   "outputs": [
    {
     "data": {
      "text/plain": [
       "Index(['Age', 'Income', 'Credit History Length', 'Number of Existing Loans',\n",
       "       'Loan Amount', 'Loan Tenure', 'LTV Ratio', 'Profile Score',\n",
       "       'Gender_Female', 'Gender_Male', 'Existing Customer_Yes', 'State_Delhi',\n",
       "       'State_Gujarat', 'State_Karnataka', 'State_Kerala', 'State_Maharashtra',\n",
       "       'State_Rajasthan', 'State_Tamil Nadu', 'State_Telangana',\n",
       "       'State_Uttar Pradesh', 'City_Ahmedabad', 'City_Bengaluru',\n",
       "       'City_Bishanpura', 'City_Channarayapatna', 'City_Chennai',\n",
       "       'City_Coimbatore', 'City_Dhulagori', 'City_Hyderabad', 'City_Jaipur',\n",
       "       'City_Kanpur', 'City_Kochi', 'City_Kolkata', 'City_Lucknow',\n",
       "       'City_Manjari', 'City_Mumbai', 'City_Mysuru', 'City_Nagpur',\n",
       "       'City_Nellikuppam', 'City_New Delhi', 'City_Pune', 'City_Surat',\n",
       "       'City_Thiruvananthapuram', 'Employment Profile_Freelancer',\n",
       "       'Employment Profile_Salaried', 'Employment Profile_Self-Employed',\n",
       "       'Employment Profile_Student', 'Occupation_Banker',\n",
       "       'Occupation_Business Owner', 'Occupation_Civil Servant',\n",
       "       'Occupation_Contractor', 'Occupation_Doctor', 'Occupation_Farmer',\n",
       "       'Occupation_Graphic Designer', 'Occupation_Independent Consultant',\n",
       "       'Occupation_Photographer', 'Occupation_Shopkeeper',\n",
       "       'Occupation_Software Engineer', 'Occupation_Student',\n",
       "       'Occupation_Teacher', 'Occupation_Writer'],\n",
       "      dtype='object')"
      ]
     },
     "execution_count": 24,
     "metadata": {},
     "output_type": "execute_result"
    }
   ],
   "source": [
    "# Revisamos si las columnas son las correspondientes\n",
    "X_new.columns"
   ]
  },
  {
   "cell_type": "code",
   "execution_count": null,
   "id": "0807a74b-9720-4c90-a5d3-b363cf6eb57a",
   "metadata": {},
   "outputs": [],
   "source": []
  }
 ],
 "metadata": {
  "kernelspec": {
   "display_name": "Python 3 (ipykernel)",
   "language": "python",
   "name": "python3"
  },
  "language_info": {
   "codemirror_mode": {
    "name": "ipython",
    "version": 3
   },
   "file_extension": ".py",
   "mimetype": "text/x-python",
   "name": "python",
   "nbconvert_exporter": "python",
   "pygments_lexer": "ipython3",
   "version": "3.11.1"
  }
 },
 "nbformat": 4,
 "nbformat_minor": 5
}
