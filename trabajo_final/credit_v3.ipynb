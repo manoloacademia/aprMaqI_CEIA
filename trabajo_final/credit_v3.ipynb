{
 "cells": [
  {
   "cell_type": "markdown",
   "id": "2647c8a9-e40a-49d2-849d-e694cb712cf4",
   "metadata": {},
   "source": [
    "## Nombre: Pablo Segovia\n",
    "### CEIA - Aprendizaje de Máquina 1\n",
    "#### Dataset: [Credit Profile](https://www.kaggle.com/datasets/yashkmd/credit-profile-two-wheeler-loan-dataset)"
   ]
  },
  {
   "cell_type": "markdown",
   "id": "ea2170f2-02c7-408b-9374-0c86d85df198",
   "metadata": {},
   "source": [
    "### Importamos librerías"
   ]
  },
  {
   "cell_type": "code",
   "execution_count": 4,
   "id": "609e050b-c041-4d07-897e-162f99951d77",
   "metadata": {},
   "outputs": [],
   "source": [
    "# Importamos librerías\n",
    "import matplotlib.pyplot as plt\n",
    "import numpy as np\n",
    "import pandas as pd\n",
    "import seaborn as sns\n",
    "import statsmodels.api as sm"
   ]
  },
  {
   "cell_type": "code",
   "execution_count": 5,
   "id": "227132e2-3dd0-45b2-8cea-f95ba6af82b8",
   "metadata": {},
   "outputs": [],
   "source": [
    "# Importamos librerías de sklearn\n",
    "from sklearn.preprocessing import StandardScaler, OneHotEncoder\n",
    "\n",
    "# Importamos de selección de modelo\n",
    "from sklearn.model_selection import train_test_split\n",
    "\n",
    "# Importamos modelos lineales\n",
    "from sklearn.linear_model import LogisticRegression, LinearRegression\n",
    "\n",
    "# Importamos métricas\n",
    "from sklearn.metrics import r2_score, mean_absolute_error, mean_squared_error, mean_absolute_percentage_error\n",
    "from sklearn.metrics import classification_report, confusion_matrix, auc, roc_curve, ConfusionMatrixDisplay"
   ]
  },
  {
   "cell_type": "markdown",
   "id": "a8696bdf-5856-417d-a088-237734497d82",
   "metadata": {},
   "source": [
    "### Importamos funciones de cálculo"
   ]
  },
  {
   "cell_type": "code",
   "execution_count": null,
   "id": "b4a8a1a4-601b-4368-aa00-e0f8d311c8fd",
   "metadata": {},
   "outputs": [],
   "source": []
  },
  {
   "cell_type": "code",
   "execution_count": null,
   "id": "973dc416-8cfd-41dd-b740-c33a3729d47c",
   "metadata": {},
   "outputs": [],
   "source": []
  },
  {
   "cell_type": "markdown",
   "id": "5ba88668-5a9d-4e82-9a0d-8b9c692fa69c",
   "metadata": {},
   "source": [
    "### Importamos Dataset"
   ]
  },
  {
   "cell_type": "code",
   "execution_count": 8,
   "id": "1d470d46-1651-41a2-ac18-17a31208e3fe",
   "metadata": {},
   "outputs": [],
   "source": [
    "credit = pd.read_csv('credit_data.csv')"
   ]
  },
  {
   "cell_type": "markdown",
   "id": "50e154ce-ab42-43b8-a79a-71b878a4f729",
   "metadata": {},
   "source": [
    "### Exploramos dataset"
   ]
  },
  {
   "cell_type": "code",
   "execution_count": 10,
   "id": "19138f72-0165-431e-932f-11ae1a9edebb",
   "metadata": {},
   "outputs": [
    {
     "data": {
      "text/html": [
       "<div>\n",
       "<style scoped>\n",
       "    .dataframe tbody tr th:only-of-type {\n",
       "        vertical-align: middle;\n",
       "    }\n",
       "\n",
       "    .dataframe tbody tr th {\n",
       "        vertical-align: top;\n",
       "    }\n",
       "\n",
       "    .dataframe thead th {\n",
       "        text-align: right;\n",
       "    }\n",
       "</style>\n",
       "<table border=\"1\" class=\"dataframe\">\n",
       "  <thead>\n",
       "    <tr style=\"text-align: right;\">\n",
       "      <th></th>\n",
       "      <th>Age</th>\n",
       "      <th>Gender</th>\n",
       "      <th>Income</th>\n",
       "      <th>Credit Score</th>\n",
       "      <th>Credit History Length</th>\n",
       "      <th>Number of Existing Loans</th>\n",
       "      <th>Loan Amount</th>\n",
       "      <th>Loan Tenure</th>\n",
       "      <th>Existing Customer</th>\n",
       "      <th>State</th>\n",
       "      <th>City</th>\n",
       "      <th>LTV Ratio</th>\n",
       "      <th>Employment Profile</th>\n",
       "      <th>Profile Score</th>\n",
       "      <th>Occupation</th>\n",
       "    </tr>\n",
       "  </thead>\n",
       "  <tbody>\n",
       "    <tr>\n",
       "      <th>0</th>\n",
       "      <td>31</td>\n",
       "      <td>Male</td>\n",
       "      <td>36000</td>\n",
       "      <td>604</td>\n",
       "      <td>487</td>\n",
       "      <td>5</td>\n",
       "      <td>109373</td>\n",
       "      <td>221</td>\n",
       "      <td>No</td>\n",
       "      <td>Karnataka</td>\n",
       "      <td>Mysuru</td>\n",
       "      <td>90.943430</td>\n",
       "      <td>Salaried</td>\n",
       "      <td>77</td>\n",
       "      <td>Doctor</td>\n",
       "    </tr>\n",
       "    <tr>\n",
       "      <th>1</th>\n",
       "      <td>25</td>\n",
       "      <td>Male</td>\n",
       "      <td>50000</td>\n",
       "      <td>447</td>\n",
       "      <td>386</td>\n",
       "      <td>2</td>\n",
       "      <td>150000</td>\n",
       "      <td>89</td>\n",
       "      <td>No</td>\n",
       "      <td>Karnataka</td>\n",
       "      <td>Bengaluru</td>\n",
       "      <td>91.135253</td>\n",
       "      <td>Salaried</td>\n",
       "      <td>43</td>\n",
       "      <td>Software Engineer</td>\n",
       "    </tr>\n",
       "    <tr>\n",
       "      <th>2</th>\n",
       "      <td>62</td>\n",
       "      <td>Other</td>\n",
       "      <td>178000</td>\n",
       "      <td>850</td>\n",
       "      <td>503</td>\n",
       "      <td>10</td>\n",
       "      <td>69099</td>\n",
       "      <td>110</td>\n",
       "      <td>Yes</td>\n",
       "      <td>Uttar Pradesh</td>\n",
       "      <td>Kanpur</td>\n",
       "      <td>40.000000</td>\n",
       "      <td>Salaried</td>\n",
       "      <td>90</td>\n",
       "      <td>Banker</td>\n",
       "    </tr>\n",
       "    <tr>\n",
       "      <th>3</th>\n",
       "      <td>69</td>\n",
       "      <td>Female</td>\n",
       "      <td>46000</td>\n",
       "      <td>668</td>\n",
       "      <td>349</td>\n",
       "      <td>6</td>\n",
       "      <td>150000</td>\n",
       "      <td>148</td>\n",
       "      <td>Yes</td>\n",
       "      <td>Karnataka</td>\n",
       "      <td>Bengaluru</td>\n",
       "      <td>87.393365</td>\n",
       "      <td>Self-Employed</td>\n",
       "      <td>86</td>\n",
       "      <td>Contractor</td>\n",
       "    </tr>\n",
       "    <tr>\n",
       "      <th>4</th>\n",
       "      <td>52</td>\n",
       "      <td>Male</td>\n",
       "      <td>132000</td>\n",
       "      <td>601</td>\n",
       "      <td>553</td>\n",
       "      <td>5</td>\n",
       "      <td>150000</td>\n",
       "      <td>157</td>\n",
       "      <td>No</td>\n",
       "      <td>Karnataka</td>\n",
       "      <td>Mysuru</td>\n",
       "      <td>66.158757</td>\n",
       "      <td>Salaried</td>\n",
       "      <td>90</td>\n",
       "      <td>Teacher</td>\n",
       "    </tr>\n",
       "  </tbody>\n",
       "</table>\n",
       "</div>"
      ],
      "text/plain": [
       "   Age  Gender  Income  Credit Score  Credit History Length  \\\n",
       "0   31    Male   36000           604                    487   \n",
       "1   25    Male   50000           447                    386   \n",
       "2   62   Other  178000           850                    503   \n",
       "3   69  Female   46000           668                    349   \n",
       "4   52    Male  132000           601                    553   \n",
       "\n",
       "   Number of Existing Loans  Loan Amount  Loan Tenure Existing Customer  \\\n",
       "0                         5       109373          221                No   \n",
       "1                         2       150000           89                No   \n",
       "2                        10        69099          110               Yes   \n",
       "3                         6       150000          148               Yes   \n",
       "4                         5       150000          157                No   \n",
       "\n",
       "           State       City  LTV Ratio Employment Profile  Profile Score  \\\n",
       "0      Karnataka     Mysuru  90.943430           Salaried             77   \n",
       "1      Karnataka  Bengaluru  91.135253           Salaried             43   \n",
       "2  Uttar Pradesh     Kanpur  40.000000           Salaried             90   \n",
       "3      Karnataka  Bengaluru  87.393365      Self-Employed             86   \n",
       "4      Karnataka     Mysuru  66.158757           Salaried             90   \n",
       "\n",
       "          Occupation  \n",
       "0             Doctor  \n",
       "1  Software Engineer  \n",
       "2             Banker  \n",
       "3         Contractor  \n",
       "4            Teacher  "
      ]
     },
     "execution_count": 10,
     "metadata": {},
     "output_type": "execute_result"
    }
   ],
   "source": [
    "# Vemos las primeras 5 filas\n",
    "credit.head()"
   ]
  },
  {
   "cell_type": "code",
   "execution_count": 11,
   "id": "f60e106c-8d70-4425-9098-e76a33fc10ef",
   "metadata": {},
   "outputs": [
    {
     "data": {
      "text/plain": [
       "(279856, 15)"
      ]
     },
     "execution_count": 11,
     "metadata": {},
     "output_type": "execute_result"
    }
   ],
   "source": [
    "credit.shape"
   ]
  },
  {
   "cell_type": "code",
   "execution_count": 12,
   "id": "cfa07fe4-6b97-4ed8-b77e-f309d0fc24cb",
   "metadata": {},
   "outputs": [
    {
     "name": "stdout",
     "output_type": "stream",
     "text": [
      "<class 'pandas.core.frame.DataFrame'>\n",
      "RangeIndex: 279856 entries, 0 to 279855\n",
      "Data columns (total 15 columns):\n",
      " #   Column                    Non-Null Count   Dtype  \n",
      "---  ------                    --------------   -----  \n",
      " 0   Age                       279856 non-null  int64  \n",
      " 1   Gender                    279856 non-null  object \n",
      " 2   Income                    279856 non-null  int64  \n",
      " 3   Credit Score              279856 non-null  int64  \n",
      " 4   Credit History Length     279856 non-null  int64  \n",
      " 5   Number of Existing Loans  279856 non-null  int64  \n",
      " 6   Loan Amount               279856 non-null  int64  \n",
      " 7   Loan Tenure               279856 non-null  int64  \n",
      " 8   Existing Customer         279856 non-null  object \n",
      " 9   State                     279856 non-null  object \n",
      " 10  City                      279856 non-null  object \n",
      " 11  LTV Ratio                 279856 non-null  float64\n",
      " 12  Employment Profile        279856 non-null  object \n",
      " 13  Profile Score             279856 non-null  int64  \n",
      " 14  Occupation                261584 non-null  object \n",
      "dtypes: float64(1), int64(8), object(6)\n",
      "memory usage: 32.0+ MB\n"
     ]
    }
   ],
   "source": [
    "# Analizamos la información de las columnas\n",
    "credit.info()"
   ]
  },
  {
   "cell_type": "code",
   "execution_count": 13,
   "id": "c1122ed5-5d70-4002-8cab-6de51a2c8ff5",
   "metadata": {},
   "outputs": [
    {
     "data": {
      "text/plain": [
       "Age                             0\n",
       "Gender                          0\n",
       "Income                          0\n",
       "Credit Score                    0\n",
       "Credit History Length           0\n",
       "Number of Existing Loans        0\n",
       "Loan Amount                     0\n",
       "Loan Tenure                     0\n",
       "Existing Customer               0\n",
       "State                           0\n",
       "City                            0\n",
       "LTV Ratio                       0\n",
       "Employment Profile              0\n",
       "Profile Score                   0\n",
       "Occupation                  18272\n",
       "dtype: int64"
      ]
     },
     "execution_count": 13,
     "metadata": {},
     "output_type": "execute_result"
    }
   ],
   "source": [
    "# Analizamos los valores nulos para saber si se pueden imputar\n",
    "credit.isnull().sum()"
   ]
  },
  {
   "cell_type": "markdown",
   "id": "1fef4e9d-7f64-4a7a-b9cd-7bf385fa4d9f",
   "metadata": {},
   "source": [
    "- Vemos que la única columna con valores nulos es la de Occupation"
   ]
  },
  {
   "cell_type": "code",
   "execution_count": 15,
   "id": "21ea08e2-aba9-4602-b202-c17ba352ba10",
   "metadata": {},
   "outputs": [
    {
     "data": {
      "text/plain": [
       "Banker                    27760\n",
       "Teacher                   27356\n",
       "Civil Servant             27221\n",
       "Software Engineer         27146\n",
       "Doctor                    26582\n",
       "Shopkeeper                21405\n",
       "Contractor                21090\n",
       "Farmer                    20966\n",
       "Business Owner            20908\n",
       "Student                   18521\n",
       "Graphic Designer           5723\n",
       "Photographer               5706\n",
       "Independent Consultant     5628\n",
       "Writer                     5572\n",
       "Name: Occupation, dtype: int64"
      ]
     },
     "execution_count": 15,
     "metadata": {},
     "output_type": "execute_result"
    }
   ],
   "source": [
    "# Vemos qué contiene esa columna\n",
    "credit.Occupation.value_counts()"
   ]
  },
  {
   "cell_type": "markdown",
   "id": "17e191ef-3724-45ba-b106-c43182943c7c",
   "metadata": {},
   "source": [
    "- Con este valor de nulos intermedio en frecuencia a las ocupaciones, podríamos imputar los nulos como otra ocupación: `Other`."
   ]
  },
  {
   "cell_type": "code",
   "execution_count": 17,
   "id": "9a9befe0-95c2-4070-9dd3-f4c852b2d0bb",
   "metadata": {},
   "outputs": [],
   "source": [
    "# Imputamos los valores nulos como otros\n",
    "credit.Occupation = credit.Occupation.fillna('Other')"
   ]
  },
  {
   "cell_type": "code",
   "execution_count": 18,
   "id": "2a67dda6-57f5-4356-b733-8c02302fd6db",
   "metadata": {},
   "outputs": [
    {
     "data": {
      "text/plain": [
       "Banker                    27760\n",
       "Teacher                   27356\n",
       "Civil Servant             27221\n",
       "Software Engineer         27146\n",
       "Doctor                    26582\n",
       "Shopkeeper                21405\n",
       "Contractor                21090\n",
       "Farmer                    20966\n",
       "Business Owner            20908\n",
       "Student                   18521\n",
       "Other                     18272\n",
       "Graphic Designer           5723\n",
       "Photographer               5706\n",
       "Independent Consultant     5628\n",
       "Writer                     5572\n",
       "Name: Occupation, dtype: int64"
      ]
     },
     "execution_count": 18,
     "metadata": {},
     "output_type": "execute_result"
    }
   ],
   "source": [
    "# Ahora vemos si forma parte de la categorización\n",
    "credit.Occupation.value_counts()"
   ]
  },
  {
   "cell_type": "markdown",
   "id": "f85e0887-9aad-4c40-afd9-dbd05469b009",
   "metadata": {},
   "source": [
    "- Efectivamente vemos que están presentes."
   ]
  },
  {
   "cell_type": "markdown",
   "id": "40639316-ae0c-4ee3-ace7-a6dd28ed9f93",
   "metadata": {},
   "source": [
    "### Separamos las variables"
   ]
  },
  {
   "cell_type": "markdown",
   "id": "2f7965c1-46b7-4887-bbfc-d85f900bbb82",
   "metadata": {},
   "source": [
    "### Age"
   ]
  },
  {
   "cell_type": "code",
   "execution_count": 22,
   "id": "bdd302d4-f50a-43c9-a77c-859b8fc8567d",
   "metadata": {},
   "outputs": [
    {
     "data": {
      "image/png": "[encoded data removed]",
      "text/plain": [
       "<Figure size 640x480 with 1 Axes>"
      ]
     },
     "metadata": {},
     "output_type": "display_data"
    }
   ],
   "source": [
    "# Vemos Age\n",
    "credit.Age.hist();"
   ]
  },
  {
   "cell_type": "code",
   "execution_count": 23,
   "id": "f749c7f4-c196-4974-b7e1-5b03c98e133e",
   "metadata": {},
   "outputs": [
    {
     "data": {
      "text/plain": [
       "([18, 19, 20], [68, 69, 70])"
      ]
     },
     "execution_count": 23,
     "metadata": {},
     "output_type": "execute_result"
    }
   ],
   "source": [
    "sorted(credit.Age.unique().tolist())[:3], sorted(credit.Age.unique().tolist())[-3:]"
   ]
  },
  {
   "cell_type": "markdown",
   "id": "f9b7a7b5-dda7-45e3-a666-31d7806a306d",
   "metadata": {},
   "source": [
    "- Esta variable es entera (numérica).\n",
    "- Se puede decir que tiene una distribución uniforme.\n",
    "- Va desde los 18 hasta los 70 años."
   ]
  },
  {
   "cell_type": "markdown",
   "id": "9e7f1695-4eee-4a1d-871c-24f3f4a566d2",
   "metadata": {},
   "source": [
    "#### Gender"
   ]
  },
  {
   "cell_type": "code",
   "execution_count": 26,
   "id": "dba28946-264b-4b97-9026-7bdc49daa761",
   "metadata": {},
   "outputs": [
    {
     "data": {
      "text/plain": [
       "Female    133145\n",
       "Male      132749\n",
       "Other      13962\n",
       "Name: Gender, dtype: int64"
      ]
     },
     "execution_count": 26,
     "metadata": {},
     "output_type": "execute_result"
    }
   ],
   "source": [
    "# Vemos Gender\n",
    "credit.Gender.value_counts()"
   ]
  },
  {
   "cell_type": "code",
   "execution_count": 27,
   "id": "47261ccc-cb39-4f63-9634-6ce8b3522eaf",
   "metadata": {},
   "outputs": [
    {
     "data": {
      "text/plain": [
       "Other    0.04989\n",
       "Name: Gender, dtype: float64"
      ]
     },
     "execution_count": 27,
     "metadata": {},
     "output_type": "execute_result"
    }
   ],
   "source": [
    "# Veamos cuánto representa \"Other\" en el total\n",
    "credit.Gender[credit.Gender == \"Other\"].value_counts() / len(credit)"
   ]
  },
  {
   "cell_type": "markdown",
   "id": "4a4ba4d8-452d-428f-929c-6d79edf2de89",
   "metadata": {},
   "source": [
    "- Vemos que hombres y mujeres está equilibrado.\n",
    "- Vemos que otros representa solo el 5% del total."
   ]
  },
  {
   "cell_type": "markdown",
   "id": "51562219-1cd2-4fba-926d-bf654932920f",
   "metadata": {},
   "source": [
    "#### Income"
   ]
  },
  {
   "cell_type": "code",
   "execution_count": 30,
   "id": "c9bd406a-4358-4b4a-9c51-64ebab672661",
   "metadata": {},
   "outputs": [
    {
     "data": {
      "image/png": "[encoded data removed]",
      "text/plain": [
       "<Figure size 640x480 with 1 Axes>"
      ]
     },
     "metadata": {},
     "output_type": "display_data"
    }
   ],
   "source": [
    "# Vemos cómo están distribuidos los datos\n",
    "credit.Income.hist();"
   ]
  },
  {
   "cell_type": "code",
   "execution_count": 31,
   "id": "8d57f120-640b-42f2-bddd-32fca4ff9a04",
   "metadata": {},
   "outputs": [
    {
     "data": {
      "text/plain": [
       "0.7087788559099581"
      ]
     },
     "execution_count": 31,
     "metadata": {},
     "output_type": "execute_result"
    }
   ],
   "source": [
    "# Vemos el skewness\n",
    "credit.Income.skew()"
   ]
  },
  {
   "cell_type": "markdown",
   "id": "39ccb3fc-c3f9-412c-a38e-0dc2fb569d2f",
   "metadata": {},
   "source": [
    "- Tienen una distribución conocida con skewness 0.71 por lo tanto podemos hacer una transformación al momento de utilizar un modelo lineal."
   ]
  },
  {
   "cell_type": "markdown",
   "id": "bad19845-367a-4d83-b676-302aec0277d7",
   "metadata": {},
   "source": [
    "#### Credit score (nuestro Label)"
   ]
  },
  {
   "cell_type": "code",
   "execution_count": 34,
   "id": "f398894d-dca3-432f-a8e7-7f793c61e94b",
   "metadata": {},
   "outputs": [
    {
     "data": {
      "image/png": "[encoded data removed]",
      "text/plain": [
       "<Figure size 640x480 with 1 Axes>"
      ]
     },
     "metadata": {},
     "output_type": "display_data"
    }
   ],
   "source": [
    "credit['Credit Score'].hist();"
   ]
  },
  {
   "cell_type": "markdown",
   "id": "7a7819a8-97bf-4c5f-9069-f72e732646b4",
   "metadata": {},
   "source": [
    "- Vemos que también parece una distribución uniforme."
   ]
  },
  {
   "cell_type": "markdown",
   "id": "11e4602b-bfcc-4b97-8fa4-a308f476e208",
   "metadata": {},
   "source": [
    "#### Credit history length"
   ]
  },
  {
   "cell_type": "code",
   "execution_count": 37,
   "id": "e56b346a-73fb-4cfd-99ba-163a58e4a679",
   "metadata": {},
   "outputs": [
    {
     "data": {
      "image/png": "[encoded data removed]",
      "text/plain": [
       "<Figure size 640x480 with 1 Axes>"
      ]
     },
     "metadata": {},
     "output_type": "display_data"
    }
   ],
   "source": [
    "credit['Credit History Length'].hist();"
   ]
  },
  {
   "cell_type": "markdown",
   "id": "b5df94b0-d64a-4632-8e3c-a8bf28a4a394",
   "metadata": {},
   "source": [
    "- Vemos que también la distribución de esta variable es uniforme."
   ]
  },
  {
   "cell_type": "markdown",
   "id": "c4a5211f-884c-438d-96a6-0fea07d7509a",
   "metadata": {},
   "source": [
    "#### Number of Existing Loans"
   ]
  },
  {
   "cell_type": "code",
   "execution_count": 40,
   "id": "cc125b86-edf5-48c9-8484-779025837ddb",
   "metadata": {},
   "outputs": [
    {
     "data": {
      "text/plain": [
       "8     28184\n",
       "4     28059\n",
       "2     27968\n",
       "6     27955\n",
       "5     27950\n",
       "7     27792\n",
       "3     27745\n",
       "0     26590\n",
       "1     24656\n",
       "9     17332\n",
       "10    15625\n",
       "Name: Number of Existing Loans, dtype: int64"
      ]
     },
     "execution_count": 40,
     "metadata": {},
     "output_type": "execute_result"
    }
   ],
   "source": [
    "credit['Number of Existing Loans'].value_counts()"
   ]
  },
  {
   "cell_type": "code",
   "execution_count": 41,
   "id": "1c542227-d036-4900-aee9-4d744d64409a",
   "metadata": {},
   "outputs": [
    {
     "data": {
      "image/png": "[encoded data removed]",
      "text/plain": [
       "<Figure size 640x480 with 1 Axes>"
      ]
     },
     "metadata": {},
     "output_type": "display_data"
    }
   ],
   "source": [
    "credit['Number of Existing Loans'].hist();"
   ]
  },
  {
   "cell_type": "markdown",
   "id": "eeb8153a-ab8d-4232-b5a0-53e45408dd85",
   "metadata": {},
   "source": [
    "- Vemos que es una variable discreta dividida en 11.\n",
    "- La distribución es uniforme.\n",
    "- Podemos considerarla categórica."
   ]
  },
  {
   "cell_type": "markdown",
   "id": "76c14ada-e291-4867-96e8-306758708736",
   "metadata": {},
   "source": [
    "#### Loan amount"
   ]
  },
  {
   "cell_type": "code",
   "execution_count": 44,
   "id": "6132a2fe-3600-4ca7-813a-eda3e0560e6d",
   "metadata": {},
   "outputs": [
    {
     "data": {
      "image/png": "[encoded data removed]",
      "text/plain": [
       "<Figure size 640x480 with 1 Axes>"
      ]
     },
     "metadata": {},
     "output_type": "display_data"
    }
   ],
   "source": [
    "credit['Loan Amount'].hist();"
   ]
  },
  {
   "cell_type": "markdown",
   "id": "04162fbe-838c-4397-8334-54a86e8932cb",
   "metadata": {},
   "source": [
    "- Uno de los valores es el más frecuente. Lo podemos aislar o podemos realizarle una transformación logarítmica y ver cómo se modifica."
   ]
  },
  {
   "cell_type": "code",
   "execution_count": 46,
   "id": "0ec72b3f-4b8a-4466-a7ef-777ff93dd475",
   "metadata": {},
   "outputs": [
    {
     "data": {
      "image/png": "[encoded data removed]",
      "text/plain": [
       "<Figure size 640x480 with 1 Axes>"
      ]
     },
     "metadata": {},
     "output_type": "display_data"
    }
   ],
   "source": [
    "log_loan_amount = np.log(credit['Loan Amount'])\n",
    "log_loan_amount.hist();"
   ]
  },
  {
   "cell_type": "code",
   "execution_count": 47,
   "id": "5b6030ca-24ac-4500-b60a-a9d0c4474d68",
   "metadata": {},
   "outputs": [
    {
     "data": {
      "text/plain": [
       "-1.3901725049556168"
      ]
     },
     "execution_count": 47,
     "metadata": {},
     "output_type": "execute_result"
    }
   ],
   "source": [
    "# Calculamos skewness y vemos si se puede normalizar\n",
    "log_loan_amount.skew()"
   ]
  },
  {
   "cell_type": "markdown",
   "id": "0fe24440-954d-4b7b-8d43-75567e8e33bc",
   "metadata": {},
   "source": [
    "- Podríamos aplicar una transformación Yeo-Johnson."
   ]
  },
  {
   "cell_type": "markdown",
   "id": "a627b554-3e72-45a5-8d50-2519c4e27940",
   "metadata": {},
   "source": [
    "#### Loan tenure"
   ]
  },
  {
   "cell_type": "code",
   "execution_count": 50,
   "id": "70f09f65-f6e2-448e-ad90-df8e90e53580",
   "metadata": {},
   "outputs": [
    {
     "data": {
      "text/plain": [
       "100    1971\n",
       "96     1952\n",
       "81     1930\n",
       "63     1921\n",
       "73     1906\n",
       "       ... \n",
       "250     354\n",
       "301     353\n",
       "324     348\n",
       "255     343\n",
       "319     337\n",
       "Name: Loan Tenure, Length: 348, dtype: int64"
      ]
     },
     "execution_count": 50,
     "metadata": {},
     "output_type": "execute_result"
    }
   ],
   "source": [
    "credit['Loan Tenure'].value_counts()"
   ]
  },
  {
   "cell_type": "code",
   "execution_count": 51,
   "id": "0a00b9c3-8e5b-49c3-aedf-cc9cfa95ba98",
   "metadata": {},
   "outputs": [
    {
     "data": {
      "image/png": "[encoded data removed]",
      "text/plain": [
       "<Figure size 640x480 with 1 Axes>"
      ]
     },
     "metadata": {},
     "output_type": "display_data"
    }
   ],
   "source": [
    "credit['Loan Tenure'].hist(bins=30);"
   ]
  },
  {
   "cell_type": "markdown",
   "id": "aaa98f5e-c3a3-4532-b34b-7235cbf8144f",
   "metadata": {},
   "source": [
    "- Vemos que tiene una distribución poco conocida, pero podríamos separar los valores y definirlo como una categoría."
   ]
  },
  {
   "cell_type": "code",
   "execution_count": 53,
   "id": "6504e125-952f-4390-ac7a-cf5ada735016",
   "metadata": {},
   "outputs": [
    {
     "data": {
      "image/png": "[encoded data removed]",
      "text/plain": [
       "<Figure size 640x480 with 1 Axes>"
      ]
     },
     "metadata": {},
     "output_type": "display_data"
    }
   ],
   "source": [
    "plt.hist(credit['Loan Tenure'], bins=30)\n",
    "plt.xlim([100,150])\n",
    "plt.show()"
   ]
  },
  {
   "cell_type": "markdown",
   "id": "fdf1c655-4e8e-462e-9155-6dcb3fc8ab39",
   "metadata": {},
   "source": [
    "- Vemos que el corte ronda los 115.\n",
    "- Analizamos si queda equilibrado el feature cortando en ese valor."
   ]
  },
  {
   "cell_type": "code",
   "execution_count": 55,
   "id": "bac0fd9b-f260-4226-9dc2-491c37c71c8a",
   "metadata": {},
   "outputs": [
    {
     "data": {
      "text/plain": [
       "0.4170804987874216"
      ]
     },
     "execution_count": 55,
     "metadata": {},
     "output_type": "execute_result"
    }
   ],
   "source": [
    "# Analizamos el cociente de los que tienen menos a los que tienen mas que 115\n",
    "credit['Loan Tenure'][credit['Loan Tenure'] < 115].sum() / credit['Loan Tenure'][credit['Loan Tenure'] >= 115].sum()"
   ]
  },
  {
   "cell_type": "markdown",
   "id": "73631147-6089-42d5-9764-6004734a7b89",
   "metadata": {},
   "source": [
    "- Podemos decir que haciendo un corte en este valor quedamos equilibrados."
   ]
  },
  {
   "cell_type": "markdown",
   "id": "616eff3b-8c7b-41f2-a427-f0fd7bc3120e",
   "metadata": {},
   "source": [
    "#### Existing costumer"
   ]
  },
  {
   "cell_type": "code",
   "execution_count": 58,
   "id": "cb727460-316e-4546-98b1-6fe216adc849",
   "metadata": {},
   "outputs": [
    {
     "data": {
      "text/plain": [
       "No     173952\n",
       "Yes    105904\n",
       "Name: Existing Customer, dtype: int64"
      ]
     },
     "execution_count": 58,
     "metadata": {},
     "output_type": "execute_result"
    }
   ],
   "source": [
    "credit['Existing Customer'].value_counts()"
   ]
  },
  {
   "cell_type": "code",
   "execution_count": 59,
   "id": "fe868f20-972a-4020-802a-731a8df16c55",
   "metadata": {},
   "outputs": [
    {
     "data": {
      "text/plain": [
       "No     0.621577\n",
       "Yes    0.378423\n",
       "Name: Existing Customer, dtype: float64"
      ]
     },
     "execution_count": 59,
     "metadata": {},
     "output_type": "execute_result"
    }
   ],
   "source": [
    "credit['Existing Customer'].value_counts()/len(credit)"
   ]
  },
  {
   "cell_type": "markdown",
   "id": "e9c457d5-23c9-4010-b723-0eaed0e55d74",
   "metadata": {},
   "source": [
    "- Es una variable booleana.\n",
    "- Está equilibrada ~ 60/40."
   ]
  },
  {
   "cell_type": "markdown",
   "id": "e79e1f3d-3c28-4699-96b8-2632a25985fc",
   "metadata": {},
   "source": [
    "#### State"
   ]
  },
  {
   "cell_type": "code",
   "execution_count": 62,
   "id": "b639e316-facd-416a-ae68-755796f60d64",
   "metadata": {},
   "outputs": [
    {
     "data": {
      "text/plain": [
       "Karnataka        28245\n",
       "Telangana        28101\n",
       "Maharashtra      28095\n",
       "Gujarat          28051\n",
       "West Bengal      28050\n",
       "Tamil Nadu       28022\n",
       "Kerala           28011\n",
       "Delhi            27996\n",
       "Uttar Pradesh    27713\n",
       "Rajasthan        27572\n",
       "Name: State, dtype: int64"
      ]
     },
     "execution_count": 62,
     "metadata": {},
     "output_type": "execute_result"
    }
   ],
   "source": [
    "credit.State.value_counts()"
   ]
  },
  {
   "cell_type": "markdown",
   "id": "e3fddd3e-9457-4911-a161-d7c7bfd42a82",
   "metadata": {},
   "source": [
    "- Todas las clases están equilibradas."
   ]
  },
  {
   "cell_type": "markdown",
   "id": "ad374786-cca9-487b-a6a3-4b91b467a9d8",
   "metadata": {},
   "source": [
    "#### City"
   ]
  },
  {
   "cell_type": "code",
   "execution_count": 65,
   "id": "29eda134-aac5-4108-ac8e-90e84a095b3e",
   "metadata": {},
   "outputs": [
    {
     "data": {
      "text/plain": [
       "Kolkata               23900\n",
       "New Delhi             23887\n",
       "Hyderabad             23726\n",
       "Mysuru                12227\n",
       "Udaipur               12012\n",
       "Kanpur                12001\n",
       "Surat                 11969\n",
       "Thiruvananthapuram    11966\n",
       "Coimbatore            11907\n",
       "Ahmedabad             11896\n",
       "Chennai               11797\n",
       "Bengaluru             11777\n",
       "Kochi                 11748\n",
       "Lucknow               11682\n",
       "Jaipur                11482\n",
       "Dhulagori              8527\n",
       "Manjari                8483\n",
       "Bishanpura             8396\n",
       "Nellikuppam            8341\n",
       "Channarayapatna        8242\n",
       "Mumbai                 8093\n",
       "Nagpur                 7923\n",
       "Pune                   7874\n",
       "Name: City, dtype: int64"
      ]
     },
     "execution_count": 65,
     "metadata": {},
     "output_type": "execute_result"
    }
   ],
   "source": [
    "credit.City.value_counts()"
   ]
  },
  {
   "cell_type": "markdown",
   "id": "3a1218e7-9b88-4155-8488-0002eff9b8c0",
   "metadata": {},
   "source": [
    "- Hay tres ciudades que pueden tener un peso elevado.\n",
    "- Se podría analizar separar en 3 categorías; por ahí puede haber mejor interpretación o score."
   ]
  },
  {
   "cell_type": "markdown",
   "id": "d15af3c9-bb78-4d48-9398-84f04869a2c6",
   "metadata": {},
   "source": [
    "#### LTV ratio"
   ]
  },
  {
   "cell_type": "code",
   "execution_count": 68,
   "id": "7c89cfcd-d0c5-420f-bc2e-376d3614dacb",
   "metadata": {},
   "outputs": [
    {
     "data": {
      "image/png": "[encoded data removed]",
      "text/plain": [
       "<Figure size 640x480 with 1 Axes>"
      ]
     },
     "metadata": {},
     "output_type": "display_data"
    }
   ],
   "source": [
    "credit['LTV Ratio'].hist(bins=50);"
   ]
  },
  {
   "cell_type": "markdown",
   "id": "e72178aa-8c2e-4782-8432-846b16833e87",
   "metadata": {},
   "source": [
    "- Tiene una distribución muy extraña. Como si los valores extremos sean límites por exceso y defecto."
   ]
  },
  {
   "cell_type": "markdown",
   "id": "61ca1200-8683-4c21-a277-6d50ec73ac88",
   "metadata": {},
   "source": [
    "#### Employment profile"
   ]
  },
  {
   "cell_type": "code",
   "execution_count": 71,
   "id": "72c87027-092e-4d54-9011-0e3477e7dfdd",
   "metadata": {},
   "outputs": [
    {
     "data": {
      "text/plain": [
       "Salaried         136065\n",
       "Self-Employed     84369\n",
       "Freelancer        22629\n",
       "Student           18521\n",
       "Unemployed        18272\n",
       "Name: Employment Profile, dtype: int64"
      ]
     },
     "execution_count": 71,
     "metadata": {},
     "output_type": "execute_result"
    }
   ],
   "source": [
    "credit['Employment Profile'].value_counts()"
   ]
  },
  {
   "cell_type": "code",
   "execution_count": 72,
   "id": "ddf36dc4-f99c-45a1-9111-d64cca3d667f",
   "metadata": {},
   "outputs": [
    {
     "data": {
      "text/plain": [
       "Salaried         0.486196\n",
       "Self-Employed    0.301473\n",
       "Freelancer       0.080859\n",
       "Student          0.066180\n",
       "Unemployed       0.065291\n",
       "Name: Employment Profile, dtype: float64"
      ]
     },
     "execution_count": 72,
     "metadata": {},
     "output_type": "execute_result"
    }
   ],
   "source": [
    "# Analizamos en porcentajes como están distribuidos\n",
    "credit['Employment Profile'].value_counts()/len(credit)"
   ]
  },
  {
   "cell_type": "markdown",
   "id": "9da99577-f355-48bb-83fc-7ff86150fb27",
   "metadata": {},
   "source": [
    "- La gran mayoría es o asalariado y auto-empleado. El resto podría reducirse a una sola categoría."
   ]
  },
  {
   "cell_type": "markdown",
   "id": "8a207d05-d928-48c9-a863-0937bc2c65e8",
   "metadata": {},
   "source": [
    "#### Profile score"
   ]
  },
  {
   "cell_type": "code",
   "execution_count": 136,
   "id": "a69f6904-f277-4433-a7d9-dd0273050abf",
   "metadata": {},
   "outputs": [
    {
     "data": {
      "text/plain": [
       "100    58495\n",
       "90      8362\n",
       "98      8284\n",
       "95      8257\n",
       "94      8176\n",
       "       ...  \n",
       "3        194\n",
       "4        189\n",
       "5        173\n",
       "2        137\n",
       "1        119\n",
       "Name: Profile Score, Length: 101, dtype: int64"
      ]
     },
     "execution_count": 136,
     "metadata": {},
     "output_type": "execute_result"
    }
   ],
   "source": [
    "credit['Profile Score'].value_counts()"
   ]
  },
  {
   "cell_type": "code",
   "execution_count": 140,
   "id": "c946a12f-e85f-49e1-b05d-a079785dbf5b",
   "metadata": {},
   "outputs": [
    {
     "data": {
      "image/png": "[encoded data removed]",
      "text/plain": [
       "<Figure size 640x480 with 1 Axes>"
      ]
     },
     "metadata": {},
     "output_type": "display_data"
    }
   ],
   "source": [
    "credit['Profile Score'].hist(bins=50);"
   ]
  },
  {
   "cell_type": "markdown",
   "id": "bda21e27-0c09-41b5-b302-c53345fc126b",
   "metadata": {},
   "source": [
    "- Del último histograma se ve que la gran mayoría es mayor a 90.\n",
    "- Se puede probar agrupando en dos categorías y chequear si estan balanceados."
   ]
  },
  {
   "cell_type": "code",
   "execution_count": 150,
   "id": "7e430b42-91af-4837-9f30-cee73dcafc10",
   "metadata": {},
   "outputs": [
    {
     "data": {
      "text/plain": [
       "0.6061210940635955"
      ]
     },
     "execution_count": 150,
     "metadata": {},
     "output_type": "execute_result"
    }
   ],
   "source": [
    "credit['Profile Score'][credit['Profile Score'] < 90].sum() / credit['Profile Score'][credit['Profile Score'] >= 90].sum()"
   ]
  },
  {
   "cell_type": "markdown",
   "id": "0bfc5b03-88c3-4583-928d-2e38fe61d66e",
   "metadata": {},
   "source": [
    "#### Occupation"
   ]
  },
  {
   "cell_type": "code",
   "execution_count": 154,
   "id": "87fa17ab-9238-4f47-bdc9-1a6b891db336",
   "metadata": {},
   "outputs": [
    {
     "data": {
      "text/plain": [
       "Banker                    27760\n",
       "Teacher                   27356\n",
       "Civil Servant             27221\n",
       "Software Engineer         27146\n",
       "Doctor                    26582\n",
       "Shopkeeper                21405\n",
       "Contractor                21090\n",
       "Farmer                    20966\n",
       "Business Owner            20908\n",
       "Student                   18521\n",
       "Other                     18272\n",
       "Graphic Designer           5723\n",
       "Photographer               5706\n",
       "Independent Consultant     5628\n",
       "Writer                     5572\n",
       "Name: Occupation, dtype: int64"
      ]
     },
     "execution_count": 154,
     "metadata": {},
     "output_type": "execute_result"
    }
   ],
   "source": [
    "credit.Occupation.value_counts()"
   ]
  },
  {
   "cell_type": "code",
   "execution_count": null,
   "id": "b3119849-07bc-49d3-8a07-f28509cc6779",
   "metadata": {},
   "outputs": [],
   "source": []
  },
  {
   "cell_type": "markdown",
   "id": "f42d0fa8-e71b-45dd-843f-c4688808664f",
   "metadata": {},
   "source": [
    "## Elegimos nuestro X y nuestro y"
   ]
  },
  {
   "cell_type": "code",
   "execution_count": 76,
   "id": "15408d25-e2ea-458a-b60a-6c6ca3db096b",
   "metadata": {},
   "outputs": [],
   "source": [
    "X = credit.drop('Credit Score', axis=1)\n",
    "y = credit['Credit Score']"
   ]
  },
  {
   "cell_type": "code",
   "execution_count": 77,
   "id": "446c3db7-dc7a-405e-a736-0f4fba96ddeb",
   "metadata": {},
   "outputs": [
    {
     "data": {
      "text/plain": [
       "((279856, 14), (279856,))"
      ]
     },
     "execution_count": 77,
     "metadata": {},
     "output_type": "execute_result"
    }
   ],
   "source": [
    "# Chequeamos cómo queda\n",
    "X.shape, y.shape"
   ]
  },
  {
   "cell_type": "markdown",
   "id": "c2215df4-807f-4105-bd5a-142f8f2cdfa3",
   "metadata": {},
   "source": [
    "### Realizamos el split\n",
    "- Podemos tomar validación ya que son muchos rows.\n",
    "- Tenemos que elegir un seed que nos permita mantener un cierto equilibrio."
   ]
  },
  {
   "cell_type": "code",
   "execution_count": null,
   "id": "da4c6542-3c00-49b1-a05e-2d45f1938ca8",
   "metadata": {},
   "outputs": [],
   "source": []
  },
  {
   "cell_type": "code",
   "execution_count": null,
   "id": "da2671b5-175d-4cd5-a23e-6903daae9216",
   "metadata": {},
   "outputs": [],
   "source": []
  },
  {
   "cell_type": "markdown",
   "id": "d238d4f8-c2c5-4466-a36e-c685f6bd49bc",
   "metadata": {},
   "source": [
    "## Regresión"
   ]
  },
  {
   "cell_type": "code",
   "execution_count": null,
   "id": "1246c817-a20d-4e26-a4c0-9a71ec8b1ffb",
   "metadata": {},
   "outputs": [],
   "source": []
  },
  {
   "cell_type": "code",
   "execution_count": null,
   "id": "40a219f6-1048-4c7b-889f-2265e920356a",
   "metadata": {},
   "outputs": [],
   "source": []
  },
  {
   "cell_type": "code",
   "execution_count": null,
   "id": "b6dfeca6-2e59-4f57-b4db-5b7509d5e666",
   "metadata": {},
   "outputs": [],
   "source": []
  },
  {
   "cell_type": "code",
   "execution_count": null,
   "id": "22201c6b-43c5-42c4-9373-96452b0410fa",
   "metadata": {},
   "outputs": [],
   "source": []
  },
  {
   "cell_type": "code",
   "execution_count": null,
   "id": "7d626478-6fcc-4d23-9853-e7a1e8ff1882",
   "metadata": {},
   "outputs": [],
   "source": []
  },
  {
   "cell_type": "code",
   "execution_count": null,
   "id": "4d08a2be-e076-4c66-997f-9063349cd1d2",
   "metadata": {},
   "outputs": [],
   "source": []
  },
  {
   "cell_type": "code",
   "execution_count": null,
   "id": "26fed24d-8657-4e41-b053-529f62e53807",
   "metadata": {},
   "outputs": [],
   "source": []
  },
  {
   "cell_type": "code",
   "execution_count": null,
   "id": "9cf4c7ba-ccd3-406d-a95d-2ee537c19222",
   "metadata": {},
   "outputs": [],
   "source": []
  },
  {
   "cell_type": "code",
   "execution_count": null,
   "id": "1fd02602-15d8-4f2f-8afa-7ceba012c515",
   "metadata": {},
   "outputs": [],
   "source": []
  }
 ],
 "metadata": {
  "kernelspec": {
   "display_name": "anaconda-panel-2023.05-py310",
   "language": "python",
   "name": "conda-env-anaconda-panel-2023.05-py310-py"
  },
  "language_info": {
   "codemirror_mode": {
    "name": "ipython",
    "version": 3
   },
   "file_extension": ".py",
   "mimetype": "text/x-python",
   "name": "python",
   "nbconvert_exporter": "python",
   "pygments_lexer": "ipython3",
   "version": "3.11.4"
  }
 },
 "nbformat": 4,
 "nbformat_minor": 5
}
